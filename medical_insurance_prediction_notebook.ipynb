{
 "cells": [
  {
   "cell_type": "markdown",
   "metadata": {
    "colab_type": "text",
    "id": "M27qF7CTrBqc"
   },
   "source": [
    "# TASK #1: UNDERSTAND THE PROBLEM STATEMENT "
   ]
  },
  {
   "cell_type": "markdown",
   "metadata": {
    "colab_type": "text",
    "id": "xNl52nl3qiyL"
   },
   "source": [
    "\n",
    "- Aim of the problem is to find the health insurance cost incured by Individuals based on thier age, gender, BMI, number of children, smoking habit and geo-location.\n",
    "\n",
    "- Features available are:\n",
    "\n",
    "    - sex: insurance contractor gender, female, male\n",
    "\n",
    "    - bmi: Body mass index (ideally 18.5 to 24.9)\n",
    "\n",
    "    - children: Number of children covered by health insurance / Number of dependents\n",
    "\n",
    "    - smoker: smoking habits\n",
    "\n",
    "    - region: the beneficiary's residential area in the US, northeast, southeast, southwest, northwest.\n",
    "\n",
    "    - charges: Individual medical costs billed by health insurance\n",
    "\n",
    "\n",
    "Data Source:https://www.kaggle.com/mirichoi0218/insurance"
   ]
  },
  {
   "cell_type": "markdown",
   "metadata": {
    "colab_type": "text",
    "id": "zKmFmyaGunc7"
   },
   "source": [
    "# TASK #2: IMPORT LIBRARIES AND DATASETS"
   ]
  },
  {
   "cell_type": "markdown",
   "metadata": {},
   "source": [
    "TYPES OF AVAILABLE SAGEMAKER IMAGES \n",
    "- Data Science [datascience-1.0]: Data Science is a Conda image with the most commonly used Python packages and libraries, such as NumPy and SciKit Learn.\n",
    "- Base Python [python-3.6]\n",
    "- MXNet (optimized for CPU) [mxnet-1.6-cpu-py36]\n",
    "- MXNet (optimized for GPU) [mxnet-1.6-gpu-py36]\n",
    "- PyTorch (optimized for CPU) [pytorch-1.4-cpu-py36]\n",
    "- PyTorch (optimized for GPU) [pytorch-1.4-gpu-py36]\n",
    "- TensorFlow (optimized for CPU) [tensorflow-1.15-cpu-py36]\n",
    "- TensorFlow (optimized for GPU) [tensorflow-1.15-gpu-py36]\n",
    "- TensorFlow 2 (optimized for CPU) [tensorflow-2.1-cpu-py36]\n",
    "- TensorFlow 2 (optimized for GPU) [tensorflow-2.1-gpu-py36]"
   ]
  },
  {
   "cell_type": "code",
   "execution_count": 1,
   "metadata": {
    "colab": {
     "base_uri": "https://localhost:8080/",
     "height": 71
    },
    "colab_type": "code",
    "id": "S0Cx3743urFY",
    "outputId": "b820039b-7ccb-4a68-8206-77bae97680dc",
    "scrolled": true
   },
   "outputs": [],
   "source": [
    "import pandas as pd\n",
    "import numpy as np\n",
    "import seaborn as sns\n",
    "import matplotlib.pyplot as plt\n"
   ]
  },
  {
   "cell_type": "markdown",
   "metadata": {},
   "source": [
    "MINI CHALLENGE\n",
    "- Read the CSV file \"insurance.csv\" using pandas \n",
    "- Visualize the first and last 5 rows "
   ]
  },
  {
   "cell_type": "code",
   "execution_count": 5,
   "metadata": {
    "colab": {},
    "colab_type": "code",
    "id": "tjIiJdM4u1IE"
   },
   "outputs": [],
   "source": [
    "# read the csv file \n",
    "insurance_df = pd.read_csv('insurance.csv')"
   ]
  },
  {
   "cell_type": "code",
   "execution_count": null,
   "metadata": {
    "colab": {
     "base_uri": "https://localhost:8080/",
     "height": 204
    },
    "colab_type": "code",
    "id": "q4_wPDKCu5Uc",
    "outputId": "886d2aaf-0205-4f46-96a7-629d0f367d2f"
   },
   "outputs": [],
   "source": []
  },
  {
   "cell_type": "markdown",
   "metadata": {
    "colab_type": "text",
    "id": "tMcr7xqMQre2"
   },
   "source": [
    "# TASK #3: PERFORM EXPLORATORY DATA ANALYSIS:"
   ]
  },
  {
   "cell_type": "code",
   "execution_count": 6,
   "metadata": {},
   "outputs": [
    {
     "data": {
      "text/plain": [
       "<matplotlib.axes._subplots.AxesSubplot at 0x7f681d1a8c50>"
      ]
     },
     "execution_count": 6,
     "metadata": {},
     "output_type": "execute_result"
    },
    {
     "data": {
      "image/png": "[encoded data removed]",
      "text/plain": [
       "<Figure size 432x288 with 1 Axes>"
      ]
     },
     "metadata": {
      "needs_background": "light"
     },
     "output_type": "display_data"
    }
   ],
   "source": [
    "# check if there are any Null values\n",
    "sns.heatmap(insurance_df.isnull(), yticklabels = False, cbar = False, cmap=\"Blues\")\n"
   ]
  },
  {
   "cell_type": "code",
   "execution_count": 7,
   "metadata": {
    "colab": {
     "base_uri": "https://localhost:8080/",
     "height": 170
    },
    "colab_type": "code",
    "id": "6JYkJo9pYaet",
    "outputId": "fcc89a98-b0a9-499d-acde-e480e78dccfc"
   },
   "outputs": [
    {
     "data": {
      "text/plain": [
       "age         0\n",
       "sex         0\n",
       "bmi         0\n",
       "children    0\n",
       "smoker      0\n",
       "region      0\n",
       "charges     0\n",
       "dtype: int64"
      ]
     },
     "execution_count": 7,
     "metadata": {},
     "output_type": "execute_result"
    }
   ],
   "source": [
    "# check if there are any Null values\n",
    "insurance_df.isnull().sum()"
   ]
  },
  {
   "cell_type": "code",
   "execution_count": 8,
   "metadata": {
    "colab": {
     "base_uri": "https://localhost:8080/",
     "height": 272
    },
    "colab_type": "code",
    "id": "hMq3-KWOx0e1",
    "outputId": "22a5b184-1f07-46ef-dfc1-f8377fd7042f",
    "scrolled": true
   },
   "outputs": [
    {
     "name": "stdout",
     "output_type": "stream",
     "text": [
      "<class 'pandas.core.frame.DataFrame'>\n",
      "RangeIndex: 1338 entries, 0 to 1337\n",
      "Data columns (total 7 columns):\n",
      " #   Column    Non-Null Count  Dtype  \n",
      "---  ------    --------------  -----  \n",
      " 0   age       1338 non-null   int64  \n",
      " 1   sex       1338 non-null   object \n",
      " 2   bmi       1338 non-null   float64\n",
      " 3   children  1338 non-null   int64  \n",
      " 4   smoker    1338 non-null   object \n",
      " 5   region    1338 non-null   object \n",
      " 6   charges   1338 non-null   float64\n",
      "dtypes: float64(2), int64(2), object(3)\n",
      "memory usage: 73.3+ KB\n"
     ]
    }
   ],
   "source": [
    "# Check the dataframe info\n",
    "\n",
    "insurance_df.info()"
   ]
  },
  {
   "cell_type": "code",
   "execution_count": 9,
   "metadata": {},
   "outputs": [
    {
     "data": {
      "text/html": [
       "<div>\n",
       "<style scoped>\n",
       "    .dataframe tbody tr th:only-of-type {\n",
       "        vertical-align: middle;\n",
       "    }\n",
       "\n",
       "    .dataframe tbody tr th {\n",
       "        vertical-align: top;\n",
       "    }\n",
       "\n",
       "    .dataframe thead th {\n",
       "        text-align: right;\n",
       "    }\n",
       "</style>\n",
       "<table border=\"1\" class=\"dataframe\">\n",
       "  <thead>\n",
       "    <tr style=\"text-align: right;\">\n",
       "      <th></th>\n",
       "      <th>age</th>\n",
       "      <th>bmi</th>\n",
       "      <th>children</th>\n",
       "      <th>charges</th>\n",
       "    </tr>\n",
       "    <tr>\n",
       "      <th>region</th>\n",
       "      <th></th>\n",
       "      <th></th>\n",
       "      <th></th>\n",
       "      <th></th>\n",
       "    </tr>\n",
       "  </thead>\n",
       "  <tbody>\n",
       "    <tr>\n",
       "      <th>northeast</th>\n",
       "      <td>39.268519</td>\n",
       "      <td>29.173503</td>\n",
       "      <td>1.046296</td>\n",
       "      <td>13406.384516</td>\n",
       "    </tr>\n",
       "    <tr>\n",
       "      <th>northwest</th>\n",
       "      <td>39.196923</td>\n",
       "      <td>29.199785</td>\n",
       "      <td>1.147692</td>\n",
       "      <td>12417.575374</td>\n",
       "    </tr>\n",
       "    <tr>\n",
       "      <th>southeast</th>\n",
       "      <td>38.939560</td>\n",
       "      <td>33.355989</td>\n",
       "      <td>1.049451</td>\n",
       "      <td>14735.411438</td>\n",
       "    </tr>\n",
       "    <tr>\n",
       "      <th>southwest</th>\n",
       "      <td>39.455385</td>\n",
       "      <td>30.596615</td>\n",
       "      <td>1.141538</td>\n",
       "      <td>12346.937377</td>\n",
       "    </tr>\n",
       "  </tbody>\n",
       "</table>\n",
       "</div>"
      ],
      "text/plain": [
       "                 age        bmi  children       charges\n",
       "region                                                 \n",
       "northeast  39.268519  29.173503  1.046296  13406.384516\n",
       "northwest  39.196923  29.199785  1.147692  12417.575374\n",
       "southeast  38.939560  33.355989  1.049451  14735.411438\n",
       "southwest  39.455385  30.596615  1.141538  12346.937377"
      ]
     },
     "execution_count": 9,
     "metadata": {},
     "output_type": "execute_result"
    }
   ],
   "source": [
    "# Grouping by region to see any relationship between region and charges\n",
    "# Seems like south east region has the highest charges and body mass index\n",
    "df_region = insurance_df.groupby(by='region').mean()\n",
    "df_region"
   ]
  },
  {
   "cell_type": "markdown",
   "metadata": {},
   "source": [
    "MINI CHALLENGE\n",
    "- Group data by 'age' and examine the relationship between 'age' and 'charges'\n"
   ]
  },
  {
   "cell_type": "code",
   "execution_count": null,
   "metadata": {},
   "outputs": [],
   "source": []
  },
  {
   "cell_type": "code",
   "execution_count": 10,
   "metadata": {},
   "outputs": [
    {
     "data": {
      "text/plain": [
       "array(['female', 'male'], dtype=object)"
      ]
     },
     "execution_count": 10,
     "metadata": {},
     "output_type": "execute_result"
    }
   ],
   "source": [
    "# Check unique values in the 'sex' column\n",
    "insurance_df['sex'].unique()"
   ]
  },
  {
   "cell_type": "code",
   "execution_count": 11,
   "metadata": {},
   "outputs": [],
   "source": [
    "# convert categorical variable to numerical\n",
    "\n",
    "insurance_df['sex'] = insurance_df['sex'].apply(lambda x: 0 if x == 'female' else 1)"
   ]
  },
  {
   "cell_type": "code",
   "execution_count": 12,
   "metadata": {},
   "outputs": [
    {
     "data": {
      "text/html": [
       "<div>\n",
       "<style scoped>\n",
       "    .dataframe tbody tr th:only-of-type {\n",
       "        vertical-align: middle;\n",
       "    }\n",
       "\n",
       "    .dataframe tbody tr th {\n",
       "        vertical-align: top;\n",
       "    }\n",
       "\n",
       "    .dataframe thead th {\n",
       "        text-align: right;\n",
       "    }\n",
       "</style>\n",
       "<table border=\"1\" class=\"dataframe\">\n",
       "  <thead>\n",
       "    <tr style=\"text-align: right;\">\n",
       "      <th></th>\n",
       "      <th>age</th>\n",
       "      <th>sex</th>\n",
       "      <th>bmi</th>\n",
       "      <th>children</th>\n",
       "      <th>smoker</th>\n",
       "      <th>region</th>\n",
       "      <th>charges</th>\n",
       "    </tr>\n",
       "  </thead>\n",
       "  <tbody>\n",
       "    <tr>\n",
       "      <th>0</th>\n",
       "      <td>19</td>\n",
       "      <td>0</td>\n",
       "      <td>27.900</td>\n",
       "      <td>0</td>\n",
       "      <td>yes</td>\n",
       "      <td>southwest</td>\n",
       "      <td>16884.92400</td>\n",
       "    </tr>\n",
       "    <tr>\n",
       "      <th>1</th>\n",
       "      <td>18</td>\n",
       "      <td>1</td>\n",
       "      <td>33.770</td>\n",
       "      <td>1</td>\n",
       "      <td>no</td>\n",
       "      <td>southeast</td>\n",
       "      <td>1725.55230</td>\n",
       "    </tr>\n",
       "    <tr>\n",
       "      <th>2</th>\n",
       "      <td>28</td>\n",
       "      <td>1</td>\n",
       "      <td>33.000</td>\n",
       "      <td>3</td>\n",
       "      <td>no</td>\n",
       "      <td>southeast</td>\n",
       "      <td>4449.46200</td>\n",
       "    </tr>\n",
       "    <tr>\n",
       "      <th>3</th>\n",
       "      <td>33</td>\n",
       "      <td>1</td>\n",
       "      <td>22.705</td>\n",
       "      <td>0</td>\n",
       "      <td>no</td>\n",
       "      <td>northwest</td>\n",
       "      <td>21984.47061</td>\n",
       "    </tr>\n",
       "    <tr>\n",
       "      <th>4</th>\n",
       "      <td>32</td>\n",
       "      <td>1</td>\n",
       "      <td>28.880</td>\n",
       "      <td>0</td>\n",
       "      <td>no</td>\n",
       "      <td>northwest</td>\n",
       "      <td>3866.85520</td>\n",
       "    </tr>\n",
       "  </tbody>\n",
       "</table>\n",
       "</div>"
      ],
      "text/plain": [
       "   age  sex     bmi  children smoker     region      charges\n",
       "0   19    0  27.900         0    yes  southwest  16884.92400\n",
       "1   18    1  33.770         1     no  southeast   1725.55230\n",
       "2   28    1  33.000         3     no  southeast   4449.46200\n",
       "3   33    1  22.705         0     no  northwest  21984.47061\n",
       "4   32    1  28.880         0     no  northwest   3866.85520"
      ]
     },
     "execution_count": 12,
     "metadata": {},
     "output_type": "execute_result"
    }
   ],
   "source": [
    "insurance_df.head()"
   ]
  },
  {
   "cell_type": "code",
   "execution_count": 13,
   "metadata": {},
   "outputs": [
    {
     "data": {
      "text/plain": [
       "array(['yes', 'no'], dtype=object)"
      ]
     },
     "execution_count": 13,
     "metadata": {},
     "output_type": "execute_result"
    }
   ],
   "source": [
    "# Check the unique values in the 'smoker' column\n",
    "insurance_df['smoker'].unique()"
   ]
  },
  {
   "cell_type": "code",
   "execution_count": 14,
   "metadata": {},
   "outputs": [],
   "source": [
    "# Convert categorical variable to numerical \n",
    "\n",
    "insurance_df['smoker'] = insurance_df['smoker'].apply(lambda x: 0 if x == 'no' else 1)"
   ]
  },
  {
   "cell_type": "code",
   "execution_count": 15,
   "metadata": {},
   "outputs": [
    {
     "data": {
      "text/html": [
       "<div>\n",
       "<style scoped>\n",
       "    .dataframe tbody tr th:only-of-type {\n",
       "        vertical-align: middle;\n",
       "    }\n",
       "\n",
       "    .dataframe tbody tr th {\n",
       "        vertical-align: top;\n",
       "    }\n",
       "\n",
       "    .dataframe thead th {\n",
       "        text-align: right;\n",
       "    }\n",
       "</style>\n",
       "<table border=\"1\" class=\"dataframe\">\n",
       "  <thead>\n",
       "    <tr style=\"text-align: right;\">\n",
       "      <th></th>\n",
       "      <th>age</th>\n",
       "      <th>sex</th>\n",
       "      <th>bmi</th>\n",
       "      <th>children</th>\n",
       "      <th>smoker</th>\n",
       "      <th>region</th>\n",
       "      <th>charges</th>\n",
       "    </tr>\n",
       "  </thead>\n",
       "  <tbody>\n",
       "    <tr>\n",
       "      <th>0</th>\n",
       "      <td>19</td>\n",
       "      <td>0</td>\n",
       "      <td>27.900</td>\n",
       "      <td>0</td>\n",
       "      <td>1</td>\n",
       "      <td>southwest</td>\n",
       "      <td>16884.92400</td>\n",
       "    </tr>\n",
       "    <tr>\n",
       "      <th>1</th>\n",
       "      <td>18</td>\n",
       "      <td>1</td>\n",
       "      <td>33.770</td>\n",
       "      <td>1</td>\n",
       "      <td>0</td>\n",
       "      <td>southeast</td>\n",
       "      <td>1725.55230</td>\n",
       "    </tr>\n",
       "    <tr>\n",
       "      <th>2</th>\n",
       "      <td>28</td>\n",
       "      <td>1</td>\n",
       "      <td>33.000</td>\n",
       "      <td>3</td>\n",
       "      <td>0</td>\n",
       "      <td>southeast</td>\n",
       "      <td>4449.46200</td>\n",
       "    </tr>\n",
       "    <tr>\n",
       "      <th>3</th>\n",
       "      <td>33</td>\n",
       "      <td>1</td>\n",
       "      <td>22.705</td>\n",
       "      <td>0</td>\n",
       "      <td>0</td>\n",
       "      <td>northwest</td>\n",
       "      <td>21984.47061</td>\n",
       "    </tr>\n",
       "    <tr>\n",
       "      <th>4</th>\n",
       "      <td>32</td>\n",
       "      <td>1</td>\n",
       "      <td>28.880</td>\n",
       "      <td>0</td>\n",
       "      <td>0</td>\n",
       "      <td>northwest</td>\n",
       "      <td>3866.85520</td>\n",
       "    </tr>\n",
       "  </tbody>\n",
       "</table>\n",
       "</div>"
      ],
      "text/plain": [
       "   age  sex     bmi  children  smoker     region      charges\n",
       "0   19    0  27.900         0       1  southwest  16884.92400\n",
       "1   18    1  33.770         1       0  southeast   1725.55230\n",
       "2   28    1  33.000         3       0  southeast   4449.46200\n",
       "3   33    1  22.705         0       0  northwest  21984.47061\n",
       "4   32    1  28.880         0       0  northwest   3866.85520"
      ]
     },
     "execution_count": 15,
     "metadata": {},
     "output_type": "execute_result"
    }
   ],
   "source": [
    "insurance_df.head()"
   ]
  },
  {
   "cell_type": "code",
   "execution_count": 16,
   "metadata": {},
   "outputs": [
    {
     "data": {
      "text/plain": [
       "array(['southwest', 'southeast', 'northwest', 'northeast'], dtype=object)"
      ]
     },
     "execution_count": 16,
     "metadata": {},
     "output_type": "execute_result"
    }
   ],
   "source": [
    "# Check unique values in 'region' column\n",
    "insurance_df['region'].unique()"
   ]
  },
  {
   "cell_type": "code",
   "execution_count": 17,
   "metadata": {},
   "outputs": [],
   "source": [
    "region_dummies = pd.get_dummies(insurance_df['region'], drop_first = True)\n"
   ]
  },
  {
   "cell_type": "code",
   "execution_count": 18,
   "metadata": {},
   "outputs": [
    {
     "data": {
      "text/html": [
       "<div>\n",
       "<style scoped>\n",
       "    .dataframe tbody tr th:only-of-type {\n",
       "        vertical-align: middle;\n",
       "    }\n",
       "\n",
       "    .dataframe tbody tr th {\n",
       "        vertical-align: top;\n",
       "    }\n",
       "\n",
       "    .dataframe thead th {\n",
       "        text-align: right;\n",
       "    }\n",
       "</style>\n",
       "<table border=\"1\" class=\"dataframe\">\n",
       "  <thead>\n",
       "    <tr style=\"text-align: right;\">\n",
       "      <th></th>\n",
       "      <th>northwest</th>\n",
       "      <th>southeast</th>\n",
       "      <th>southwest</th>\n",
       "    </tr>\n",
       "  </thead>\n",
       "  <tbody>\n",
       "    <tr>\n",
       "      <th>0</th>\n",
       "      <td>0</td>\n",
       "      <td>0</td>\n",
       "      <td>1</td>\n",
       "    </tr>\n",
       "    <tr>\n",
       "      <th>1</th>\n",
       "      <td>0</td>\n",
       "      <td>1</td>\n",
       "      <td>0</td>\n",
       "    </tr>\n",
       "    <tr>\n",
       "      <th>2</th>\n",
       "      <td>0</td>\n",
       "      <td>1</td>\n",
       "      <td>0</td>\n",
       "    </tr>\n",
       "    <tr>\n",
       "      <th>3</th>\n",
       "      <td>1</td>\n",
       "      <td>0</td>\n",
       "      <td>0</td>\n",
       "    </tr>\n",
       "    <tr>\n",
       "      <th>4</th>\n",
       "      <td>1</td>\n",
       "      <td>0</td>\n",
       "      <td>0</td>\n",
       "    </tr>\n",
       "    <tr>\n",
       "      <th>...</th>\n",
       "      <td>...</td>\n",
       "      <td>...</td>\n",
       "      <td>...</td>\n",
       "    </tr>\n",
       "    <tr>\n",
       "      <th>1333</th>\n",
       "      <td>1</td>\n",
       "      <td>0</td>\n",
       "      <td>0</td>\n",
       "    </tr>\n",
       "    <tr>\n",
       "      <th>1334</th>\n",
       "      <td>0</td>\n",
       "      <td>0</td>\n",
       "      <td>0</td>\n",
       "    </tr>\n",
       "    <tr>\n",
       "      <th>1335</th>\n",
       "      <td>0</td>\n",
       "      <td>1</td>\n",
       "      <td>0</td>\n",
       "    </tr>\n",
       "    <tr>\n",
       "      <th>1336</th>\n",
       "      <td>0</td>\n",
       "      <td>0</td>\n",
       "      <td>1</td>\n",
       "    </tr>\n",
       "    <tr>\n",
       "      <th>1337</th>\n",
       "      <td>1</td>\n",
       "      <td>0</td>\n",
       "      <td>0</td>\n",
       "    </tr>\n",
       "  </tbody>\n",
       "</table>\n",
       "<p>1338 rows × 3 columns</p>\n",
       "</div>"
      ],
      "text/plain": [
       "      northwest  southeast  southwest\n",
       "0             0          0          1\n",
       "1             0          1          0\n",
       "2             0          1          0\n",
       "3             1          0          0\n",
       "4             1          0          0\n",
       "...         ...        ...        ...\n",
       "1333          1          0          0\n",
       "1334          0          0          0\n",
       "1335          0          1          0\n",
       "1336          0          0          1\n",
       "1337          1          0          0\n",
       "\n",
       "[1338 rows x 3 columns]"
      ]
     },
     "execution_count": 18,
     "metadata": {},
     "output_type": "execute_result"
    }
   ],
   "source": [
    "region_dummies"
   ]
  },
  {
   "cell_type": "code",
   "execution_count": 19,
   "metadata": {},
   "outputs": [],
   "source": [
    "insurance_df = pd.concat([insurance_df, region_dummies], axis = 1)"
   ]
  },
  {
   "cell_type": "code",
   "execution_count": 20,
   "metadata": {},
   "outputs": [
    {
     "data": {
      "text/html": [
       "<div>\n",
       "<style scoped>\n",
       "    .dataframe tbody tr th:only-of-type {\n",
       "        vertical-align: middle;\n",
       "    }\n",
       "\n",
       "    .dataframe tbody tr th {\n",
       "        vertical-align: top;\n",
       "    }\n",
       "\n",
       "    .dataframe thead th {\n",
       "        text-align: right;\n",
       "    }\n",
       "</style>\n",
       "<table border=\"1\" class=\"dataframe\">\n",
       "  <thead>\n",
       "    <tr style=\"text-align: right;\">\n",
       "      <th></th>\n",
       "      <th>age</th>\n",
       "      <th>sex</th>\n",
       "      <th>bmi</th>\n",
       "      <th>children</th>\n",
       "      <th>smoker</th>\n",
       "      <th>region</th>\n",
       "      <th>charges</th>\n",
       "      <th>northwest</th>\n",
       "      <th>southeast</th>\n",
       "      <th>southwest</th>\n",
       "    </tr>\n",
       "  </thead>\n",
       "  <tbody>\n",
       "    <tr>\n",
       "      <th>0</th>\n",
       "      <td>19</td>\n",
       "      <td>0</td>\n",
       "      <td>27.900</td>\n",
       "      <td>0</td>\n",
       "      <td>1</td>\n",
       "      <td>southwest</td>\n",
       "      <td>16884.92400</td>\n",
       "      <td>0</td>\n",
       "      <td>0</td>\n",
       "      <td>1</td>\n",
       "    </tr>\n",
       "    <tr>\n",
       "      <th>1</th>\n",
       "      <td>18</td>\n",
       "      <td>1</td>\n",
       "      <td>33.770</td>\n",
       "      <td>1</td>\n",
       "      <td>0</td>\n",
       "      <td>southeast</td>\n",
       "      <td>1725.55230</td>\n",
       "      <td>0</td>\n",
       "      <td>1</td>\n",
       "      <td>0</td>\n",
       "    </tr>\n",
       "    <tr>\n",
       "      <th>2</th>\n",
       "      <td>28</td>\n",
       "      <td>1</td>\n",
       "      <td>33.000</td>\n",
       "      <td>3</td>\n",
       "      <td>0</td>\n",
       "      <td>southeast</td>\n",
       "      <td>4449.46200</td>\n",
       "      <td>0</td>\n",
       "      <td>1</td>\n",
       "      <td>0</td>\n",
       "    </tr>\n",
       "    <tr>\n",
       "      <th>3</th>\n",
       "      <td>33</td>\n",
       "      <td>1</td>\n",
       "      <td>22.705</td>\n",
       "      <td>0</td>\n",
       "      <td>0</td>\n",
       "      <td>northwest</td>\n",
       "      <td>21984.47061</td>\n",
       "      <td>1</td>\n",
       "      <td>0</td>\n",
       "      <td>0</td>\n",
       "    </tr>\n",
       "    <tr>\n",
       "      <th>4</th>\n",
       "      <td>32</td>\n",
       "      <td>1</td>\n",
       "      <td>28.880</td>\n",
       "      <td>0</td>\n",
       "      <td>0</td>\n",
       "      <td>northwest</td>\n",
       "      <td>3866.85520</td>\n",
       "      <td>1</td>\n",
       "      <td>0</td>\n",
       "      <td>0</td>\n",
       "    </tr>\n",
       "  </tbody>\n",
       "</table>\n",
       "</div>"
      ],
      "text/plain": [
       "   age  sex     bmi  children  smoker     region      charges  northwest  \\\n",
       "0   19    0  27.900         0       1  southwest  16884.92400          0   \n",
       "1   18    1  33.770         1       0  southeast   1725.55230          0   \n",
       "2   28    1  33.000         3       0  southeast   4449.46200          0   \n",
       "3   33    1  22.705         0       0  northwest  21984.47061          1   \n",
       "4   32    1  28.880         0       0  northwest   3866.85520          1   \n",
       "\n",
       "   southeast  southwest  \n",
       "0          0          1  \n",
       "1          1          0  \n",
       "2          1          0  \n",
       "3          0          0  \n",
       "4          0          0  "
      ]
     },
     "execution_count": 20,
     "metadata": {},
     "output_type": "execute_result"
    }
   ],
   "source": [
    "insurance_df.head()"
   ]
  },
  {
   "cell_type": "code",
   "execution_count": 21,
   "metadata": {},
   "outputs": [],
   "source": [
    "# Let's drop the original 'region' column \n",
    "insurance_df.drop(['region'], axis = 1, inplace = True)\n"
   ]
  },
  {
   "cell_type": "code",
   "execution_count": 22,
   "metadata": {},
   "outputs": [
    {
     "data": {
      "text/html": [
       "<div>\n",
       "<style scoped>\n",
       "    .dataframe tbody tr th:only-of-type {\n",
       "        vertical-align: middle;\n",
       "    }\n",
       "\n",
       "    .dataframe tbody tr th {\n",
       "        vertical-align: top;\n",
       "    }\n",
       "\n",
       "    .dataframe thead th {\n",
       "        text-align: right;\n",
       "    }\n",
       "</style>\n",
       "<table border=\"1\" class=\"dataframe\">\n",
       "  <thead>\n",
       "    <tr style=\"text-align: right;\">\n",
       "      <th></th>\n",
       "      <th>age</th>\n",
       "      <th>sex</th>\n",
       "      <th>bmi</th>\n",
       "      <th>children</th>\n",
       "      <th>smoker</th>\n",
       "      <th>charges</th>\n",
       "      <th>northwest</th>\n",
       "      <th>southeast</th>\n",
       "      <th>southwest</th>\n",
       "    </tr>\n",
       "  </thead>\n",
       "  <tbody>\n",
       "    <tr>\n",
       "      <th>0</th>\n",
       "      <td>19</td>\n",
       "      <td>0</td>\n",
       "      <td>27.900</td>\n",
       "      <td>0</td>\n",
       "      <td>1</td>\n",
       "      <td>16884.92400</td>\n",
       "      <td>0</td>\n",
       "      <td>0</td>\n",
       "      <td>1</td>\n",
       "    </tr>\n",
       "    <tr>\n",
       "      <th>1</th>\n",
       "      <td>18</td>\n",
       "      <td>1</td>\n",
       "      <td>33.770</td>\n",
       "      <td>1</td>\n",
       "      <td>0</td>\n",
       "      <td>1725.55230</td>\n",
       "      <td>0</td>\n",
       "      <td>1</td>\n",
       "      <td>0</td>\n",
       "    </tr>\n",
       "    <tr>\n",
       "      <th>2</th>\n",
       "      <td>28</td>\n",
       "      <td>1</td>\n",
       "      <td>33.000</td>\n",
       "      <td>3</td>\n",
       "      <td>0</td>\n",
       "      <td>4449.46200</td>\n",
       "      <td>0</td>\n",
       "      <td>1</td>\n",
       "      <td>0</td>\n",
       "    </tr>\n",
       "    <tr>\n",
       "      <th>3</th>\n",
       "      <td>33</td>\n",
       "      <td>1</td>\n",
       "      <td>22.705</td>\n",
       "      <td>0</td>\n",
       "      <td>0</td>\n",
       "      <td>21984.47061</td>\n",
       "      <td>1</td>\n",
       "      <td>0</td>\n",
       "      <td>0</td>\n",
       "    </tr>\n",
       "    <tr>\n",
       "      <th>4</th>\n",
       "      <td>32</td>\n",
       "      <td>1</td>\n",
       "      <td>28.880</td>\n",
       "      <td>0</td>\n",
       "      <td>0</td>\n",
       "      <td>3866.85520</td>\n",
       "      <td>1</td>\n",
       "      <td>0</td>\n",
       "      <td>0</td>\n",
       "    </tr>\n",
       "  </tbody>\n",
       "</table>\n",
       "</div>"
      ],
      "text/plain": [
       "   age  sex     bmi  children  smoker      charges  northwest  southeast  \\\n",
       "0   19    0  27.900         0       1  16884.92400          0          0   \n",
       "1   18    1  33.770         1       0   1725.55230          0          1   \n",
       "2   28    1  33.000         3       0   4449.46200          0          1   \n",
       "3   33    1  22.705         0       0  21984.47061          1          0   \n",
       "4   32    1  28.880         0       0   3866.85520          1          0   \n",
       "\n",
       "   southwest  \n",
       "0          1  \n",
       "1          0  \n",
       "2          0  \n",
       "3          0  \n",
       "4          0  "
      ]
     },
     "execution_count": 22,
     "metadata": {},
     "output_type": "execute_result"
    }
   ],
   "source": [
    "insurance_df.head()"
   ]
  },
  {
   "cell_type": "markdown",
   "metadata": {},
   "source": [
    "MINI CHALLENGE\n",
    "- Calculate the mean and standard deviation of the age, charges and bmi"
   ]
  },
  {
   "cell_type": "code",
   "execution_count": null,
   "metadata": {
    "colab": {
     "base_uri": "https://localhost:8080/",
     "height": 297
    },
    "colab_type": "code",
    "id": "Nn1Oxk2SzPX3",
    "outputId": "95f0265a-5e75-4a32-d771-4b3d15850c3c"
   },
   "outputs": [],
   "source": []
  },
  {
   "cell_type": "markdown",
   "metadata": {
    "colab_type": "text",
    "id": "Y0GmpAjG3GiH"
   },
   "source": [
    "# TASK #4: VISUALIZE DATASET"
   ]
  },
  {
   "cell_type": "code",
   "execution_count": 23,
   "metadata": {},
   "outputs": [
    {
     "data": {
      "text/plain": [
       "array([[<matplotlib.axes._subplots.AxesSubplot object at 0x7f681b85bdd0>,\n",
       "        <matplotlib.axes._subplots.AxesSubplot object at 0x7f681b845d90>],\n",
       "       [<matplotlib.axes._subplots.AxesSubplot object at 0x7f681b8025d0>,\n",
       "        <matplotlib.axes._subplots.AxesSubplot object at 0x7f681b7b2dd0>],\n",
       "       [<matplotlib.axes._subplots.AxesSubplot object at 0x7f681b771590>,\n",
       "        <matplotlib.axes._subplots.AxesSubplot object at 0x7f681b721d90>]],\n",
       "      dtype=object)"
      ]
     },
     "execution_count": 23,
     "metadata": {},
     "output_type": "execute_result"
    },
    {
     "data": {
      "image/png": "[encoded data removed]",
      "text/plain": [
       "<Figure size 1440x1440 with 6 Axes>"
      ]
     },
     "metadata": {
      "needs_background": "light"
     },
     "output_type": "display_data"
    }
   ],
   "source": [
    "insurance_df[['age', 'sex', 'bmi', 'children', 'smoker', 'charges']].hist(bins = 30, figsize = (20,20), color = 'r')\n"
   ]
  },
  {
   "cell_type": "code",
   "execution_count": 24,
   "metadata": {
    "colab": {
     "base_uri": "https://localhost:8080/",
     "height": 1000
    },
    "colab_type": "code",
    "id": "Ka9uFRXSkWHw",
    "outputId": "f42a681e-93d4-4b1f-a29c-f58fc8a6f974"
   },
   "outputs": [
    {
     "data": {
      "text/plain": [
       "<seaborn.axisgrid.PairGrid at 0x7f681b5c6810>"
      ]
     },
     "execution_count": 24,
     "metadata": {},
     "output_type": "execute_result"
    },
    {
     "data": {
      "image/png": "[encoded data removed]",
      "text/plain": [
       "<Figure size 1620x1620 with 90 Axes>"
      ]
     },
     "metadata": {
      "needs_background": "light"
     },
     "output_type": "display_data"
    }
   ],
   "source": [
    "# plot pairplot\n",
    "\n",
    "sns.pairplot(insurance_df)"
   ]
  },
  {
   "cell_type": "code",
   "execution_count": 25,
   "metadata": {
    "colab": {
     "base_uri": "https://localhost:8080/",
     "height": 1000
    },
    "colab_type": "code",
    "id": "1OiGun0tvU7W",
    "outputId": "22204cf6-1a4d-46c7-af61-a27511873584"
   },
   "outputs": [
    {
     "data": {
      "image/png": "[encoded data removed]",
      "text/plain": [
       "<Figure size 432x288 with 1 Axes>"
      ]
     },
     "metadata": {
      "needs_background": "light"
     },
     "output_type": "display_data"
    }
   ],
   "source": [
    "sns.regplot(x = 'age', y = 'charges', data = insurance_df)\n",
    "plt.show()\n",
    "  "
   ]
  },
  {
   "cell_type": "markdown",
   "metadata": {},
   "source": [
    "MINI CHALLENGE\n",
    "- Obtain the regplot between bmi and charges\n"
   ]
  },
  {
   "cell_type": "code",
   "execution_count": null,
   "metadata": {},
   "outputs": [],
   "source": []
  },
  {
   "cell_type": "markdown",
   "metadata": {},
   "source": [
    "MINI CHALLENGE\n",
    " - Calculate and plot the correlation matrix\n",
    " - Which feature has the most positive correlation with charges?"
   ]
  },
  {
   "cell_type": "code",
   "execution_count": null,
   "metadata": {
    "colab": {
     "base_uri": "https://localhost:8080/",
     "height": 297
    },
    "colab_type": "code",
    "id": "9q-tFxvskWDa",
    "outputId": "8834e9ec-7676-4e86-c5e7-20f4e9eccbcb"
   },
   "outputs": [],
   "source": []
  },
  {
   "cell_type": "code",
   "execution_count": 26,
   "metadata": {
    "colab": {
     "base_uri": "https://localhost:8080/",
     "height": 932
    },
    "colab_type": "code",
    "id": "clmblKfur8rm",
    "outputId": "760b0882-8993-4aed-9c38-866ef8a7c6cd"
   },
   "outputs": [],
   "source": [
    "\n",
    "# smoker and age have positive correlations with charges"
   ]
  },
  {
   "cell_type": "markdown",
   "metadata": {
    "colab_type": "text",
    "id": "53qDZFRn3-S1"
   },
   "source": [
    "# TASK #5: CREATE TRAINING AND TESTING DATASET"
   ]
  },
  {
   "cell_type": "code",
   "execution_count": 27,
   "metadata": {
    "colab": {
     "base_uri": "https://localhost:8080/",
     "height": 68
    },
    "colab_type": "code",
    "id": "8QQTkOBL1yUR",
    "outputId": "e79771c7-a34d-430f-db8a-fa4c1253af78"
   },
   "outputs": [
    {
     "data": {
      "text/plain": [
       "Index(['age', 'sex', 'bmi', 'children', 'smoker', 'charges', 'northwest',\n",
       "       'southeast', 'southwest'],\n",
       "      dtype='object')"
      ]
     },
     "execution_count": 27,
     "metadata": {},
     "output_type": "execute_result"
    }
   ],
   "source": [
    "insurance_df.columns"
   ]
  },
  {
   "cell_type": "code",
   "execution_count": 28,
   "metadata": {
    "colab": {},
    "colab_type": "code",
    "id": "4OXZB2F21e4H"
   },
   "outputs": [],
   "source": [
    "X = insurance_df.drop(columns =['charges'])\n",
    "y = insurance_df['charges']\n"
   ]
  },
  {
   "cell_type": "code",
   "execution_count": 29,
   "metadata": {
    "scrolled": true
   },
   "outputs": [
    {
     "data": {
      "text/html": [
       "<div>\n",
       "<style scoped>\n",
       "    .dataframe tbody tr th:only-of-type {\n",
       "        vertical-align: middle;\n",
       "    }\n",
       "\n",
       "    .dataframe tbody tr th {\n",
       "        vertical-align: top;\n",
       "    }\n",
       "\n",
       "    .dataframe thead th {\n",
       "        text-align: right;\n",
       "    }\n",
       "</style>\n",
       "<table border=\"1\" class=\"dataframe\">\n",
       "  <thead>\n",
       "    <tr style=\"text-align: right;\">\n",
       "      <th></th>\n",
       "      <th>age</th>\n",
       "      <th>sex</th>\n",
       "      <th>bmi</th>\n",
       "      <th>children</th>\n",
       "      <th>smoker</th>\n",
       "      <th>northwest</th>\n",
       "      <th>southeast</th>\n",
       "      <th>southwest</th>\n",
       "    </tr>\n",
       "  </thead>\n",
       "  <tbody>\n",
       "    <tr>\n",
       "      <th>0</th>\n",
       "      <td>19</td>\n",
       "      <td>0</td>\n",
       "      <td>27.900</td>\n",
       "      <td>0</td>\n",
       "      <td>1</td>\n",
       "      <td>0</td>\n",
       "      <td>0</td>\n",
       "      <td>1</td>\n",
       "    </tr>\n",
       "    <tr>\n",
       "      <th>1</th>\n",
       "      <td>18</td>\n",
       "      <td>1</td>\n",
       "      <td>33.770</td>\n",
       "      <td>1</td>\n",
       "      <td>0</td>\n",
       "      <td>0</td>\n",
       "      <td>1</td>\n",
       "      <td>0</td>\n",
       "    </tr>\n",
       "    <tr>\n",
       "      <th>2</th>\n",
       "      <td>28</td>\n",
       "      <td>1</td>\n",
       "      <td>33.000</td>\n",
       "      <td>3</td>\n",
       "      <td>0</td>\n",
       "      <td>0</td>\n",
       "      <td>1</td>\n",
       "      <td>0</td>\n",
       "    </tr>\n",
       "    <tr>\n",
       "      <th>3</th>\n",
       "      <td>33</td>\n",
       "      <td>1</td>\n",
       "      <td>22.705</td>\n",
       "      <td>0</td>\n",
       "      <td>0</td>\n",
       "      <td>1</td>\n",
       "      <td>0</td>\n",
       "      <td>0</td>\n",
       "    </tr>\n",
       "    <tr>\n",
       "      <th>4</th>\n",
       "      <td>32</td>\n",
       "      <td>1</td>\n",
       "      <td>28.880</td>\n",
       "      <td>0</td>\n",
       "      <td>0</td>\n",
       "      <td>1</td>\n",
       "      <td>0</td>\n",
       "      <td>0</td>\n",
       "    </tr>\n",
       "    <tr>\n",
       "      <th>...</th>\n",
       "      <td>...</td>\n",
       "      <td>...</td>\n",
       "      <td>...</td>\n",
       "      <td>...</td>\n",
       "      <td>...</td>\n",
       "      <td>...</td>\n",
       "      <td>...</td>\n",
       "      <td>...</td>\n",
       "    </tr>\n",
       "    <tr>\n",
       "      <th>1333</th>\n",
       "      <td>50</td>\n",
       "      <td>1</td>\n",
       "      <td>30.970</td>\n",
       "      <td>3</td>\n",
       "      <td>0</td>\n",
       "      <td>1</td>\n",
       "      <td>0</td>\n",
       "      <td>0</td>\n",
       "    </tr>\n",
       "    <tr>\n",
       "      <th>1334</th>\n",
       "      <td>18</td>\n",
       "      <td>0</td>\n",
       "      <td>31.920</td>\n",
       "      <td>0</td>\n",
       "      <td>0</td>\n",
       "      <td>0</td>\n",
       "      <td>0</td>\n",
       "      <td>0</td>\n",
       "    </tr>\n",
       "    <tr>\n",
       "      <th>1335</th>\n",
       "      <td>18</td>\n",
       "      <td>0</td>\n",
       "      <td>36.850</td>\n",
       "      <td>0</td>\n",
       "      <td>0</td>\n",
       "      <td>0</td>\n",
       "      <td>1</td>\n",
       "      <td>0</td>\n",
       "    </tr>\n",
       "    <tr>\n",
       "      <th>1336</th>\n",
       "      <td>21</td>\n",
       "      <td>0</td>\n",
       "      <td>25.800</td>\n",
       "      <td>0</td>\n",
       "      <td>0</td>\n",
       "      <td>0</td>\n",
       "      <td>0</td>\n",
       "      <td>1</td>\n",
       "    </tr>\n",
       "    <tr>\n",
       "      <th>1337</th>\n",
       "      <td>61</td>\n",
       "      <td>0</td>\n",
       "      <td>29.070</td>\n",
       "      <td>0</td>\n",
       "      <td>1</td>\n",
       "      <td>1</td>\n",
       "      <td>0</td>\n",
       "      <td>0</td>\n",
       "    </tr>\n",
       "  </tbody>\n",
       "</table>\n",
       "<p>1338 rows × 8 columns</p>\n",
       "</div>"
      ],
      "text/plain": [
       "      age  sex     bmi  children  smoker  northwest  southeast  southwest\n",
       "0      19    0  27.900         0       1          0          0          1\n",
       "1      18    1  33.770         1       0          0          1          0\n",
       "2      28    1  33.000         3       0          0          1          0\n",
       "3      33    1  22.705         0       0          1          0          0\n",
       "4      32    1  28.880         0       0          1          0          0\n",
       "...   ...  ...     ...       ...     ...        ...        ...        ...\n",
       "1333   50    1  30.970         3       0          1          0          0\n",
       "1334   18    0  31.920         0       0          0          0          0\n",
       "1335   18    0  36.850         0       0          0          1          0\n",
       "1336   21    0  25.800         0       0          0          0          1\n",
       "1337   61    0  29.070         0       1          1          0          0\n",
       "\n",
       "[1338 rows x 8 columns]"
      ]
     },
     "execution_count": 29,
     "metadata": {},
     "output_type": "execute_result"
    }
   ],
   "source": [
    "X"
   ]
  },
  {
   "cell_type": "code",
   "execution_count": 30,
   "metadata": {},
   "outputs": [
    {
     "data": {
      "text/plain": [
       "0       16884.92400\n",
       "1        1725.55230\n",
       "2        4449.46200\n",
       "3       21984.47061\n",
       "4        3866.85520\n",
       "           ...     \n",
       "1333    10600.54830\n",
       "1334     2205.98080\n",
       "1335     1629.83350\n",
       "1336     2007.94500\n",
       "1337    29141.36030\n",
       "Name: charges, Length: 1338, dtype: float64"
      ]
     },
     "execution_count": 30,
     "metadata": {},
     "output_type": "execute_result"
    }
   ],
   "source": [
    "y"
   ]
  },
  {
   "cell_type": "code",
   "execution_count": 31,
   "metadata": {
    "colab": {
     "base_uri": "https://localhost:8080/",
     "height": 34
    },
    "colab_type": "code",
    "id": "XpGU63Ne1e9P",
    "outputId": "e16c74ca-dc1c-416c-dc44-7f927bb99bc6"
   },
   "outputs": [
    {
     "data": {
      "text/plain": [
       "(1338, 8)"
      ]
     },
     "execution_count": 31,
     "metadata": {},
     "output_type": "execute_result"
    }
   ],
   "source": [
    "X.shape"
   ]
  },
  {
   "cell_type": "code",
   "execution_count": 32,
   "metadata": {
    "colab": {
     "base_uri": "https://localhost:8080/",
     "height": 34
    },
    "colab_type": "code",
    "id": "OjGj0RALA0qZ",
    "outputId": "26559a6c-880b-45b4-a1e8-3c4b92bea889"
   },
   "outputs": [
    {
     "data": {
      "text/plain": [
       "(1338,)"
      ]
     },
     "execution_count": 32,
     "metadata": {},
     "output_type": "execute_result"
    }
   ],
   "source": [
    "y.shape"
   ]
  },
  {
   "cell_type": "code",
   "execution_count": 33,
   "metadata": {
    "colab": {},
    "colab_type": "code",
    "id": "jIeiK1maA6mm"
   },
   "outputs": [],
   "source": [
    "X = np.array(X).astype('float32')\n",
    "y = np.array(y).astype('float32')"
   ]
  },
  {
   "cell_type": "code",
   "execution_count": 34,
   "metadata": {},
   "outputs": [],
   "source": [
    "y = y.reshape(-1,1)"
   ]
  },
  {
   "cell_type": "code",
   "execution_count": 35,
   "metadata": {},
   "outputs": [
    {
     "data": {
      "text/plain": [
       "array([[19.  ,  0.  , 27.9 , ...,  0.  ,  0.  ,  1.  ],\n",
       "       [18.  ,  1.  , 33.77, ...,  0.  ,  1.  ,  0.  ],\n",
       "       [28.  ,  1.  , 33.  , ...,  0.  ,  1.  ,  0.  ],\n",
       "       ...,\n",
       "       [18.  ,  0.  , 36.85, ...,  0.  ,  1.  ,  0.  ],\n",
       "       [21.  ,  0.  , 25.8 , ...,  0.  ,  0.  ,  1.  ],\n",
       "       [61.  ,  0.  , 29.07, ...,  1.  ,  0.  ,  0.  ]], dtype=float32)"
      ]
     },
     "execution_count": 35,
     "metadata": {},
     "output_type": "execute_result"
    }
   ],
   "source": [
    "# Only take the numerical variables and scale them\n",
    "X "
   ]
  },
  {
   "cell_type": "code",
   "execution_count": 36,
   "metadata": {
    "colab": {},
    "colab_type": "code",
    "id": "m6V7goNiA6xG"
   },
   "outputs": [],
   "source": [
    "#scaling the data before feeding the model\n",
    "from sklearn.preprocessing import StandardScaler, MinMaxScaler\n",
    "\n",
    "scaler_x = StandardScaler()\n",
    "X = scaler_x.fit_transform(X)\n",
    "\n",
    "scaler_y = StandardScaler()\n",
    "y = scaler_y.fit_transform(y)\n"
   ]
  },
  {
   "cell_type": "markdown",
   "metadata": {},
   "source": [
    "MINI CHALLENGE\n",
    "- Split the data into 20% Testing and 80% Training\n",
    "- Double check that the split was successful by getting the shape of both the training and testing datasets"
   ]
  },
  {
   "cell_type": "code",
   "execution_count": 39,
   "metadata": {},
   "outputs": [],
   "source": [
    "# split the data into test and train sets\n",
    "from sklearn.model_selection import train_test_split\n",
    "\n",
    "X_train, X_test, y_train, y_test = train_test_split(X, y, test_size = 0.2)"
   ]
  },
  {
   "cell_type": "markdown",
   "metadata": {
    "colab_type": "text",
    "id": "idWHLv5alF4C"
   },
   "source": [
    "# TASK #6: TRAIN AND TEST A LINEAR REGRESSION MODEL IN SK-LEARN (NOTE THAT SAGEMAKER BUILT-IN ALGORITHMS ARE NOT USED HERE)"
   ]
  },
  {
   "cell_type": "code",
   "execution_count": 40,
   "metadata": {
    "colab": {
     "base_uri": "https://localhost:8080/",
     "height": 34
    },
    "colab_type": "code",
    "id": "yHL-6mKwBURs",
    "outputId": "10d71b6d-9c2b-4bab-8b27-d3c5883e6a25"
   },
   "outputs": [
    {
     "data": {
      "text/plain": [
       "LinearRegression(copy_X=True, fit_intercept=True, n_jobs=None, normalize=False)"
      ]
     },
     "execution_count": 40,
     "metadata": {},
     "output_type": "execute_result"
    }
   ],
   "source": [
    "# using linear regression model\n",
    "from sklearn.linear_model import LinearRegression\n",
    "from sklearn.metrics import mean_squared_error, accuracy_score\n",
    "\n",
    "regresssion_model_sklearn = LinearRegression()\n",
    "regresssion_model_sklearn.fit(X_train, y_train)\n"
   ]
  },
  {
   "cell_type": "code",
   "execution_count": 41,
   "metadata": {
    "colab": {
     "base_uri": "https://localhost:8080/",
     "height": 34
    },
    "colab_type": "code",
    "id": "elD8m5N0BgEY",
    "outputId": "16a1813d-a0f1-4d1f-dc02-d7ad5a445417"
   },
   "outputs": [
    {
     "data": {
      "text/plain": [
       "0.7441995062423179"
      ]
     },
     "execution_count": 41,
     "metadata": {},
     "output_type": "execute_result"
    }
   ],
   "source": [
    "regresssion_model_sklearn_accuracy = regresssion_model_sklearn.score(X_test, y_test)\n",
    "regresssion_model_sklearn_accuracy"
   ]
  },
  {
   "cell_type": "code",
   "execution_count": 42,
   "metadata": {},
   "outputs": [],
   "source": [
    "y_predict = regresssion_model_sklearn.predict(X_test)"
   ]
  },
  {
   "cell_type": "code",
   "execution_count": 43,
   "metadata": {},
   "outputs": [],
   "source": [
    "y_predict_orig = scaler_y.inverse_transform(y_predict)\n",
    "y_test_orig = scaler_y.inverse_transform(y_test)\n"
   ]
  },
  {
   "cell_type": "code",
   "execution_count": 44,
   "metadata": {},
   "outputs": [
    {
     "data": {
      "text/plain": [
       "268"
      ]
     },
     "execution_count": 44,
     "metadata": {},
     "output_type": "execute_result"
    }
   ],
   "source": [
    "k = X_test.shape[1]\n",
    "n = len(X_test)\n",
    "n"
   ]
  },
  {
   "cell_type": "code",
   "execution_count": 47,
   "metadata": {
    "scrolled": true
   },
   "outputs": [],
   "source": [
    "from sklearn.metrics import r2_score, mean_squared_error, mean_absolute_error\n",
    "from math import sqrt\n",
    "\n",
    "RMSE = float(format(np.sqrt(mean_squared_error(y_test_orig, y_predict_orig)),'.3f'))\n",
    "MSE = mean_squared_error(y_test_orig, y_predict_orig)\n",
    "MAE = mean_absolute_error(y_test_orig, y_predict_orig)"
   ]
  },
  {
   "cell_type": "markdown",
   "metadata": {},
   "source": [
    "MINI CHALLENGE\n",
    "- calculate the mean absolute error, R2 and adjusted R2"
   ]
  },
  {
   "cell_type": "code",
   "execution_count": 49,
   "metadata": {},
   "outputs": [],
   "source": [
    "r2 = r2_score(y_test_orig, y_predict_orig)\n",
    "adj_r2 = 1 - (1-r2) * (n-1) / (n-k-1)"
   ]
  },
  {
   "cell_type": "code",
   "execution_count": 50,
   "metadata": {},
   "outputs": [
    {
     "name": "stdout",
     "output_type": "stream",
     "text": [
      "RMSE = 6089.265 \n",
      "MSE = 37079144.0 \n",
      "MAE = 3972.603 \n",
      "R2 = 0.7441995097679708 \n",
      "Adjusted R2 = 0.7362983363245104\n"
     ]
    }
   ],
   "source": [
    "print('RMSE =',RMSE, '\\nMSE =',MSE, '\\nMAE =',MAE, '\\nR2 =', r2, '\\nAdjusted R2 =', adj_r2) "
   ]
  },
  {
   "cell_type": "markdown",
   "metadata": {},
   "source": [
    "# TASK #7: TRAIN A LINEAR LEARNER MODEL USING SAGEMAKER"
   ]
  },
  {
   "cell_type": "code",
   "execution_count": 51,
   "metadata": {},
   "outputs": [
    {
     "name": "stdout",
     "output_type": "stream",
     "text": [
      "arn:aws:iam::874610315471:role/service-role/AmazonSageMaker-ExecutionRole-20201028T170930\n"
     ]
    }
   ],
   "source": [
    "# Boto3 is the Amazon Web Services (AWS) Software Development Kit (SDK) for Python\n",
    "# Boto3 allows Python developer to write software that makes use of services like Amazon S3 and Amazon EC2\n",
    "\n",
    "import sagemaker\n",
    "import boto3\n",
    "\n",
    "# Let's create a Sagemaker session\n",
    "sagemaker_session = sagemaker.Session()\n",
    "\n",
    "# Let's define the S3 bucket and prefix that we want to use in this session\n",
    "bucket = 'pv-udemy-sagemaker-practical' # bucket named 'sagemaker-practical' was created beforehand\n",
    "prefix = 'linear_learner_mll' # prefix is the subfolder within the bucket.\n",
    "\n",
    "# Let's get the execution role for the notebook instance. \n",
    "# This is the IAM role that you created when you created your notebook instance. You pass the role to the training job.\n",
    "# Note that AWS Identity and Access Management (IAM) role that Amazon SageMaker can assume to perform tasks on your behalf (for example, reading training results, called model artifacts, from the S3 bucket and writing training results to Amazon S3). \n",
    "role = sagemaker.get_execution_role()\n",
    "print(role)"
   ]
  },
  {
   "cell_type": "code",
   "execution_count": 52,
   "metadata": {},
   "outputs": [
    {
     "data": {
      "text/plain": [
       "(1070, 8)"
      ]
     },
     "execution_count": 52,
     "metadata": {},
     "output_type": "execute_result"
    }
   ],
   "source": [
    "X_train.shape"
   ]
  },
  {
   "cell_type": "code",
   "execution_count": 53,
   "metadata": {},
   "outputs": [
    {
     "data": {
      "text/plain": [
       "(1070, 1)"
      ]
     },
     "execution_count": 53,
     "metadata": {},
     "output_type": "execute_result"
    }
   ],
   "source": [
    "y_train.shape"
   ]
  },
  {
   "cell_type": "code",
   "execution_count": 58,
   "metadata": {},
   "outputs": [],
   "source": [
    "y_train = y_train[:,0]"
   ]
  },
  {
   "cell_type": "code",
   "execution_count": 59,
   "metadata": {},
   "outputs": [
    {
     "data": {
      "text/plain": [
       "(1070,)"
      ]
     },
     "execution_count": 59,
     "metadata": {},
     "output_type": "execute_result"
    }
   ],
   "source": [
    "y_train.shape"
   ]
  },
  {
   "cell_type": "code",
   "execution_count": 60,
   "metadata": {},
   "outputs": [
    {
     "data": {
      "text/plain": [
       "0"
      ]
     },
     "execution_count": 60,
     "metadata": {},
     "output_type": "execute_result"
    }
   ],
   "source": [
    "import io # The io module allows for dealing with various types of I/O (text I/O, binary I/O and raw I/O). \n",
    "import numpy as np\n",
    "import sagemaker.amazon.common as smac # sagemaker common libary\n",
    "\n",
    "# Code below converts the data in numpy array format to RecordIO format\n",
    "# This is the format required by Sagemaker Linear Learner \n",
    "\n",
    "buf = io.BytesIO() # create an in-memory byte array (buf is a buffer I will be writing to)\n",
    "smac.write_numpy_to_dense_tensor(buf, X_train, y_train)\n",
    "buf.seek(0) \n",
    "# When you write to in-memory byte arrays, it increments 1 every time you write to it\n",
    "# Let's reset that back to zero \n"
   ]
  },
  {
   "cell_type": "code",
   "execution_count": 61,
   "metadata": {},
   "outputs": [
    {
     "name": "stdout",
     "output_type": "stream",
     "text": [
      "uploaded training data location: s3://pv-udemy-sagemaker-practical/linear_learner_mll/train/linear-train-data\n"
     ]
    }
   ],
   "source": [
    "import os\n",
    "\n",
    "# Code to upload RecordIO data to S3\n",
    " \n",
    "# Key refers to the name of the file    \n",
    "key = 'linear-train-data'\n",
    "\n",
    "# The following code uploads the data in record-io format to S3 bucket to be accessed later for training\n",
    "boto3.resource('s3').Bucket(bucket).Object(os.path.join(prefix, 'train', key)).upload_fileobj(buf)\n",
    "\n",
    "# Let's print out the training data location in s3\n",
    "s3_train_data = 's3://{}/{}/train/{}'.format(bucket, prefix, key)\n",
    "print('uploaded training data location: {}'.format(s3_train_data))"
   ]
  },
  {
   "cell_type": "code",
   "execution_count": 62,
   "metadata": {},
   "outputs": [
    {
     "name": "stdout",
     "output_type": "stream",
     "text": [
      "Training artifacts will be uploaded to: s3://pv-udemy-sagemaker-practical/linear_learner_mll/output\n"
     ]
    }
   ],
   "source": [
    "# create an output placeholder in S3 bucket to store the linear learner output\n",
    "\n",
    "output_location = 's3://{}/{}/output'.format(bucket, prefix)\n",
    "print('Training artifacts will be uploaded to: {}'.format(output_location))"
   ]
  },
  {
   "cell_type": "code",
   "execution_count": 63,
   "metadata": {},
   "outputs": [
    {
     "name": "stderr",
     "output_type": "stream",
     "text": [
      "'get_image_uri' method will be deprecated in favor of 'ImageURIProvider' class in SageMaker Python SDK v2.\n"
     ]
    }
   ],
   "source": [
    "# This code is used to get the training container of sagemaker built-in algorithms\n",
    "# all we have to do is to specify the name of the algorithm, that we want to use\n",
    "\n",
    "# Let's obtain a reference to the linearLearner container image\n",
    "# Note that all regression models are named estimators\n",
    "# You don't have to specify (hardcode) the region, get_image_uri will get the current region name using boto3.Session\n",
    "\n",
    "\n",
    "from sagemaker.amazon.amazon_estimator import get_image_uri\n",
    "\n",
    "container = get_image_uri(boto3.Session().region_name, 'linear-learner')"
   ]
  },
  {
   "cell_type": "code",
   "execution_count": 64,
   "metadata": {},
   "outputs": [
    {
     "name": "stderr",
     "output_type": "stream",
     "text": [
      "Parameter image_name will be renamed to image_uri in SageMaker Python SDK v2.\n",
      "'s3_input' class will be renamed to 'TrainingInput' in SageMaker Python SDK v2.\n"
     ]
    },
    {
     "name": "stdout",
     "output_type": "stream",
     "text": [
      "2020-10-28 19:12:13 Starting - Starting the training job...\n",
      "2020-10-28 19:12:17 Starting - Launching requested ML instances......\n",
      "2020-10-28 19:13:22 Starting - Insufficient capacity error from EC2 while launching instances, retrying!...\n",
      "2020-10-28 19:14:10 Starting - Preparing the instances for training......\n",
      "2020-10-28 19:15:12 Downloading - Downloading input data\n",
      "2020-10-28 19:15:12 Training - Downloading the training image.....\u001b[34mDocker entrypoint called with argument(s): train\u001b[0m\n",
      "\u001b[34mRunning default environment configuration script\u001b[0m\n",
      "\u001b[34m[10/28/2020 19:15:53 INFO 140353185830720] Reading default configuration from /opt/amazon/lib/python2.7/site-packages/algorithm/resources/default-input.json: {u'loss_insensitivity': u'0.01', u'epochs': u'15', u'feature_dim': u'auto', u'init_bias': u'0.0', u'lr_scheduler_factor': u'auto', u'num_calibration_samples': u'10000000', u'accuracy_top_k': u'3', u'_num_kv_servers': u'auto', u'use_bias': u'true', u'num_point_for_scaler': u'10000', u'_log_level': u'info', u'quantile': u'0.5', u'bias_lr_mult': u'auto', u'lr_scheduler_step': u'auto', u'init_method': u'uniform', u'init_sigma': u'0.01', u'lr_scheduler_minimum_lr': u'auto', u'target_recall': u'0.8', u'num_models': u'auto', u'early_stopping_patience': u'3', u'momentum': u'auto', u'unbias_label': u'auto', u'wd': u'auto', u'optimizer': u'auto', u'_tuning_objective_metric': u'', u'early_stopping_tolerance': u'0.001', u'learning_rate': u'auto', u'_kvstore': u'auto', u'normalize_data': u'true', u'binary_classifier_model_selection_criteria': u'accuracy', u'use_lr_scheduler': u'true', u'target_precision': u'0.8', u'unbias_data': u'auto', u'init_scale': u'0.07', u'bias_wd_mult': u'auto', u'f_beta': u'1.0', u'mini_batch_size': u'1000', u'huber_delta': u'1.0', u'num_classes': u'1', u'beta_1': u'auto', u'loss': u'auto', u'beta_2': u'auto', u'_enable_profiler': u'false', u'normalize_label': u'auto', u'_num_gpus': u'auto', u'balance_multiclass_weights': u'false', u'positive_example_weight_mult': u'1.0', u'l1': u'auto', u'margin': u'1.0'}\u001b[0m\n",
      "\u001b[34m[10/28/2020 19:15:53 INFO 140353185830720] Merging with provided configuration from /opt/ml/input/config/hyperparameters.json: {u'loss': u'absolute_loss', u'mini_batch_size': u'100', u'predictor_type': u'regressor', u'epochs': u'100', u'feature_dim': u'8', u'num_models': u'32'}\u001b[0m\n",
      "\u001b[34m[10/28/2020 19:15:53 INFO 140353185830720] Final configuration: {u'loss_insensitivity': u'0.01', u'epochs': u'100', u'feature_dim': u'8', u'init_bias': u'0.0', u'lr_scheduler_factor': u'auto', u'num_calibration_samples': u'10000000', u'accuracy_top_k': u'3', u'_num_kv_servers': u'auto', u'use_bias': u'true', u'num_point_for_scaler': u'10000', u'_log_level': u'info', u'quantile': u'0.5', u'bias_lr_mult': u'auto', u'lr_scheduler_step': u'auto', u'init_method': u'uniform', u'init_sigma': u'0.01', u'lr_scheduler_minimum_lr': u'auto', u'target_recall': u'0.8', u'num_models': u'32', u'early_stopping_patience': u'3', u'momentum': u'auto', u'unbias_label': u'auto', u'wd': u'auto', u'optimizer': u'auto', u'_tuning_objective_metric': u'', u'early_stopping_tolerance': u'0.001', u'learning_rate': u'auto', u'_kvstore': u'auto', u'normalize_data': u'true', u'binary_classifier_model_selection_criteria': u'accuracy', u'use_lr_scheduler': u'true', u'target_precision': u'0.8', u'unbias_data': u'auto', u'init_scale': u'0.07', u'bias_wd_mult': u'auto', u'f_beta': u'1.0', u'mini_batch_size': u'100', u'huber_delta': u'1.0', u'num_classes': u'1', u'predictor_type': u'regressor', u'beta_1': u'auto', u'loss': u'absolute_loss', u'beta_2': u'auto', u'_enable_profiler': u'false', u'normalize_label': u'auto', u'_num_gpus': u'auto', u'balance_multiclass_weights': u'false', u'positive_example_weight_mult': u'1.0', u'l1': u'auto', u'margin': u'1.0'}\u001b[0m\n",
      "\u001b[34m[10/28/2020 19:15:53 WARNING 140353185830720] Loggers have already been setup.\u001b[0m\n",
      "\u001b[34mProcess 1 is a worker.\u001b[0m\n",
      "\u001b[34m[10/28/2020 19:15:53 INFO 140353185830720] Using default worker.\u001b[0m\n",
      "\u001b[34m[10/28/2020 19:15:53 INFO 140353185830720] Checkpoint loading and saving are disabled.\u001b[0m\n",
      "\u001b[34m[2020-10-28 19:15:53.217] [tensorio] [info] epoch_stats={\"data_pipeline\": \"/opt/ml/input/data/train\", \"epoch\": 0, \"duration\": 14, \"num_examples\": 1, \"num_bytes\": 7600}\u001b[0m\n",
      "\u001b[34m[10/28/2020 19:15:53 INFO 140353185830720] Create Store: local\u001b[0m\n",
      "\u001b[34m[2020-10-28 19:15:53.307] [tensorio] [info] epoch_stats={\"data_pipeline\": \"/opt/ml/input/data/train\", \"epoch\": 1, \"duration\": 88, \"num_examples\": 11, \"num_bytes\": 81320}\u001b[0m\n",
      "\u001b[34m[10/28/2020 19:15:53 INFO 140353185830720] Scaler algorithm parameters\n",
      " <algorithm.scaler.ScalerAlgorithmStable object at 0x7fa6269cb610>\u001b[0m\n",
      "\u001b[34m[10/28/2020 19:15:53 INFO 140353185830720] Scaling model computed with parameters:\n",
      " {'stdev_weight': \u001b[0m\n",
      "\u001b[34m[1.0072453  0.99981266 1.0102128  0.9862697  1.014582   0.97983885\n",
      " 1.0089536  1.0083919 ]\u001b[0m\n",
      "\u001b[34m<NDArray 8 @cpu(0)>, 'stdev_label': \u001b[0m\n",
      "\u001b[34m[1.0113742]\u001b[0m\n",
      "\u001b[34m<NDArray 1 @cpu(0)>, 'mean_label': \u001b[0m\n",
      "\u001b[34m[0.00718646]\u001b[0m\n",
      "\u001b[34m<NDArray 1 @cpu(0)>, 'mean_weight': \u001b[0m\n",
      "\u001b[34m[-0.02492223 -0.03246513 -0.00082134 -0.01735853  0.02036152 -0.03241302\n",
      "  0.01786947  0.01422496]\u001b[0m\n",
      "\u001b[34m<NDArray 8 @cpu(0)>}\u001b[0m\n",
      "\u001b[34m[10/28/2020 19:15:53 INFO 140353185830720] nvidia-smi took: 0.0251870155334 secs to identify 0 gpus\u001b[0m\n",
      "\u001b[34m[10/28/2020 19:15:53 INFO 140353185830720] Number of GPUs being used: 0\u001b[0m\n",
      "\u001b[34m#metrics {\"Metrics\": {\"Max Batches Seen Between Resets\": {\"count\": 1, \"max\": 11, \"sum\": 11.0, \"min\": 11}, \"Number of Batches Since Last Reset\": {\"count\": 1, \"max\": 0, \"sum\": 0.0, \"min\": 0}, \"Number of Records Since Last Reset\": {\"count\": 1, \"max\": 0, \"sum\": 0.0, \"min\": 0}, \"Total Batches Seen\": {\"count\": 1, \"max\": 12, \"sum\": 12.0, \"min\": 12}, \"Total Records Seen\": {\"count\": 1, \"max\": 1170, \"sum\": 1170.0, \"min\": 1170}, \"Max Records Seen Between Resets\": {\"count\": 1, \"max\": 1070, \"sum\": 1070.0, \"min\": 1070}, \"Reset Count\": {\"count\": 1, \"max\": 2, \"sum\": 2.0, \"min\": 2}}, \"EndTime\": 1603912553.405024, \"Dimensions\": {\"Host\": \"algo-1\", \"Meta\": \"init_train_data_iter\", \"Operation\": \"training\", \"Algorithm\": \"Linear Learner\"}, \"StartTime\": 1603912553.40498}\n",
      "\u001b[0m\n",
      "\u001b[34m[2020-10-28 19:15:53.602] [tensorio] [info] epoch_stats={\"data_pipeline\": \"/opt/ml/input/data/train\", \"epoch\": 4, \"duration\": 197, \"num_examples\": 11, \"num_bytes\": 81320}\u001b[0m\n",
      "\u001b[34m#metrics {\"Metrics\": {\"train_absolute_loss_objective\": {\"count\": 1, \"max\": 0.681942813873291, \"sum\": 0.681942813873291, \"min\": 0.681942813873291}}, \"EndTime\": 1603912553.603137, \"Dimensions\": {\"model\": 0, \"Host\": \"algo-1\", \"Operation\": \"training\", \"Algorithm\": \"Linear Learner\", \"epoch\": 0}, \"StartTime\": 1603912553.603028}\n",
      "\u001b[0m\n",
      "\u001b[34m#metrics {\"Metrics\": {\"train_absolute_loss_objective\": {\"count\": 1, \"max\": 0.7117787246704101, \"sum\": 0.7117787246704101, \"min\": 0.7117787246704101}}, \"EndTime\": 1603912553.60326, \"Dimensions\": {\"model\": 1, \"Host\": \"algo-1\", \"Operation\": \"training\", \"Algorithm\": \"Linear Learner\", \"epoch\": 0}, \"StartTime\": 1603912553.60324}\n",
      "\u001b[0m\n",
      "\u001b[34m#metrics {\"Metrics\": {\"train_absolute_loss_objective\": {\"count\": 1, \"max\": 0.7096878471374511, \"sum\": 0.7096878471374511, \"min\": 0.7096878471374511}}, \"EndTime\": 1603912553.60332, \"Dimensions\": {\"model\": 2, \"Host\": \"algo-1\", \"Operation\": \"training\", \"Algorithm\": \"Linear Learner\", \"epoch\": 0}, \"StartTime\": 1603912553.603308}\n",
      "\u001b[0m\n",
      "\u001b[34m#metrics {\"Metrics\": {\"train_absolute_loss_objective\": {\"count\": 1, \"max\": 0.66366215133667, \"sum\": 0.66366215133667, \"min\": 0.66366215133667}}, \"EndTime\": 1603912553.603379, \"Dimensions\": {\"model\": 3, \"Host\": \"algo-1\", \"Operation\": \"training\", \"Algorithm\": \"Linear Learner\", \"epoch\": 0}, \"StartTime\": 1603912553.603361}\n",
      "\u001b[0m\n",
      "\u001b[34m#metrics {\"Metrics\": {\"train_absolute_loss_objective\": {\"count\": 1, \"max\": 0.6420796890258789, \"sum\": 0.6420796890258789, \"min\": 0.6420796890258789}}, \"EndTime\": 1603912553.603452, \"Dimensions\": {\"model\": 4, \"Host\": \"algo-1\", \"Operation\": \"training\", \"Algorithm\": \"Linear Learner\", \"epoch\": 0}, \"StartTime\": 1603912553.603433}\n",
      "\u001b[0m\n",
      "\u001b[34m#metrics {\"Metrics\": {\"train_absolute_loss_objective\": {\"count\": 1, \"max\": 0.627603645324707, \"sum\": 0.627603645324707, \"min\": 0.627603645324707}}, \"EndTime\": 1603912553.603527, \"Dimensions\": {\"model\": 5, \"Host\": \"algo-1\", \"Operation\": \"training\", \"Algorithm\": \"Linear Learner\", \"epoch\": 0}, \"StartTime\": 1603912553.603507}\n",
      "\u001b[0m\n",
      "\u001b[34m#metrics {\"Metrics\": {\"train_absolute_loss_objective\": {\"count\": 1, \"max\": 0.6022624320983887, \"sum\": 0.6022624320983887, \"min\": 0.6022624320983887}}, \"EndTime\": 1603912553.6036, \"Dimensions\": {\"model\": 6, \"Host\": \"algo-1\", \"Operation\": \"training\", \"Algorithm\": \"Linear Learner\", \"epoch\": 0}, \"StartTime\": 1603912553.603582}\n",
      "\u001b[0m\n",
      "\u001b[34m#metrics {\"Metrics\": {\"train_absolute_loss_objective\": {\"count\": 1, \"max\": 0.6275932998657227, \"sum\": 0.6275932998657227, \"min\": 0.6275932998657227}}, \"EndTime\": 1603912553.603672, \"Dimensions\": {\"model\": 7, \"Host\": \"algo-1\", \"Operation\": \"training\", \"Algorithm\": \"Linear Learner\", \"epoch\": 0}, \"StartTime\": 1603912553.603654}\n",
      "\u001b[0m\n",
      "\u001b[34m#metrics {\"Metrics\": {\"train_absolute_loss_objective\": {\"count\": 1, \"max\": 0.6415392799377442, \"sum\": 0.6415392799377442, \"min\": 0.6415392799377442}}, \"EndTime\": 1603912553.603735, \"Dimensions\": {\"model\": 8, \"Host\": \"algo-1\", \"Operation\": \"training\", \"Algorithm\": \"Linear Learner\", \"epoch\": 0}, \"StartTime\": 1603912553.603718}\n",
      "\u001b[0m\n",
      "\u001b[34m#metrics {\"Metrics\": {\"train_absolute_loss_objective\": {\"count\": 1, \"max\": 0.735936351776123, \"sum\": 0.735936351776123, \"min\": 0.735936351776123}}, \"EndTime\": 1603912553.6038, \"Dimensions\": {\"model\": 9, \"Host\": \"algo-1\", \"Operation\": \"training\", \"Algorithm\": \"Linear Learner\", \"epoch\": 0}, \"StartTime\": 1603912553.603783}\n",
      "\u001b[0m\n",
      "\u001b[34m#metrics {\"Metrics\": {\"train_absolute_loss_objective\": {\"count\": 1, \"max\": 0.7000006484985352, \"sum\": 0.7000006484985352, \"min\": 0.7000006484985352}}, \"EndTime\": 1603912553.603862, \"Dimensions\": {\"model\": 10, \"Host\": \"algo-1\", \"Operation\": \"training\", \"Algorithm\": \"Linear Learner\", \"epoch\": 0}, \"StartTime\": 1603912553.603845}\n",
      "\u001b[0m\n",
      "\u001b[34m#metrics {\"Metrics\": {\"train_absolute_loss_objective\": {\"count\": 1, \"max\": 0.6470553550720215, \"sum\": 0.6470553550720215, \"min\": 0.6470553550720215}}, \"EndTime\": 1603912553.603936, \"Dimensions\": {\"model\": 11, \"Host\": \"algo-1\", \"Operation\": \"training\", \"Algorithm\": \"Linear Learner\", \"epoch\": 0}, \"StartTime\": 1603912553.603914}\n",
      "\u001b[0m\n",
      "\u001b[34m#metrics {\"Metrics\": {\"train_absolute_loss_objective\": {\"count\": 1, \"max\": 0.646721492767334, \"sum\": 0.646721492767334, \"min\": 0.646721492767334}}, \"EndTime\": 1603912553.604008, \"Dimensions\": {\"model\": 12, \"Host\": \"algo-1\", \"Operation\": \"training\", \"Algorithm\": \"Linear Learner\", \"epoch\": 0}, \"StartTime\": 1603912553.60399}\n",
      "\u001b[0m\n",
      "\u001b[34m#metrics {\"Metrics\": {\"train_absolute_loss_objective\": {\"count\": 1, \"max\": 0.6438049430847168, \"sum\": 0.6438049430847168, \"min\": 0.6438049430847168}}, \"EndTime\": 1603912553.60408, \"Dimensions\": {\"model\": 13, \"Host\": \"algo-1\", \"Operation\": \"training\", \"Algorithm\": \"Linear Learner\", \"epoch\": 0}, \"StartTime\": 1603912553.604061}\n",
      "\u001b[0m\n",
      "\u001b[34m#metrics {\"Metrics\": {\"train_absolute_loss_objective\": {\"count\": 1, \"max\": 0.6309669952392578, \"sum\": 0.6309669952392578, \"min\": 0.6309669952392578}}, \"EndTime\": 1603912553.60415, \"Dimensions\": {\"model\": 14, \"Host\": \"algo-1\", \"Operation\": \"training\", \"Algorithm\": \"Linear Learner\", \"epoch\": 0}, \"StartTime\": 1603912553.604131}\n",
      "\u001b[0m\n",
      "\u001b[34m#metrics {\"Metrics\": {\"train_absolute_loss_objective\": {\"count\": 1, \"max\": 0.6471780471801758, \"sum\": 0.6471780471801758, \"min\": 0.6471780471801758}}, \"EndTime\": 1603912553.604209, \"Dimensions\": {\"model\": 15, \"Host\": \"algo-1\", \"Operation\": \"training\", \"Algorithm\": \"Linear Learner\", \"epoch\": 0}, \"StartTime\": 1603912553.604193}\n",
      "\u001b[0m\n",
      "\u001b[34m#metrics {\"Metrics\": {\"train_absolute_loss_objective\": {\"count\": 1, \"max\": 0.7122591743469239, \"sum\": 0.7122591743469239, \"min\": 0.7122591743469239}}, \"EndTime\": 1603912553.604264, \"Dimensions\": {\"model\": 16, \"Host\": \"algo-1\", \"Operation\": \"training\", \"Algorithm\": \"Linear Learner\", \"epoch\": 0}, \"StartTime\": 1603912553.60425}\n",
      "\u001b[0m\n",
      "\u001b[34m#metrics {\"Metrics\": {\"train_absolute_loss_objective\": {\"count\": 1, \"max\": 0.7339729461669922, \"sum\": 0.7339729461669922, \"min\": 0.7339729461669922}}, \"EndTime\": 1603912553.604318, \"Dimensions\": {\"model\": 17, \"Host\": \"algo-1\", \"Operation\": \"training\", \"Algorithm\": \"Linear Learner\", \"epoch\": 0}, \"StartTime\": 1603912553.604302}\n",
      "\u001b[0m\n",
      "\u001b[34m#metrics {\"Metrics\": {\"train_absolute_loss_objective\": {\"count\": 1, \"max\": 0.6493713302612305, \"sum\": 0.6493713302612305, \"min\": 0.6493713302612305}}, \"EndTime\": 1603912553.604377, \"Dimensions\": {\"model\": 18, \"Host\": \"algo-1\", \"Operation\": \"training\", \"Algorithm\": \"Linear Learner\", \"epoch\": 0}, \"StartTime\": 1603912553.604361}\n",
      "\u001b[0m\n",
      "\u001b[34m#metrics {\"Metrics\": {\"train_absolute_loss_objective\": {\"count\": 1, \"max\": 0.6869277992248535, \"sum\": 0.6869277992248535, \"min\": 0.6869277992248535}}, \"EndTime\": 1603912553.604436, \"Dimensions\": {\"model\": 19, \"Host\": \"algo-1\", \"Operation\": \"training\", \"Algorithm\": \"Linear Learner\", \"epoch\": 0}, \"StartTime\": 1603912553.604419}\n",
      "\u001b[0m\n",
      "\u001b[34m#metrics {\"Metrics\": {\"train_absolute_loss_objective\": {\"count\": 1, \"max\": 0.6413725891113281, \"sum\": 0.6413725891113281, \"min\": 0.6413725891113281}}, \"EndTime\": 1603912553.604496, \"Dimensions\": {\"model\": 20, \"Host\": \"algo-1\", \"Operation\": \"training\", \"Algorithm\": \"Linear Learner\", \"epoch\": 0}, \"StartTime\": 1603912553.60448}\n",
      "\u001b[0m\n",
      "\u001b[34m#metrics {\"Metrics\": {\"train_absolute_loss_objective\": {\"count\": 1, \"max\": 0.654213565826416, \"sum\": 0.654213565826416, \"min\": 0.654213565826416}}, \"EndTime\": 1603912553.604539, \"Dimensions\": {\"model\": 21, \"Host\": \"algo-1\", \"Operation\": \"training\", \"Algorithm\": \"Linear Learner\", \"epoch\": 0}, \"StartTime\": 1603912553.604525}\n",
      "\u001b[0m\n",
      "\u001b[34m#metrics {\"Metrics\": {\"train_absolute_loss_objective\": {\"count\": 1, \"max\": 0.6548295974731445, \"sum\": 0.6548295974731445, \"min\": 0.6548295974731445}}, \"EndTime\": 1603912553.604596, \"Dimensions\": {\"model\": 22, \"Host\": \"algo-1\", \"Operation\": \"training\", \"Algorithm\": \"Linear Learner\", \"epoch\": 0}, \"StartTime\": 1603912553.60458}\n",
      "\u001b[0m\n",
      "\u001b[34m#metrics {\"Metrics\": {\"train_absolute_loss_objective\": {\"count\": 1, \"max\": 0.586776195526123, \"sum\": 0.586776195526123, \"min\": 0.586776195526123}}, \"EndTime\": 1603912553.604639, \"Dimensions\": {\"model\": 23, \"Host\": \"algo-1\", \"Operation\": \"training\", \"Algorithm\": \"Linear Learner\", \"epoch\": 0}, \"StartTime\": 1603912553.60463}\n",
      "\u001b[0m\n",
      "\u001b[34m#metrics {\"Metrics\": {\"train_absolute_loss_objective\": {\"count\": 1, \"max\": 0.7064357223510742, \"sum\": 0.7064357223510742, \"min\": 0.7064357223510742}}, \"EndTime\": 1603912553.604668, \"Dimensions\": {\"model\": 24, \"Host\": \"algo-1\", \"Operation\": \"training\", \"Algorithm\": \"Linear Learner\", \"epoch\": 0}, \"StartTime\": 1603912553.604661}\n",
      "\u001b[0m\n",
      "\u001b[34m#metrics {\"Metrics\": {\"train_absolute_loss_objective\": {\"count\": 1, \"max\": 0.6818410034179687, \"sum\": 0.6818410034179687, \"min\": 0.6818410034179687}}, \"EndTime\": 1603912553.60471, \"Dimensions\": {\"model\": 25, \"Host\": \"algo-1\", \"Operation\": \"training\", \"Algorithm\": \"Linear Learner\", \"epoch\": 0}, \"StartTime\": 1603912553.604696}\n",
      "\u001b[0m\n",
      "\u001b[34m#metrics {\"Metrics\": {\"train_absolute_loss_objective\": {\"count\": 1, \"max\": 0.6940194129943847, \"sum\": 0.6940194129943847, \"min\": 0.6940194129943847}}, \"EndTime\": 1603912553.604775, \"Dimensions\": {\"model\": 26, \"Host\": \"algo-1\", \"Operation\": \"training\", \"Algorithm\": \"Linear Learner\", \"epoch\": 0}, \"StartTime\": 1603912553.604759}\n",
      "\u001b[0m\n",
      "\u001b[34m#metrics {\"Metrics\": {\"train_absolute_loss_objective\": {\"count\": 1, \"max\": 0.7246440200805664, \"sum\": 0.7246440200805664, \"min\": 0.7246440200805664}}, \"EndTime\": 1603912553.604836, \"Dimensions\": {\"model\": 27, \"Host\": \"algo-1\", \"Operation\": \"training\", \"Algorithm\": \"Linear Learner\", \"epoch\": 0}, \"StartTime\": 1603912553.604819}\n",
      "\u001b[0m\n",
      "\u001b[34m#metrics {\"Metrics\": {\"train_absolute_loss_objective\": {\"count\": 1, \"max\": 0.8087443618774414, \"sum\": 0.8087443618774414, \"min\": 0.8087443618774414}}, \"EndTime\": 1603912553.604895, \"Dimensions\": {\"model\": 28, \"Host\": \"algo-1\", \"Operation\": \"training\", \"Algorithm\": \"Linear Learner\", \"epoch\": 0}, \"StartTime\": 1603912553.604878}\n",
      "\u001b[0m\n",
      "\u001b[34m#metrics {\"Metrics\": {\"train_absolute_loss_objective\": {\"count\": 1, \"max\": 0.8145200271606445, \"sum\": 0.8145200271606445, \"min\": 0.8145200271606445}}, \"EndTime\": 1603912553.604952, \"Dimensions\": {\"model\": 29, \"Host\": \"algo-1\", \"Operation\": \"training\", \"Algorithm\": \"Linear Learner\", \"epoch\": 0}, \"StartTime\": 1603912553.604936}\n",
      "\u001b[0m\n",
      "\u001b[34m#metrics {\"Metrics\": {\"train_absolute_loss_objective\": {\"count\": 1, \"max\": 0.7954361953735352, \"sum\": 0.7954361953735352, \"min\": 0.7954361953735352}}, \"EndTime\": 1603912553.605009, \"Dimensions\": {\"model\": 30, \"Host\": \"algo-1\", \"Operation\": \"training\", \"Algorithm\": \"Linear Learner\", \"epoch\": 0}, \"StartTime\": 1603912553.604993}\n",
      "\u001b[0m\n",
      "\u001b[34m#metrics {\"Metrics\": {\"train_absolute_loss_objective\": {\"count\": 1, \"max\": 0.7911702194213868, \"sum\": 0.7911702194213868, \"min\": 0.7911702194213868}}, \"EndTime\": 1603912553.605065, \"Dimensions\": {\"model\": 31, \"Host\": \"algo-1\", \"Operation\": \"training\", \"Algorithm\": \"Linear Learner\", \"epoch\": 0}, \"StartTime\": 1603912553.60505}\n",
      "\u001b[0m\n",
      "\u001b[34m[10/28/2020 19:15:53 INFO 140353185830720] #quality_metric: host=algo-1, epoch=0, train absolute_loss_objective <loss>=0.681942813873\u001b[0m\n",
      "\u001b[34m[10/28/2020 19:15:53 INFO 140353185830720] #early_stopping_criteria_metric: host=algo-1, epoch=0, criteria=absolute_loss_objective, value=0.586776195526\u001b[0m\n",
      "\u001b[34m[10/28/2020 19:15:53 INFO 140353185830720] Epoch 0: Loss improved. Updating best model\u001b[0m\n",
      "\u001b[34m[10/28/2020 19:15:53 INFO 140353185830720] Saving model for epoch: 0\u001b[0m\n",
      "\u001b[34m[10/28/2020 19:15:53 INFO 140353185830720] Saved checkpoint to \"/tmp/tmpLNc4Jx/mx-mod-0000.params\"\u001b[0m\n",
      "\u001b[34m[10/28/2020 19:15:53 INFO 140353185830720] #progress_metric: host=algo-1, completed 1 % of epochs\u001b[0m\n",
      "\u001b[34m#metrics {\"Metrics\": {\"Max Batches Seen Between Resets\": {\"count\": 1, \"max\": 11, \"sum\": 11.0, \"min\": 11}, \"Number of Batches Since Last Reset\": {\"count\": 1, \"max\": 11, \"sum\": 11.0, \"min\": 11}, \"Number of Records Since Last Reset\": {\"count\": 1, \"max\": 1070, \"sum\": 1070.0, \"min\": 1070}, \"Total Batches Seen\": {\"count\": 1, \"max\": 23, \"sum\": 23.0, \"min\": 23}, \"Total Records Seen\": {\"count\": 1, \"max\": 2240, \"sum\": 2240.0, \"min\": 2240}, \"Max Records Seen Between Resets\": {\"count\": 1, \"max\": 1070, \"sum\": 1070.0, \"min\": 1070}, \"Reset Count\": {\"count\": 1, \"max\": 3, \"sum\": 3.0, \"min\": 3}}, \"EndTime\": 1603912553.616831, \"Dimensions\": {\"Host\": \"algo-1\", \"Meta\": \"training_data_iter\", \"Operation\": \"training\", \"Algorithm\": \"Linear Learner\", \"epoch\": 0}, \"StartTime\": 1603912553.405305}\n",
      "\u001b[0m\n",
      "\u001b[34m[10/28/2020 19:15:53 INFO 140353185830720] #throughput_metric: host=algo-1, train throughput=5055.59273232 records/second\u001b[0m\n",
      "\u001b[34m[2020-10-28 19:15:53.798] [tensorio] [info] epoch_stats={\"data_pipeline\": \"/opt/ml/input/data/train\", \"epoch\": 6, \"duration\": 180, \"num_examples\": 11, \"num_bytes\": 81320}\u001b[0m\n",
      "\u001b[34m#metrics {\"Metrics\": {\"train_absolute_loss_objective\": {\"count\": 1, \"max\": 0.6142595291137696, \"sum\": 0.6142595291137696, \"min\": 0.6142595291137696}}, \"EndTime\": 1603912553.798347, \"Dimensions\": {\"model\": 0, \"Host\": \"algo-1\", \"Operation\": \"training\", \"Algorithm\": \"Linear Learner\", \"epoch\": 1}, \"StartTime\": 1603912553.798248}\n",
      "\u001b[0m\n",
      "\u001b[34m#metrics {\"Metrics\": {\"train_absolute_loss_objective\": {\"count\": 1, \"max\": 0.6375813331604004, \"sum\": 0.6375813331604004, \"min\": 0.6375813331604004}}, \"EndTime\": 1603912553.798428, \"Dimensions\": {\"model\": 1, \"Host\": \"algo-1\", \"Operation\": \"training\", \"Algorithm\": \"Linear Learner\", \"epoch\": 1}, \"StartTime\": 1603912553.79841}\n",
      "\u001b[0m\n",
      "\u001b[34m#metrics {\"Metrics\": {\"train_absolute_loss_objective\": {\"count\": 1, \"max\": 0.6337969131469726, \"sum\": 0.6337969131469726, \"min\": 0.6337969131469726}}, \"EndTime\": 1603912553.798487, \"Dimensions\": {\"model\": 2, \"Host\": \"algo-1\", \"Operation\": \"training\", \"Algorithm\": \"Linear Learner\", \"epoch\": 1}, \"StartTime\": 1603912553.798472}\n",
      "\u001b[0m\n",
      "\u001b[34m#metrics {\"Metrics\": {\"train_absolute_loss_objective\": {\"count\": 1, \"max\": 0.595123462677002, \"sum\": 0.595123462677002, \"min\": 0.595123462677002}}, \"EndTime\": 1603912553.798551, \"Dimensions\": {\"model\": 3, \"Host\": \"algo-1\", \"Operation\": \"training\", \"Algorithm\": \"Linear Learner\", \"epoch\": 1}, \"StartTime\": 1603912553.798532}\n",
      "\u001b[0m\n",
      "\u001b[34m#metrics {\"Metrics\": {\"train_absolute_loss_objective\": {\"count\": 1, \"max\": 0.40054000091552733, \"sum\": 0.40054000091552733, \"min\": 0.40054000091552733}}, \"EndTime\": 1603912553.798591, \"Dimensions\": {\"model\": 4, \"Host\": \"algo-1\", \"Operation\": \"training\", \"Algorithm\": \"Linear Learner\", \"epoch\": 1}, \"StartTime\": 1603912553.798581}\n",
      "\u001b[0m\n",
      "\u001b[34m#metrics {\"Metrics\": {\"train_absolute_loss_objective\": {\"count\": 1, \"max\": 0.4017564086914063, \"sum\": 0.4017564086914063, \"min\": 0.4017564086914063}}, \"EndTime\": 1603912553.798645, \"Dimensions\": {\"model\": 5, \"Host\": \"algo-1\", \"Operation\": \"training\", \"Algorithm\": \"Linear Learner\", \"epoch\": 1}, \"StartTime\": 1603912553.79863}\n",
      "\u001b[0m\n",
      "\u001b[34m#metrics {\"Metrics\": {\"train_absolute_loss_objective\": {\"count\": 1, \"max\": 0.3431760425567627, \"sum\": 0.3431760425567627, \"min\": 0.3431760425567627}}, \"EndTime\": 1603912553.798698, \"Dimensions\": {\"model\": 6, \"Host\": \"algo-1\", \"Operation\": \"training\", \"Algorithm\": \"Linear Learner\", \"epoch\": 1}, \"StartTime\": 1603912553.798682}\n",
      "\u001b[0m\n",
      "\u001b[34m#metrics {\"Metrics\": {\"train_absolute_loss_objective\": {\"count\": 1, \"max\": 0.40530929183959963, \"sum\": 0.40530929183959963, \"min\": 0.40530929183959963}}, \"EndTime\": 1603912553.798762, \"Dimensions\": {\"model\": 7, \"Host\": \"algo-1\", \"Operation\": \"training\", \"Algorithm\": \"Linear Learner\", \"epoch\": 1}, \"StartTime\": 1603912553.798745}\n",
      "\u001b[0m\n",
      "\u001b[34m#metrics {\"Metrics\": {\"train_absolute_loss_objective\": {\"count\": 1, \"max\": 0.5753185234069824, \"sum\": 0.5753185234069824, \"min\": 0.5753185234069824}}, \"EndTime\": 1603912553.798822, \"Dimensions\": {\"model\": 8, \"Host\": \"algo-1\", \"Operation\": \"training\", \"Algorithm\": \"Linear Learner\", \"epoch\": 1}, \"StartTime\": 1603912553.798806}\n",
      "\u001b[0m\n",
      "\u001b[34m#metrics {\"Metrics\": {\"train_absolute_loss_objective\": {\"count\": 1, \"max\": 0.6665810852050781, \"sum\": 0.6665810852050781, \"min\": 0.6665810852050781}}, \"EndTime\": 1603912553.79888, \"Dimensions\": {\"model\": 9, \"Host\": \"algo-1\", \"Operation\": \"training\", \"Algorithm\": \"Linear Learner\", \"epoch\": 1}, \"StartTime\": 1603912553.798863}\n",
      "\u001b[0m\n",
      "\u001b[34m#metrics {\"Metrics\": {\"train_absolute_loss_objective\": {\"count\": 1, \"max\": 0.6330938949584961, \"sum\": 0.6330938949584961, \"min\": 0.6330938949584961}}, \"EndTime\": 1603912553.798941, \"Dimensions\": {\"model\": 10, \"Host\": \"algo-1\", \"Operation\": \"training\", \"Algorithm\": \"Linear Learner\", \"epoch\": 1}, \"StartTime\": 1603912553.798924}\n",
      "\u001b[0m\n",
      "\u001b[34m#metrics {\"Metrics\": {\"train_absolute_loss_objective\": {\"count\": 1, \"max\": 0.5740569458007813, \"sum\": 0.5740569458007813, \"min\": 0.5740569458007813}}, \"EndTime\": 1603912553.798999, \"Dimensions\": {\"model\": 11, \"Host\": \"algo-1\", \"Operation\": \"training\", \"Algorithm\": \"Linear Learner\", \"epoch\": 1}, \"StartTime\": 1603912553.798982}\n",
      "\u001b[0m\n",
      "\u001b[34m#metrics {\"Metrics\": {\"train_absolute_loss_objective\": {\"count\": 1, \"max\": 0.3753130264282227, \"sum\": 0.3753130264282227, \"min\": 0.3753130264282227}}, \"EndTime\": 1603912553.799087, \"Dimensions\": {\"model\": 12, \"Host\": \"algo-1\", \"Operation\": \"training\", \"Algorithm\": \"Linear Learner\", \"epoch\": 1}, \"StartTime\": 1603912553.799069}\n",
      "\u001b[0m\n",
      "\u001b[34m#metrics {\"Metrics\": {\"train_absolute_loss_objective\": {\"count\": 1, \"max\": 0.4216792144775391, \"sum\": 0.4216792144775391, \"min\": 0.4216792144775391}}, \"EndTime\": 1603912553.799146, \"Dimensions\": {\"model\": 13, \"Host\": \"algo-1\", \"Operation\": \"training\", \"Algorithm\": \"Linear Learner\", \"epoch\": 1}, \"StartTime\": 1603912553.799132}\n",
      "\u001b[0m\n",
      "\u001b[34m#metrics {\"Metrics\": {\"train_absolute_loss_objective\": {\"count\": 1, \"max\": 0.40273527908325196, \"sum\": 0.40273527908325196, \"min\": 0.40273527908325196}}, \"EndTime\": 1603912553.799202, \"Dimensions\": {\"model\": 14, \"Host\": \"algo-1\", \"Operation\": \"training\", \"Algorithm\": \"Linear Learner\", \"epoch\": 1}, \"StartTime\": 1603912553.799185}\n",
      "\u001b[0m\n",
      "\u001b[34m#metrics {\"Metrics\": {\"train_absolute_loss_objective\": {\"count\": 1, \"max\": 0.42228226470947267, \"sum\": 0.42228226470947267, \"min\": 0.42228226470947267}}, \"EndTime\": 1603912553.799261, \"Dimensions\": {\"model\": 15, \"Host\": \"algo-1\", \"Operation\": \"training\", \"Algorithm\": \"Linear Learner\", \"epoch\": 1}, \"StartTime\": 1603912553.799245}\n",
      "\u001b[0m\n",
      "\u001b[34m#metrics {\"Metrics\": {\"train_absolute_loss_objective\": {\"count\": 1, \"max\": 0.6403637008666992, \"sum\": 0.6403637008666992, \"min\": 0.6403637008666992}}, \"EndTime\": 1603912553.799323, \"Dimensions\": {\"model\": 16, \"Host\": \"algo-1\", \"Operation\": \"training\", \"Algorithm\": \"Linear Learner\", \"epoch\": 1}, \"StartTime\": 1603912553.799307}\n",
      "\u001b[0m\n",
      "\u001b[34m#metrics {\"Metrics\": {\"train_absolute_loss_objective\": {\"count\": 1, \"max\": 0.6637163009643555, \"sum\": 0.6637163009643555, \"min\": 0.6637163009643555}}, \"EndTime\": 1603912553.79938, \"Dimensions\": {\"model\": 17, \"Host\": \"algo-1\", \"Operation\": \"training\", \"Algorithm\": \"Linear Learner\", \"epoch\": 1}, \"StartTime\": 1603912553.799364}\n",
      "\u001b[0m\n",
      "\u001b[34m#metrics {\"Metrics\": {\"train_absolute_loss_objective\": {\"count\": 1, \"max\": 0.5840382080078125, \"sum\": 0.5840382080078125, \"min\": 0.5840382080078125}}, \"EndTime\": 1603912553.79944, \"Dimensions\": {\"model\": 18, \"Host\": \"algo-1\", \"Operation\": \"training\", \"Algorithm\": \"Linear Learner\", \"epoch\": 1}, \"StartTime\": 1603912553.799424}\n",
      "\u001b[0m\n",
      "\u001b[34m#metrics {\"Metrics\": {\"train_absolute_loss_objective\": {\"count\": 1, \"max\": 0.6193925247192383, \"sum\": 0.6193925247192383, \"min\": 0.6193925247192383}}, \"EndTime\": 1603912553.799497, \"Dimensions\": {\"model\": 19, \"Host\": \"algo-1\", \"Operation\": \"training\", \"Algorithm\": \"Linear Learner\", \"epoch\": 1}, \"StartTime\": 1603912553.799481}\n",
      "\u001b[0m\n",
      "\u001b[34m#metrics {\"Metrics\": {\"train_absolute_loss_objective\": {\"count\": 1, \"max\": 0.4668232383728027, \"sum\": 0.4668232383728027, \"min\": 0.4668232383728027}}, \"EndTime\": 1603912553.799556, \"Dimensions\": {\"model\": 20, \"Host\": \"algo-1\", \"Operation\": \"training\", \"Algorithm\": \"Linear Learner\", \"epoch\": 1}, \"StartTime\": 1603912553.799541}\n",
      "\u001b[0m\n",
      "\u001b[34m#metrics {\"Metrics\": {\"train_absolute_loss_objective\": {\"count\": 1, \"max\": 0.44948090362548826, \"sum\": 0.44948090362548826, \"min\": 0.44948090362548826}}, \"EndTime\": 1603912553.799615, \"Dimensions\": {\"model\": 21, \"Host\": \"algo-1\", \"Operation\": \"training\", \"Algorithm\": \"Linear Learner\", \"epoch\": 1}, \"StartTime\": 1603912553.799598}\n",
      "\u001b[0m\n",
      "\u001b[34m#metrics {\"Metrics\": {\"train_absolute_loss_objective\": {\"count\": 1, \"max\": 0.4531132888793945, \"sum\": 0.4531132888793945, \"min\": 0.4531132888793945}}, \"EndTime\": 1603912553.799686, \"Dimensions\": {\"model\": 22, \"Host\": \"algo-1\", \"Operation\": \"training\", \"Algorithm\": \"Linear Learner\", \"epoch\": 1}, \"StartTime\": 1603912553.799667}\n",
      "\u001b[0m\n",
      "\u001b[34m#metrics {\"Metrics\": {\"train_absolute_loss_objective\": {\"count\": 1, \"max\": 0.4832785987854004, \"sum\": 0.4832785987854004, \"min\": 0.4832785987854004}}, \"EndTime\": 1603912553.799745, \"Dimensions\": {\"model\": 23, \"Host\": \"algo-1\", \"Operation\": \"training\", \"Algorithm\": \"Linear Learner\", \"epoch\": 1}, \"StartTime\": 1603912553.799729}\n",
      "\u001b[0m\n",
      "\u001b[34m#metrics {\"Metrics\": {\"train_absolute_loss_objective\": {\"count\": 1, \"max\": 0.6928119010925293, \"sum\": 0.6928119010925293, \"min\": 0.6928119010925293}}, \"EndTime\": 1603912553.799813, \"Dimensions\": {\"model\": 24, \"Host\": \"algo-1\", \"Operation\": \"training\", \"Algorithm\": \"Linear Learner\", \"epoch\": 1}, \"StartTime\": 1603912553.799794}\n",
      "\u001b[0m\n",
      "\u001b[34m#metrics {\"Metrics\": {\"train_absolute_loss_objective\": {\"count\": 1, \"max\": 0.6981614608764648, \"sum\": 0.6981614608764648, \"min\": 0.6981614608764648}}, \"EndTime\": 1603912553.799882, \"Dimensions\": {\"model\": 25, \"Host\": \"algo-1\", \"Operation\": \"training\", \"Algorithm\": \"Linear Learner\", \"epoch\": 1}, \"StartTime\": 1603912553.799863}\n",
      "\u001b[0m\n",
      "\u001b[34m#metrics {\"Metrics\": {\"train_absolute_loss_objective\": {\"count\": 1, \"max\": 0.6988622589111328, \"sum\": 0.6988622589111328, \"min\": 0.6988622589111328}}, \"EndTime\": 1603912553.799949, \"Dimensions\": {\"model\": 26, \"Host\": \"algo-1\", \"Operation\": \"training\", \"Algorithm\": \"Linear Learner\", \"epoch\": 1}, \"StartTime\": 1603912553.799931}\n",
      "\u001b[0m\n",
      "\u001b[34m#metrics {\"Metrics\": {\"train_absolute_loss_objective\": {\"count\": 1, \"max\": 0.6831513442993165, \"sum\": 0.6831513442993165, \"min\": 0.6831513442993165}}, \"EndTime\": 1603912553.800017, \"Dimensions\": {\"model\": 27, \"Host\": \"algo-1\", \"Operation\": \"training\", \"Algorithm\": \"Linear Learner\", \"epoch\": 1}, \"StartTime\": 1603912553.799999}\n",
      "\u001b[0m\n",
      "\u001b[34m#metrics {\"Metrics\": {\"train_absolute_loss_objective\": {\"count\": 1, \"max\": 0.7164405326843262, \"sum\": 0.7164405326843262, \"min\": 0.7164405326843262}}, \"EndTime\": 1603912553.800086, \"Dimensions\": {\"model\": 28, \"Host\": \"algo-1\", \"Operation\": \"training\", \"Algorithm\": \"Linear Learner\", \"epoch\": 1}, \"StartTime\": 1603912553.800069}\n",
      "\u001b[0m\n",
      "\u001b[34m#metrics {\"Metrics\": {\"train_absolute_loss_objective\": {\"count\": 1, \"max\": 0.7251368103027344, \"sum\": 0.7251368103027344, \"min\": 0.7251368103027344}}, \"EndTime\": 1603912553.800151, \"Dimensions\": {\"model\": 29, \"Host\": \"algo-1\", \"Operation\": \"training\", \"Algorithm\": \"Linear Learner\", \"epoch\": 1}, \"StartTime\": 1603912553.800134}\n",
      "\u001b[0m\n",
      "\u001b[34m#metrics {\"Metrics\": {\"train_absolute_loss_objective\": {\"count\": 1, \"max\": 0.7032389640808105, \"sum\": 0.7032389640808105, \"min\": 0.7032389640808105}}, \"EndTime\": 1603912553.800221, \"Dimensions\": {\"model\": 30, \"Host\": \"algo-1\", \"Operation\": \"training\", \"Algorithm\": \"Linear Learner\", \"epoch\": 1}, \"StartTime\": 1603912553.800203}\n",
      "\u001b[0m\n",
      "\u001b[34m#metrics {\"Metrics\": {\"train_absolute_loss_objective\": {\"count\": 1, \"max\": 0.7099294128417969, \"sum\": 0.7099294128417969, \"min\": 0.7099294128417969}}, \"EndTime\": 1603912553.800289, \"Dimensions\": {\"model\": 31, \"Host\": \"algo-1\", \"Operation\": \"training\", \"Algorithm\": \"Linear Learner\", \"epoch\": 1}, \"StartTime\": 1603912553.800271}\n",
      "\u001b[0m\n",
      "\u001b[34m[10/28/2020 19:15:53 INFO 140353185830720] #quality_metric: host=algo-1, epoch=1, train absolute_loss_objective <loss>=0.614259529114\u001b[0m\n",
      "\u001b[34m[10/28/2020 19:15:53 INFO 140353185830720] #early_stopping_criteria_metric: host=algo-1, epoch=1, criteria=absolute_loss_objective, value=0.343176042557\u001b[0m\n",
      "\u001b[34m[10/28/2020 19:15:53 INFO 140353185830720] Epoch 1: Loss improved. Updating best model\u001b[0m\n",
      "\u001b[34m[10/28/2020 19:15:53 INFO 140353185830720] Saving model for epoch: 1\u001b[0m\n",
      "\u001b[34m[10/28/2020 19:15:53 INFO 140353185830720] Saved checkpoint to \"/tmp/tmpak2Z12/mx-mod-0000.params\"\u001b[0m\n",
      "\u001b[34m[10/28/2020 19:15:53 INFO 140353185830720] #progress_metric: host=algo-1, completed 2 % of epochs\u001b[0m\n",
      "\u001b[34m#metrics {\"Metrics\": {\"Max Batches Seen Between Resets\": {\"count\": 1, \"max\": 11, \"sum\": 11.0, \"min\": 11}, \"Number of Batches Since Last Reset\": {\"count\": 1, \"max\": 11, \"sum\": 11.0, \"min\": 11}, \"Number of Records Since Last Reset\": {\"count\": 1, \"max\": 1070, \"sum\": 1070.0, \"min\": 1070}, \"Total Batches Seen\": {\"count\": 1, \"max\": 34, \"sum\": 34.0, \"min\": 34}, \"Total Records Seen\": {\"count\": 1, \"max\": 3310, \"sum\": 3310.0, \"min\": 3310}, \"Max Records Seen Between Resets\": {\"count\": 1, \"max\": 1070, \"sum\": 1070.0, \"min\": 1070}, \"Reset Count\": {\"count\": 1, \"max\": 4, \"sum\": 4.0, \"min\": 4}}, \"EndTime\": 1603912553.81064, \"Dimensions\": {\"Host\": \"algo-1\", \"Meta\": \"training_data_iter\", \"Operation\": \"training\", \"Algorithm\": \"Linear Learner\", \"epoch\": 1}, \"StartTime\": 1603912553.617098}\n",
      "\u001b[0m\n",
      "\u001b[34m[10/28/2020 19:15:53 INFO 140353185830720] #throughput_metric: host=algo-1, train throughput=5524.83369136 records/second\u001b[0m\n",
      "\u001b[34m[2020-10-28 19:15:54.054] [tensorio] [info] epoch_stats={\"data_pipeline\": \"/opt/ml/input/data/train\", \"epoch\": 8, \"duration\": 241, \"num_examples\": 11, \"num_bytes\": 81320}\u001b[0m\n",
      "\u001b[34m#metrics {\"Metrics\": {\"train_absolute_loss_objective\": {\"count\": 1, \"max\": 0.561869010925293, \"sum\": 0.561869010925293, \"min\": 0.561869010925293}}, \"EndTime\": 1603912554.054831, \"Dimensions\": {\"model\": 0, \"Host\": \"algo-1\", \"Operation\": \"training\", \"Algorithm\": \"Linear Learner\", \"epoch\": 2}, \"StartTime\": 1603912554.054755}\n",
      "\u001b[0m\n",
      "\u001b[34m#metrics {\"Metrics\": {\"train_absolute_loss_objective\": {\"count\": 1, \"max\": 0.5833289146423339, \"sum\": 0.5833289146423339, \"min\": 0.5833289146423339}}, \"EndTime\": 1603912554.054925, \"Dimensions\": {\"model\": 1, \"Host\": \"algo-1\", \"Operation\": \"training\", \"Algorithm\": \"Linear Learner\", \"epoch\": 2}, \"StartTime\": 1603912554.054908}\n",
      "\u001b[0m\n",
      "\u001b[34m#metrics {\"Metrics\": {\"train_absolute_loss_objective\": {\"count\": 1, \"max\": 0.5803520126342774, \"sum\": 0.5803520126342774, \"min\": 0.5803520126342774}}, \"EndTime\": 1603912554.054981, \"Dimensions\": {\"model\": 2, \"Host\": \"algo-1\", \"Operation\": \"training\", \"Algorithm\": \"Linear Learner\", \"epoch\": 2}, \"StartTime\": 1603912554.054966}\n",
      "\u001b[0m\n",
      "\u001b[34m#metrics {\"Metrics\": {\"train_absolute_loss_objective\": {\"count\": 1, \"max\": 0.5420013275146485, \"sum\": 0.5420013275146485, \"min\": 0.5420013275146485}}, \"EndTime\": 1603912554.055067, \"Dimensions\": {\"model\": 3, \"Host\": \"algo-1\", \"Operation\": \"training\", \"Algorithm\": \"Linear Learner\", \"epoch\": 2}, \"StartTime\": 1603912554.05505}\n",
      "\u001b[0m\n",
      "\u001b[34m#metrics {\"Metrics\": {\"train_absolute_loss_objective\": {\"count\": 1, \"max\": 0.34984683990478516, \"sum\": 0.34984683990478516, \"min\": 0.34984683990478516}}, \"EndTime\": 1603912554.055121, \"Dimensions\": {\"model\": 4, \"Host\": \"algo-1\", \"Operation\": \"training\", \"Algorithm\": \"Linear Learner\", \"epoch\": 2}, \"StartTime\": 1603912554.055107}\n",
      "\u001b[0m\n",
      "\u001b[34m#metrics {\"Metrics\": {\"train_absolute_loss_objective\": {\"count\": 1, \"max\": 0.32869887161254885, \"sum\": 0.32869887161254885, \"min\": 0.32869887161254885}}, \"EndTime\": 1603912554.055173, \"Dimensions\": {\"model\": 5, \"Host\": \"algo-1\", \"Operation\": \"training\", \"Algorithm\": \"Linear Learner\", \"epoch\": 2}, \"StartTime\": 1603912554.055159}\n",
      "\u001b[0m\n",
      "\u001b[34m#metrics {\"Metrics\": {\"train_absolute_loss_objective\": {\"count\": 1, \"max\": 0.32237944984436034, \"sum\": 0.32237944984436034, \"min\": 0.32237944984436034}}, \"EndTime\": 1603912554.055224, \"Dimensions\": {\"model\": 6, \"Host\": \"algo-1\", \"Operation\": \"training\", \"Algorithm\": \"Linear Learner\", \"epoch\": 2}, \"StartTime\": 1603912554.055211}\n",
      "\u001b[0m\n",
      "\u001b[34m#metrics {\"Metrics\": {\"train_absolute_loss_objective\": {\"count\": 1, \"max\": 0.35587612342834474, \"sum\": 0.35587612342834474, \"min\": 0.35587612342834474}}, \"EndTime\": 1603912554.055273, \"Dimensions\": {\"model\": 7, \"Host\": \"algo-1\", \"Operation\": \"training\", \"Algorithm\": \"Linear Learner\", \"epoch\": 2}, \"StartTime\": 1603912554.05526}\n",
      "\u001b[0m\n",
      "\u001b[34m#metrics {\"Metrics\": {\"train_absolute_loss_objective\": {\"count\": 1, \"max\": 0.5234970970153808, \"sum\": 0.5234970970153808, \"min\": 0.5234970970153808}}, \"EndTime\": 1603912554.055326, \"Dimensions\": {\"model\": 8, \"Host\": \"algo-1\", \"Operation\": \"training\", \"Algorithm\": \"Linear Learner\", \"epoch\": 2}, \"StartTime\": 1603912554.055309}\n",
      "\u001b[0m\n",
      "\u001b[34m#metrics {\"Metrics\": {\"train_absolute_loss_objective\": {\"count\": 1, \"max\": 0.611818790435791, \"sum\": 0.611818790435791, \"min\": 0.611818790435791}}, \"EndTime\": 1603912554.055384, \"Dimensions\": {\"model\": 9, \"Host\": \"algo-1\", \"Operation\": \"training\", \"Algorithm\": \"Linear Learner\", \"epoch\": 2}, \"StartTime\": 1603912554.055367}\n",
      "\u001b[0m\n",
      "\u001b[34m#metrics {\"Metrics\": {\"train_absolute_loss_objective\": {\"count\": 1, \"max\": 0.5809475479125976, \"sum\": 0.5809475479125976, \"min\": 0.5809475479125976}}, \"EndTime\": 1603912554.055445, \"Dimensions\": {\"model\": 10, \"Host\": \"algo-1\", \"Operation\": \"training\", \"Algorithm\": \"Linear Learner\", \"epoch\": 2}, \"StartTime\": 1603912554.055428}\n",
      "\u001b[0m\n",
      "\u001b[34m#metrics {\"Metrics\": {\"train_absolute_loss_objective\": {\"count\": 1, \"max\": 0.5207107276916504, \"sum\": 0.5207107276916504, \"min\": 0.5207107276916504}}, \"EndTime\": 1603912554.055513, \"Dimensions\": {\"model\": 11, \"Host\": \"algo-1\", \"Operation\": \"training\", \"Algorithm\": \"Linear Learner\", \"epoch\": 2}, \"StartTime\": 1603912554.055495}\n",
      "\u001b[0m\n",
      "\u001b[34m#metrics {\"Metrics\": {\"train_absolute_loss_objective\": {\"count\": 1, \"max\": 0.3399169044494629, \"sum\": 0.3399169044494629, \"min\": 0.3399169044494629}}, \"EndTime\": 1603912554.055581, \"Dimensions\": {\"model\": 12, \"Host\": \"algo-1\", \"Operation\": \"training\", \"Algorithm\": \"Linear Learner\", \"epoch\": 2}, \"StartTime\": 1603912554.055563}\n",
      "\u001b[0m\n",
      "\u001b[34m#metrics {\"Metrics\": {\"train_absolute_loss_objective\": {\"count\": 1, \"max\": 0.34252069664001467, \"sum\": 0.34252069664001467, \"min\": 0.34252069664001467}}, \"EndTime\": 1603912554.055648, \"Dimensions\": {\"model\": 13, \"Host\": \"algo-1\", \"Operation\": \"training\", \"Algorithm\": \"Linear Learner\", \"epoch\": 2}, \"StartTime\": 1603912554.05563}\n",
      "\u001b[0m\n",
      "\u001b[34m#metrics {\"Metrics\": {\"train_absolute_loss_objective\": {\"count\": 1, \"max\": 0.3523078956604004, \"sum\": 0.3523078956604004, \"min\": 0.3523078956604004}}, \"EndTime\": 1603912554.055715, \"Dimensions\": {\"model\": 14, \"Host\": \"algo-1\", \"Operation\": \"training\", \"Algorithm\": \"Linear Learner\", \"epoch\": 2}, \"StartTime\": 1603912554.055697}\n",
      "\u001b[0m\n",
      "\u001b[34m#metrics {\"Metrics\": {\"train_absolute_loss_objective\": {\"count\": 1, \"max\": 0.36219221687316894, \"sum\": 0.36219221687316894, \"min\": 0.36219221687316894}}, \"EndTime\": 1603912554.055776, \"Dimensions\": {\"model\": 15, \"Host\": \"algo-1\", \"Operation\": \"training\", \"Algorithm\": \"Linear Learner\", \"epoch\": 2}, \"StartTime\": 1603912554.055758}\n",
      "\u001b[0m\n",
      "\u001b[34m#metrics {\"Metrics\": {\"train_absolute_loss_objective\": {\"count\": 1, \"max\": 0.5890711517333984, \"sum\": 0.5890711517333984, \"min\": 0.5890711517333984}}, \"EndTime\": 1603912554.055837, \"Dimensions\": {\"model\": 16, \"Host\": \"algo-1\", \"Operation\": \"training\", \"Algorithm\": \"Linear Learner\", \"epoch\": 2}, \"StartTime\": 1603912554.05582}\n",
      "\u001b[0m\n",
      "\u001b[34m#metrics {\"Metrics\": {\"train_absolute_loss_objective\": {\"count\": 1, \"max\": 0.6114514427185058, \"sum\": 0.6114514427185058, \"min\": 0.6114514427185058}}, \"EndTime\": 1603912554.0559, \"Dimensions\": {\"model\": 17, \"Host\": \"algo-1\", \"Operation\": \"training\", \"Algorithm\": \"Linear Learner\", \"epoch\": 2}, \"StartTime\": 1603912554.055883}\n",
      "\u001b[0m\n",
      "\u001b[34m#metrics {\"Metrics\": {\"train_absolute_loss_objective\": {\"count\": 1, \"max\": 0.5361311836242676, \"sum\": 0.5361311836242676, \"min\": 0.5361311836242676}}, \"EndTime\": 1603912554.055954, \"Dimensions\": {\"model\": 18, \"Host\": \"algo-1\", \"Operation\": \"training\", \"Algorithm\": \"Linear Learner\", \"epoch\": 2}, \"StartTime\": 1603912554.055938}\n",
      "\u001b[0m\n",
      "\u001b[34m#metrics {\"Metrics\": {\"train_absolute_loss_objective\": {\"count\": 1, \"max\": 0.5695985984802246, \"sum\": 0.5695985984802246, \"min\": 0.5695985984802246}}, \"EndTime\": 1603912554.056018, \"Dimensions\": {\"model\": 19, \"Host\": \"algo-1\", \"Operation\": \"training\", \"Algorithm\": \"Linear Learner\", \"epoch\": 2}, \"StartTime\": 1603912554.056001}\n",
      "\u001b[0m\n",
      "\u001b[34m#metrics {\"Metrics\": {\"train_absolute_loss_objective\": {\"count\": 1, \"max\": 0.4194495391845703, \"sum\": 0.4194495391845703, \"min\": 0.4194495391845703}}, \"EndTime\": 1603912554.056071, \"Dimensions\": {\"model\": 20, \"Host\": \"algo-1\", \"Operation\": \"training\", \"Algorithm\": \"Linear Learner\", \"epoch\": 2}, \"StartTime\": 1603912554.056056}\n",
      "\u001b[0m\n",
      "\u001b[34m#metrics {\"Metrics\": {\"train_absolute_loss_objective\": {\"count\": 1, \"max\": 0.4231788673400879, \"sum\": 0.4231788673400879, \"min\": 0.4231788673400879}}, \"EndTime\": 1603912554.056128, \"Dimensions\": {\"model\": 21, \"Host\": \"algo-1\", \"Operation\": \"training\", \"Algorithm\": \"Linear Learner\", \"epoch\": 2}, \"StartTime\": 1603912554.056112}\n",
      "\u001b[0m\n",
      "\u001b[34m#metrics {\"Metrics\": {\"train_absolute_loss_objective\": {\"count\": 1, \"max\": 0.42563844680786134, \"sum\": 0.42563844680786134, \"min\": 0.42563844680786134}}, \"EndTime\": 1603912554.056178, \"Dimensions\": {\"model\": 22, \"Host\": \"algo-1\", \"Operation\": \"training\", \"Algorithm\": \"Linear Learner\", \"epoch\": 2}, \"StartTime\": 1603912554.056163}\n",
      "\u001b[0m\n",
      "\u001b[34m#metrics {\"Metrics\": {\"train_absolute_loss_objective\": {\"count\": 1, \"max\": 0.3918335094451904, \"sum\": 0.3918335094451904, \"min\": 0.3918335094451904}}, \"EndTime\": 1603912554.056229, \"Dimensions\": {\"model\": 23, \"Host\": \"algo-1\", \"Operation\": \"training\", \"Algorithm\": \"Linear Learner\", \"epoch\": 2}, \"StartTime\": 1603912554.056214}\n",
      "\u001b[0m\n",
      "\u001b[34m#metrics {\"Metrics\": {\"train_absolute_loss_objective\": {\"count\": 1, \"max\": 0.686473575592041, \"sum\": 0.686473575592041, \"min\": 0.686473575592041}}, \"EndTime\": 1603912554.056291, \"Dimensions\": {\"model\": 24, \"Host\": \"algo-1\", \"Operation\": \"training\", \"Algorithm\": \"Linear Learner\", \"epoch\": 2}, \"StartTime\": 1603912554.056276}\n",
      "\u001b[0m\n",
      "\u001b[34m#metrics {\"Metrics\": {\"train_absolute_loss_objective\": {\"count\": 1, \"max\": 0.6983527565002441, \"sum\": 0.6983527565002441, \"min\": 0.6983527565002441}}, \"EndTime\": 1603912554.056345, \"Dimensions\": {\"model\": 25, \"Host\": \"algo-1\", \"Operation\": \"training\", \"Algorithm\": \"Linear Learner\", \"epoch\": 2}, \"StartTime\": 1603912554.056329}\n",
      "\u001b[0m\n",
      "\u001b[34m#metrics {\"Metrics\": {\"train_absolute_loss_objective\": {\"count\": 1, \"max\": 0.6947005348205566, \"sum\": 0.6947005348205566, \"min\": 0.6947005348205566}}, \"EndTime\": 1603912554.056397, \"Dimensions\": {\"model\": 26, \"Host\": \"algo-1\", \"Operation\": \"training\", \"Algorithm\": \"Linear Learner\", \"epoch\": 2}, \"StartTime\": 1603912554.056382}\n",
      "\u001b[0m\n",
      "\u001b[34m#metrics {\"Metrics\": {\"train_absolute_loss_objective\": {\"count\": 1, \"max\": 0.6897459564208984, \"sum\": 0.6897459564208984, \"min\": 0.6897459564208984}}, \"EndTime\": 1603912554.056451, \"Dimensions\": {\"model\": 27, \"Host\": \"algo-1\", \"Operation\": \"training\", \"Algorithm\": \"Linear Learner\", \"epoch\": 2}, \"StartTime\": 1603912554.056436}\n",
      "\u001b[0m\n",
      "\u001b[34m#metrics {\"Metrics\": {\"train_absolute_loss_objective\": {\"count\": 1, \"max\": 0.7009442024230957, \"sum\": 0.7009442024230957, \"min\": 0.7009442024230957}}, \"EndTime\": 1603912554.056506, \"Dimensions\": {\"model\": 28, \"Host\": \"algo-1\", \"Operation\": \"training\", \"Algorithm\": \"Linear Learner\", \"epoch\": 2}, \"StartTime\": 1603912554.05649}\n",
      "\u001b[0m\n",
      "\u001b[34m#metrics {\"Metrics\": {\"train_absolute_loss_objective\": {\"count\": 1, \"max\": 0.7265686416625976, \"sum\": 0.7265686416625976, \"min\": 0.7265686416625976}}, \"EndTime\": 1603912554.056566, \"Dimensions\": {\"model\": 29, \"Host\": \"algo-1\", \"Operation\": \"training\", \"Algorithm\": \"Linear Learner\", \"epoch\": 2}, \"StartTime\": 1603912554.056549}\n",
      "\u001b[0m\n",
      "\u001b[34m#metrics {\"Metrics\": {\"train_absolute_loss_objective\": {\"count\": 1, \"max\": 0.6953688316345215, \"sum\": 0.6953688316345215, \"min\": 0.6953688316345215}}, \"EndTime\": 1603912554.056625, \"Dimensions\": {\"model\": 30, \"Host\": \"algo-1\", \"Operation\": \"training\", \"Algorithm\": \"Linear Learner\", \"epoch\": 2}, \"StartTime\": 1603912554.056607}\n",
      "\u001b[0m\n",
      "\u001b[34m#metrics {\"Metrics\": {\"train_absolute_loss_objective\": {\"count\": 1, \"max\": 0.7095105590820312, \"sum\": 0.7095105590820312, \"min\": 0.7095105590820312}}, \"EndTime\": 1603912554.056688, \"Dimensions\": {\"model\": 31, \"Host\": \"algo-1\", \"Operation\": \"training\", \"Algorithm\": \"Linear Learner\", \"epoch\": 2}, \"StartTime\": 1603912554.056671}\n",
      "\u001b[0m\n",
      "\u001b[34m[10/28/2020 19:15:54 INFO 140353185830720] #quality_metric: host=algo-1, epoch=2, train absolute_loss_objective <loss>=0.561869010925\u001b[0m\n",
      "\u001b[34m[10/28/2020 19:15:54 INFO 140353185830720] #early_stopping_criteria_metric: host=algo-1, epoch=2, criteria=absolute_loss_objective, value=0.322379449844\u001b[0m\n",
      "\u001b[34m[10/28/2020 19:15:54 INFO 140353185830720] Epoch 2: Loss improved. Updating best model\u001b[0m\n",
      "\u001b[34m[10/28/2020 19:15:54 INFO 140353185830720] Saving model for epoch: 2\u001b[0m\n",
      "\u001b[34m[10/28/2020 19:15:54 INFO 140353185830720] Saved checkpoint to \"/tmp/tmpwXkZci/mx-mod-0000.params\"\u001b[0m\n",
      "\u001b[34m[10/28/2020 19:15:54 INFO 140353185830720] #progress_metric: host=algo-1, completed 3 % of epochs\u001b[0m\n",
      "\u001b[34m#metrics {\"Metrics\": {\"Max Batches Seen Between Resets\": {\"count\": 1, \"max\": 11, \"sum\": 11.0, \"min\": 11}, \"Number of Batches Since Last Reset\": {\"count\": 1, \"max\": 11, \"sum\": 11.0, \"min\": 11}, \"Number of Records Since Last Reset\": {\"count\": 1, \"max\": 1070, \"sum\": 1070.0, \"min\": 1070}, \"Total Batches Seen\": {\"count\": 1, \"max\": 45, \"sum\": 45.0, \"min\": 45}, \"Total Records Seen\": {\"count\": 1, \"max\": 4380, \"sum\": 4380.0, \"min\": 4380}, \"Max Records Seen Between Resets\": {\"count\": 1, \"max\": 1070, \"sum\": 1070.0, \"min\": 1070}, \"Reset Count\": {\"count\": 1, \"max\": 5, \"sum\": 5.0, \"min\": 5}}, \"EndTime\": 1603912554.063722, \"Dimensions\": {\"Host\": \"algo-1\", \"Meta\": \"training_data_iter\", \"Operation\": \"training\", \"Algorithm\": \"Linear Learner\", \"epoch\": 2}, \"StartTime\": 1603912553.810926}\n",
      "\u001b[0m\n",
      "\u001b[34m[10/28/2020 19:15:54 INFO 140353185830720] #throughput_metric: host=algo-1, train throughput=4230.52041778 records/second\u001b[0m\n",
      "\u001b[34m[2020-10-28 19:15:54.291] [tensorio] [info] epoch_stats={\"data_pipeline\": \"/opt/ml/input/data/train\", \"epoch\": 10, \"duration\": 227, \"num_examples\": 11, \"num_bytes\": 81320}\u001b[0m\n",
      "\u001b[34m#metrics {\"Metrics\": {\"train_absolute_loss_objective\": {\"count\": 1, \"max\": 0.5112778511047363, \"sum\": 0.5112778511047363, \"min\": 0.5112778511047363}}, \"EndTime\": 1603912554.291665, \"Dimensions\": {\"model\": 0, \"Host\": \"algo-1\", \"Operation\": \"training\", \"Algorithm\": \"Linear Learner\", \"epoch\": 3}, \"StartTime\": 1603912554.291561}\n",
      "\u001b[0m\n",
      "\u001b[34m#metrics {\"Metrics\": {\"train_absolute_loss_objective\": {\"count\": 1, \"max\": 0.5327167892456055, \"sum\": 0.5327167892456055, \"min\": 0.5327167892456055}}, \"EndTime\": 1603912554.291799, \"Dimensions\": {\"model\": 1, \"Host\": \"algo-1\", \"Operation\": \"training\", \"Algorithm\": \"Linear Learner\", \"epoch\": 3}, \"StartTime\": 1603912554.291774}\n",
      "\u001b[0m\n",
      "\u001b[34m#metrics {\"Metrics\": {\"train_absolute_loss_objective\": {\"count\": 1, \"max\": 0.5310111274719238, \"sum\": 0.5310111274719238, \"min\": 0.5310111274719238}}, \"EndTime\": 1603912554.291878, \"Dimensions\": {\"model\": 2, \"Host\": \"algo-1\", \"Operation\": \"training\", \"Algorithm\": \"Linear Learner\", \"epoch\": 3}, \"StartTime\": 1603912554.291857}\n",
      "\u001b[0m\n",
      "\u001b[34m#metrics {\"Metrics\": {\"train_absolute_loss_objective\": {\"count\": 1, \"max\": 0.49016699600219726, \"sum\": 0.49016699600219726, \"min\": 0.49016699600219726}}, \"EndTime\": 1603912554.291946, \"Dimensions\": {\"model\": 3, \"Host\": \"algo-1\", \"Operation\": \"training\", \"Algorithm\": \"Linear Learner\", \"epoch\": 3}, \"StartTime\": 1603912554.291928}\n",
      "\u001b[0m\n",
      "\u001b[34m#metrics {\"Metrics\": {\"train_absolute_loss_objective\": {\"count\": 1, \"max\": 0.3219663848876953, \"sum\": 0.3219663848876953, \"min\": 0.3219663848876953}}, \"EndTime\": 1603912554.292014, \"Dimensions\": {\"model\": 4, \"Host\": \"algo-1\", \"Operation\": \"training\", \"Algorithm\": \"Linear Learner\", \"epoch\": 3}, \"StartTime\": 1603912554.291994}\n",
      "\u001b[0m\n",
      "\u001b[34m#metrics {\"Metrics\": {\"train_absolute_loss_objective\": {\"count\": 1, \"max\": 0.31908355712890624, \"sum\": 0.31908355712890624, \"min\": 0.31908355712890624}}, \"EndTime\": 1603912554.292082, \"Dimensions\": {\"model\": 5, \"Host\": \"algo-1\", \"Operation\": \"training\", \"Algorithm\": \"Linear Learner\", \"epoch\": 3}, \"StartTime\": 1603912554.292064}\n",
      "\u001b[0m\n",
      "\u001b[34m#metrics {\"Metrics\": {\"train_absolute_loss_objective\": {\"count\": 1, \"max\": 0.3193509101867676, \"sum\": 0.3193509101867676, \"min\": 0.3193509101867676}}, \"EndTime\": 1603912554.292142, \"Dimensions\": {\"model\": 6, \"Host\": \"algo-1\", \"Operation\": \"training\", \"Algorithm\": \"Linear Learner\", \"epoch\": 3}, \"StartTime\": 1603912554.292127}\n",
      "\u001b[0m\n",
      "\u001b[34m#metrics {\"Metrics\": {\"train_absolute_loss_objective\": {\"count\": 1, \"max\": 0.32940408706665036, \"sum\": 0.32940408706665036, \"min\": 0.32940408706665036}}, \"EndTime\": 1603912554.292193, \"Dimensions\": {\"model\": 7, \"Host\": \"algo-1\", \"Operation\": \"training\", \"Algorithm\": \"Linear Learner\", \"epoch\": 3}, \"StartTime\": 1603912554.29218}\n",
      "\u001b[0m\n",
      "\u001b[34m#metrics {\"Metrics\": {\"train_absolute_loss_objective\": {\"count\": 1, \"max\": 0.47294029998779297, \"sum\": 0.47294029998779297, \"min\": 0.47294029998779297}}, \"EndTime\": 1603912554.292251, \"Dimensions\": {\"model\": 8, \"Host\": \"algo-1\", \"Operation\": \"training\", \"Algorithm\": \"Linear Learner\", \"epoch\": 3}, \"StartTime\": 1603912554.292235}\n",
      "\u001b[0m\n",
      "\u001b[34m#metrics {\"Metrics\": {\"train_absolute_loss_objective\": {\"count\": 1, \"max\": 0.5608784370422363, \"sum\": 0.5608784370422363, \"min\": 0.5608784370422363}}, \"EndTime\": 1603912554.292309, \"Dimensions\": {\"model\": 9, \"Host\": \"algo-1\", \"Operation\": \"training\", \"Algorithm\": \"Linear Learner\", \"epoch\": 3}, \"StartTime\": 1603912554.292293}\n",
      "\u001b[0m\n",
      "\u001b[34m#metrics {\"Metrics\": {\"train_absolute_loss_objective\": {\"count\": 1, \"max\": 0.5305843734741211, \"sum\": 0.5305843734741211, \"min\": 0.5305843734741211}}, \"EndTime\": 1603912554.292371, \"Dimensions\": {\"model\": 10, \"Host\": \"algo-1\", \"Operation\": \"training\", \"Algorithm\": \"Linear Learner\", \"epoch\": 3}, \"StartTime\": 1603912554.292353}\n",
      "\u001b[0m\n",
      "\u001b[34m#metrics {\"Metrics\": {\"train_absolute_loss_objective\": {\"count\": 1, \"max\": 0.4689620933532715, \"sum\": 0.4689620933532715, \"min\": 0.4689620933532715}}, \"EndTime\": 1603912554.292436, \"Dimensions\": {\"model\": 11, \"Host\": \"algo-1\", \"Operation\": \"training\", \"Algorithm\": \"Linear Learner\", \"epoch\": 3}, \"StartTime\": 1603912554.292419}\n",
      "\u001b[0m\n",
      "\u001b[34m#metrics {\"Metrics\": {\"train_absolute_loss_objective\": {\"count\": 1, \"max\": 0.31331915855407716, \"sum\": 0.31331915855407716, \"min\": 0.31331915855407716}}, \"EndTime\": 1603912554.29249, \"Dimensions\": {\"model\": 12, \"Host\": \"algo-1\", \"Operation\": \"training\", \"Algorithm\": \"Linear Learner\", \"epoch\": 3}, \"StartTime\": 1603912554.292476}\n",
      "\u001b[0m\n",
      "\u001b[34m#metrics {\"Metrics\": {\"train_absolute_loss_objective\": {\"count\": 1, \"max\": 0.3183190612792969, \"sum\": 0.3183190612792969, \"min\": 0.3183190612792969}}, \"EndTime\": 1603912554.29254, \"Dimensions\": {\"model\": 13, \"Host\": \"algo-1\", \"Operation\": \"training\", \"Algorithm\": \"Linear Learner\", \"epoch\": 3}, \"StartTime\": 1603912554.292527}\n",
      "\u001b[0m\n",
      "\u001b[34m#metrics {\"Metrics\": {\"train_absolute_loss_objective\": {\"count\": 1, \"max\": 0.32024048614501954, \"sum\": 0.32024048614501954, \"min\": 0.32024048614501954}}, \"EndTime\": 1603912554.292597, \"Dimensions\": {\"model\": 14, \"Host\": \"algo-1\", \"Operation\": \"training\", \"Algorithm\": \"Linear Learner\", \"epoch\": 3}, \"StartTime\": 1603912554.292582}\n",
      "\u001b[0m\n",
      "\u001b[34m#metrics {\"Metrics\": {\"train_absolute_loss_objective\": {\"count\": 1, \"max\": 0.3312341613769531, \"sum\": 0.3312341613769531, \"min\": 0.3312341613769531}}, \"EndTime\": 1603912554.292655, \"Dimensions\": {\"model\": 15, \"Host\": \"algo-1\", \"Operation\": \"training\", \"Algorithm\": \"Linear Learner\", \"epoch\": 3}, \"StartTime\": 1603912554.292639}\n",
      "\u001b[0m\n",
      "\u001b[34m#metrics {\"Metrics\": {\"train_absolute_loss_objective\": {\"count\": 1, \"max\": 0.543908489227295, \"sum\": 0.543908489227295, \"min\": 0.543908489227295}}, \"EndTime\": 1603912554.292715, \"Dimensions\": {\"model\": 16, \"Host\": \"algo-1\", \"Operation\": \"training\", \"Algorithm\": \"Linear Learner\", \"epoch\": 3}, \"StartTime\": 1603912554.292697}\n",
      "\u001b[0m\n",
      "\u001b[34m#metrics {\"Metrics\": {\"train_absolute_loss_objective\": {\"count\": 1, \"max\": 0.5649070434570312, \"sum\": 0.5649070434570312, \"min\": 0.5649070434570312}}, \"EndTime\": 1603912554.29278, \"Dimensions\": {\"model\": 17, \"Host\": \"algo-1\", \"Operation\": \"training\", \"Algorithm\": \"Linear Learner\", \"epoch\": 3}, \"StartTime\": 1603912554.292763}\n",
      "\u001b[0m\n",
      "\u001b[34m#metrics {\"Metrics\": {\"train_absolute_loss_objective\": {\"count\": 1, \"max\": 0.4905289764404297, \"sum\": 0.4905289764404297, \"min\": 0.4905289764404297}}, \"EndTime\": 1603912554.292835, \"Dimensions\": {\"model\": 18, \"Host\": \"algo-1\", \"Operation\": \"training\", \"Algorithm\": \"Linear Learner\", \"epoch\": 3}, \"StartTime\": 1603912554.292821}\n",
      "\u001b[0m\n",
      "\u001b[34m#metrics {\"Metrics\": {\"train_absolute_loss_objective\": {\"count\": 1, \"max\": 0.5224704742431641, \"sum\": 0.5224704742431641, \"min\": 0.5224704742431641}}, \"EndTime\": 1603912554.292884, \"Dimensions\": {\"model\": 19, \"Host\": \"algo-1\", \"Operation\": \"training\", \"Algorithm\": \"Linear Learner\", \"epoch\": 3}, \"StartTime\": 1603912554.292871}\n",
      "\u001b[0m\n",
      "\u001b[34m#metrics {\"Metrics\": {\"train_absolute_loss_objective\": {\"count\": 1, \"max\": 0.3810230712890625, \"sum\": 0.3810230712890625, \"min\": 0.3810230712890625}}, \"EndTime\": 1603912554.292943, \"Dimensions\": {\"model\": 20, \"Host\": \"algo-1\", \"Operation\": \"training\", \"Algorithm\": \"Linear Learner\", \"epoch\": 3}, \"StartTime\": 1603912554.292926}\n",
      "\u001b[0m\n",
      "\u001b[34m#metrics {\"Metrics\": {\"train_absolute_loss_objective\": {\"count\": 1, \"max\": 0.38822518348693846, \"sum\": 0.38822518348693846, \"min\": 0.38822518348693846}}, \"EndTime\": 1603912554.293, \"Dimensions\": {\"model\": 21, \"Host\": \"algo-1\", \"Operation\": \"training\", \"Algorithm\": \"Linear Learner\", \"epoch\": 3}, \"StartTime\": 1603912554.292984}\n",
      "\u001b[0m\n",
      "\u001b[34m#metrics {\"Metrics\": {\"train_absolute_loss_objective\": {\"count\": 1, \"max\": 0.3850912609100342, \"sum\": 0.3850912609100342, \"min\": 0.3850912609100342}}, \"EndTime\": 1603912554.293059, \"Dimensions\": {\"model\": 22, \"Host\": \"algo-1\", \"Operation\": \"training\", \"Algorithm\": \"Linear Learner\", \"epoch\": 3}, \"StartTime\": 1603912554.293044}\n",
      "\u001b[0m\n",
      "\u001b[34m#metrics {\"Metrics\": {\"train_absolute_loss_objective\": {\"count\": 1, \"max\": 0.38404033851623537, \"sum\": 0.38404033851623537, \"min\": 0.38404033851623537}}, \"EndTime\": 1603912554.293111, \"Dimensions\": {\"model\": 23, \"Host\": \"algo-1\", \"Operation\": \"training\", \"Algorithm\": \"Linear Learner\", \"epoch\": 3}, \"StartTime\": 1603912554.293097}\n",
      "\u001b[0m\n",
      "\u001b[34m#metrics {\"Metrics\": {\"train_absolute_loss_objective\": {\"count\": 1, \"max\": 0.6880741195678711, \"sum\": 0.6880741195678711, \"min\": 0.6880741195678711}}, \"EndTime\": 1603912554.29316, \"Dimensions\": {\"model\": 24, \"Host\": \"algo-1\", \"Operation\": \"training\", \"Algorithm\": \"Linear Learner\", \"epoch\": 3}, \"StartTime\": 1603912554.293148}\n",
      "\u001b[0m\n",
      "\u001b[34m#metrics {\"Metrics\": {\"train_absolute_loss_objective\": {\"count\": 1, \"max\": 0.6886328887939454, \"sum\": 0.6886328887939454, \"min\": 0.6886328887939454}}, \"EndTime\": 1603912554.293214, \"Dimensions\": {\"model\": 25, \"Host\": \"algo-1\", \"Operation\": \"training\", \"Algorithm\": \"Linear Learner\", \"epoch\": 3}, \"StartTime\": 1603912554.293199}\n",
      "\u001b[0m\n",
      "\u001b[34m#metrics {\"Metrics\": {\"train_absolute_loss_objective\": {\"count\": 1, \"max\": 0.6933783950805664, \"sum\": 0.6933783950805664, \"min\": 0.6933783950805664}}, \"EndTime\": 1603912554.293267, \"Dimensions\": {\"model\": 26, \"Host\": \"algo-1\", \"Operation\": \"training\", \"Algorithm\": \"Linear Learner\", \"epoch\": 3}, \"StartTime\": 1603912554.293251}\n",
      "\u001b[0m\n",
      "\u001b[34m#metrics {\"Metrics\": {\"train_absolute_loss_objective\": {\"count\": 1, \"max\": 0.6922391510009765, \"sum\": 0.6922391510009765, \"min\": 0.6922391510009765}}, \"EndTime\": 1603912554.293343, \"Dimensions\": {\"model\": 27, \"Host\": \"algo-1\", \"Operation\": \"training\", \"Algorithm\": \"Linear Learner\", \"epoch\": 3}, \"StartTime\": 1603912554.293326}\n",
      "\u001b[0m\n",
      "\u001b[34m#metrics {\"Metrics\": {\"train_absolute_loss_objective\": {\"count\": 1, \"max\": 0.7010146446228027, \"sum\": 0.7010146446228027, \"min\": 0.7010146446228027}}, \"EndTime\": 1603912554.293405, \"Dimensions\": {\"model\": 28, \"Host\": \"algo-1\", \"Operation\": \"training\", \"Algorithm\": \"Linear Learner\", \"epoch\": 3}, \"StartTime\": 1603912554.293387}\n",
      "\u001b[0m\n",
      "\u001b[34m#metrics {\"Metrics\": {\"train_absolute_loss_objective\": {\"count\": 1, \"max\": 0.7196274032592773, \"sum\": 0.7196274032592773, \"min\": 0.7196274032592773}}, \"EndTime\": 1603912554.293466, \"Dimensions\": {\"model\": 29, \"Host\": \"algo-1\", \"Operation\": \"training\", \"Algorithm\": \"Linear Learner\", \"epoch\": 3}, \"StartTime\": 1603912554.293448}\n",
      "\u001b[0m\n",
      "\u001b[34m#metrics {\"Metrics\": {\"train_absolute_loss_objective\": {\"count\": 1, \"max\": 0.694308666229248, \"sum\": 0.694308666229248, \"min\": 0.694308666229248}}, \"EndTime\": 1603912554.293546, \"Dimensions\": {\"model\": 30, \"Host\": \"algo-1\", \"Operation\": \"training\", \"Algorithm\": \"Linear Learner\", \"epoch\": 3}, \"StartTime\": 1603912554.29353}\n",
      "\u001b[0m\n",
      "\u001b[34m#metrics {\"Metrics\": {\"train_absolute_loss_objective\": {\"count\": 1, \"max\": 0.7081627197265625, \"sum\": 0.7081627197265625, \"min\": 0.7081627197265625}}, \"EndTime\": 1603912554.293614, \"Dimensions\": {\"model\": 31, \"Host\": \"algo-1\", \"Operation\": \"training\", \"Algorithm\": \"Linear Learner\", \"epoch\": 3}, \"StartTime\": 1603912554.293597}\n",
      "\u001b[0m\n",
      "\u001b[34m[10/28/2020 19:15:54 INFO 140353185830720] #quality_metric: host=algo-1, epoch=3, train absolute_loss_objective <loss>=0.511277851105\u001b[0m\n",
      "\u001b[34m[10/28/2020 19:15:54 INFO 140353185830720] #early_stopping_criteria_metric: host=algo-1, epoch=3, criteria=absolute_loss_objective, value=0.313319158554\u001b[0m\n",
      "\u001b[34m[10/28/2020 19:15:54 INFO 140353185830720] Epoch 3: Loss improved. Updating best model\u001b[0m\n",
      "\u001b[34m[10/28/2020 19:15:54 INFO 140353185830720] Saving model for epoch: 3\u001b[0m\n",
      "\u001b[34m[10/28/2020 19:15:54 INFO 140353185830720] Saved checkpoint to \"/tmp/tmpzrOIR4/mx-mod-0000.params\"\u001b[0m\n",
      "\u001b[34m[10/28/2020 19:15:54 INFO 140353185830720] #progress_metric: host=algo-1, completed 4 % of epochs\u001b[0m\n",
      "\u001b[34m#metrics {\"Metrics\": {\"Max Batches Seen Between Resets\": {\"count\": 1, \"max\": 11, \"sum\": 11.0, \"min\": 11}, \"Number of Batches Since Last Reset\": {\"count\": 1, \"max\": 11, \"sum\": 11.0, \"min\": 11}, \"Number of Records Since Last Reset\": {\"count\": 1, \"max\": 1070, \"sum\": 1070.0, \"min\": 1070}, \"Total Batches Seen\": {\"count\": 1, \"max\": 56, \"sum\": 56.0, \"min\": 56}, \"Total Records Seen\": {\"count\": 1, \"max\": 5450, \"sum\": 5450.0, \"min\": 5450}, \"Max Records Seen Between Resets\": {\"count\": 1, \"max\": 1070, \"sum\": 1070.0, \"min\": 1070}, \"Reset Count\": {\"count\": 1, \"max\": 6, \"sum\": 6.0, \"min\": 6}}, \"EndTime\": 1603912554.304995, \"Dimensions\": {\"Host\": \"algo-1\", \"Meta\": \"training_data_iter\", \"Operation\": \"training\", \"Algorithm\": \"Linear Learner\", \"epoch\": 3}, \"StartTime\": 1603912554.063996}\n",
      "\u001b[0m\n",
      "\u001b[34m[10/28/2020 19:15:54 INFO 140353185830720] #throughput_metric: host=algo-1, train throughput=4437.60502702 records/second\u001b[0m\n",
      "\u001b[34m[2020-10-28 19:15:54.571] [tensorio] [info] epoch_stats={\"data_pipeline\": \"/opt/ml/input/data/train\", \"epoch\": 12, \"duration\": 265, \"num_examples\": 11, \"num_bytes\": 81320}\u001b[0m\n",
      "\u001b[34m#metrics {\"Metrics\": {\"train_absolute_loss_objective\": {\"count\": 1, \"max\": 0.46323769760131833, \"sum\": 0.46323769760131833, \"min\": 0.46323769760131833}}, \"EndTime\": 1603912554.571573, \"Dimensions\": {\"model\": 0, \"Host\": \"algo-1\", \"Operation\": \"training\", \"Algorithm\": \"Linear Learner\", \"epoch\": 4}, \"StartTime\": 1603912554.571468}\n",
      "\u001b[0m\n",
      "\u001b[34m#metrics {\"Metrics\": {\"train_absolute_loss_objective\": {\"count\": 1, \"max\": 0.4831281890869141, \"sum\": 0.4831281890869141, \"min\": 0.4831281890869141}}, \"EndTime\": 1603912554.57168, \"Dimensions\": {\"model\": 1, \"Host\": \"algo-1\", \"Operation\": \"training\", \"Algorithm\": \"Linear Learner\", \"epoch\": 4}, \"StartTime\": 1603912554.571662}\n",
      "\u001b[0m\n",
      "\u001b[34m#metrics {\"Metrics\": {\"train_absolute_loss_objective\": {\"count\": 1, \"max\": 0.48247718811035156, \"sum\": 0.48247718811035156, \"min\": 0.48247718811035156}}, \"EndTime\": 1603912554.571741, \"Dimensions\": {\"model\": 2, \"Host\": \"algo-1\", \"Operation\": \"training\", \"Algorithm\": \"Linear Learner\", \"epoch\": 4}, \"StartTime\": 1603912554.571725}\n",
      "\u001b[0m\n",
      "\u001b[34m#metrics {\"Metrics\": {\"train_absolute_loss_objective\": {\"count\": 1, \"max\": 0.4412722282409668, \"sum\": 0.4412722282409668, \"min\": 0.4412722282409668}}, \"EndTime\": 1603912554.571796, \"Dimensions\": {\"model\": 3, \"Host\": \"algo-1\", \"Operation\": \"training\", \"Algorithm\": \"Linear Learner\", \"epoch\": 4}, \"StartTime\": 1603912554.571781}\n",
      "\u001b[0m\n",
      "\u001b[34m#metrics {\"Metrics\": {\"train_absolute_loss_objective\": {\"count\": 1, \"max\": 0.3303145618438721, \"sum\": 0.3303145618438721, \"min\": 0.3303145618438721}}, \"EndTime\": 1603912554.571854, \"Dimensions\": {\"model\": 4, \"Host\": \"algo-1\", \"Operation\": \"training\", \"Algorithm\": \"Linear Learner\", \"epoch\": 4}, \"StartTime\": 1603912554.571838}\n",
      "\u001b[0m\n",
      "\u001b[34m#metrics {\"Metrics\": {\"train_absolute_loss_objective\": {\"count\": 1, \"max\": 0.33651807975769044, \"sum\": 0.33651807975769044, \"min\": 0.33651807975769044}}, \"EndTime\": 1603912554.571916, \"Dimensions\": {\"model\": 5, \"Host\": \"algo-1\", \"Operation\": \"training\", \"Algorithm\": \"Linear Learner\", \"epoch\": 4}, \"StartTime\": 1603912554.571899}\n",
      "\u001b[0m\n",
      "\u001b[34m#metrics {\"Metrics\": {\"train_absolute_loss_objective\": {\"count\": 1, \"max\": 0.3052500286102295, \"sum\": 0.3052500286102295, \"min\": 0.3052500286102295}}, \"EndTime\": 1603912554.571978, \"Dimensions\": {\"model\": 6, \"Host\": \"algo-1\", \"Operation\": \"training\", \"Algorithm\": \"Linear Learner\", \"epoch\": 4}, \"StartTime\": 1603912554.57196}\n",
      "\u001b[0m\n",
      "\u001b[34m#metrics {\"Metrics\": {\"train_absolute_loss_objective\": {\"count\": 1, \"max\": 0.31524594688415525, \"sum\": 0.31524594688415525, \"min\": 0.31524594688415525}}, \"EndTime\": 1603912554.572041, \"Dimensions\": {\"model\": 7, \"Host\": \"algo-1\", \"Operation\": \"training\", \"Algorithm\": \"Linear Learner\", \"epoch\": 4}, \"StartTime\": 1603912554.572024}\n",
      "\u001b[0m\n",
      "\u001b[34m#metrics {\"Metrics\": {\"train_absolute_loss_objective\": {\"count\": 1, \"max\": 0.4259738807678223, \"sum\": 0.4259738807678223, \"min\": 0.4259738807678223}}, \"EndTime\": 1603912554.572103, \"Dimensions\": {\"model\": 8, \"Host\": \"algo-1\", \"Operation\": \"training\", \"Algorithm\": \"Linear Learner\", \"epoch\": 4}, \"StartTime\": 1603912554.572085}\n",
      "\u001b[0m\n",
      "\u001b[34m#metrics {\"Metrics\": {\"train_absolute_loss_objective\": {\"count\": 1, \"max\": 0.5107492866516113, \"sum\": 0.5107492866516113, \"min\": 0.5107492866516113}}, \"EndTime\": 1603912554.572163, \"Dimensions\": {\"model\": 9, \"Host\": \"algo-1\", \"Operation\": \"training\", \"Algorithm\": \"Linear Learner\", \"epoch\": 4}, \"StartTime\": 1603912554.572146}\n",
      "\u001b[0m\n",
      "\u001b[34m#metrics {\"Metrics\": {\"train_absolute_loss_objective\": {\"count\": 1, \"max\": 0.4825120735168457, \"sum\": 0.4825120735168457, \"min\": 0.4825120735168457}}, \"EndTime\": 1603912554.572224, \"Dimensions\": {\"model\": 10, \"Host\": \"algo-1\", \"Operation\": \"training\", \"Algorithm\": \"Linear Learner\", \"epoch\": 4}, \"StartTime\": 1603912554.572207}\n",
      "\u001b[0m\n",
      "\u001b[34m#metrics {\"Metrics\": {\"train_absolute_loss_objective\": {\"count\": 1, \"max\": 0.4253947868347168, \"sum\": 0.4253947868347168, \"min\": 0.4253947868347168}}, \"EndTime\": 1603912554.572285, \"Dimensions\": {\"model\": 11, \"Host\": \"algo-1\", \"Operation\": \"training\", \"Algorithm\": \"Linear Learner\", \"epoch\": 4}, \"StartTime\": 1603912554.572268}\n",
      "\u001b[0m\n",
      "\u001b[34m#metrics {\"Metrics\": {\"train_absolute_loss_objective\": {\"count\": 1, \"max\": 0.3107188262939453, \"sum\": 0.3107188262939453, \"min\": 0.3107188262939453}}, \"EndTime\": 1603912554.572347, \"Dimensions\": {\"model\": 12, \"Host\": \"algo-1\", \"Operation\": \"training\", \"Algorithm\": \"Linear Learner\", \"epoch\": 4}, \"StartTime\": 1603912554.572329}\n",
      "\u001b[0m\n",
      "\u001b[34m#metrics {\"Metrics\": {\"train_absolute_loss_objective\": {\"count\": 1, \"max\": 0.3155537128448486, \"sum\": 0.3155537128448486, \"min\": 0.3155537128448486}}, \"EndTime\": 1603912554.57241, \"Dimensions\": {\"model\": 13, \"Host\": \"algo-1\", \"Operation\": \"training\", \"Algorithm\": \"Linear Learner\", \"epoch\": 4}, \"StartTime\": 1603912554.572392}\n",
      "\u001b[0m\n",
      "\u001b[34m#metrics {\"Metrics\": {\"train_absolute_loss_objective\": {\"count\": 1, \"max\": 0.3108221588134766, \"sum\": 0.3108221588134766, \"min\": 0.3108221588134766}}, \"EndTime\": 1603912554.572469, \"Dimensions\": {\"model\": 14, \"Host\": \"algo-1\", \"Operation\": \"training\", \"Algorithm\": \"Linear Learner\", \"epoch\": 4}, \"StartTime\": 1603912554.572453}\n",
      "\u001b[0m\n",
      "\u001b[34m#metrics {\"Metrics\": {\"train_absolute_loss_objective\": {\"count\": 1, \"max\": 0.32128414154052737, \"sum\": 0.32128414154052737, \"min\": 0.32128414154052737}}, \"EndTime\": 1603912554.572528, \"Dimensions\": {\"model\": 15, \"Host\": \"algo-1\", \"Operation\": \"training\", \"Algorithm\": \"Linear Learner\", \"epoch\": 4}, \"StartTime\": 1603912554.572513}\n",
      "\u001b[0m\n",
      "\u001b[34m#metrics {\"Metrics\": {\"train_absolute_loss_objective\": {\"count\": 1, \"max\": 0.5019005432128906, \"sum\": 0.5019005432128906, \"min\": 0.5019005432128906}}, \"EndTime\": 1603912554.572585, \"Dimensions\": {\"model\": 16, \"Host\": \"algo-1\", \"Operation\": \"training\", \"Algorithm\": \"Linear Learner\", \"epoch\": 4}, \"StartTime\": 1603912554.57257}\n",
      "\u001b[0m\n",
      "\u001b[34m#metrics {\"Metrics\": {\"train_absolute_loss_objective\": {\"count\": 1, \"max\": 0.5212216186523437, \"sum\": 0.5212216186523437, \"min\": 0.5212216186523437}}, \"EndTime\": 1603912554.572645, \"Dimensions\": {\"model\": 17, \"Host\": \"algo-1\", \"Operation\": \"training\", \"Algorithm\": \"Linear Learner\", \"epoch\": 4}, \"StartTime\": 1603912554.572628}\n",
      "\u001b[0m\n",
      "\u001b[34m#metrics {\"Metrics\": {\"train_absolute_loss_objective\": {\"count\": 1, \"max\": 0.44978861618041993, \"sum\": 0.44978861618041993, \"min\": 0.44978861618041993}}, \"EndTime\": 1603912554.572705, \"Dimensions\": {\"model\": 18, \"Host\": \"algo-1\", \"Operation\": \"training\", \"Algorithm\": \"Linear Learner\", \"epoch\": 4}, \"StartTime\": 1603912554.572687}\n",
      "\u001b[0m\n",
      "\u001b[34m#metrics {\"Metrics\": {\"train_absolute_loss_objective\": {\"count\": 1, \"max\": 0.4792508239746094, \"sum\": 0.4792508239746094, \"min\": 0.4792508239746094}}, \"EndTime\": 1603912554.572762, \"Dimensions\": {\"model\": 19, \"Host\": \"algo-1\", \"Operation\": \"training\", \"Algorithm\": \"Linear Learner\", \"epoch\": 4}, \"StartTime\": 1603912554.572747}\n",
      "\u001b[0m\n",
      "\u001b[34m#metrics {\"Metrics\": {\"train_absolute_loss_objective\": {\"count\": 1, \"max\": 0.3601762447357178, \"sum\": 0.3601762447357178, \"min\": 0.3601762447357178}}, \"EndTime\": 1603912554.572816, \"Dimensions\": {\"model\": 20, \"Host\": \"algo-1\", \"Operation\": \"training\", \"Algorithm\": \"Linear Learner\", \"epoch\": 4}, \"StartTime\": 1603912554.572802}\n",
      "\u001b[0m\n",
      "\u001b[34m#metrics {\"Metrics\": {\"train_absolute_loss_objective\": {\"count\": 1, \"max\": 0.3762076988220215, \"sum\": 0.3762076988220215, \"min\": 0.3762076988220215}}, \"EndTime\": 1603912554.572874, \"Dimensions\": {\"model\": 21, \"Host\": \"algo-1\", \"Operation\": \"training\", \"Algorithm\": \"Linear Learner\", \"epoch\": 4}, \"StartTime\": 1603912554.572857}\n",
      "\u001b[0m\n",
      "\u001b[34m#metrics {\"Metrics\": {\"train_absolute_loss_objective\": {\"count\": 1, \"max\": 0.36580532836914065, \"sum\": 0.36580532836914065, \"min\": 0.36580532836914065}}, \"EndTime\": 1603912554.572931, \"Dimensions\": {\"model\": 22, \"Host\": \"algo-1\", \"Operation\": \"training\", \"Algorithm\": \"Linear Learner\", \"epoch\": 4}, \"StartTime\": 1603912554.572915}\n",
      "\u001b[0m\n",
      "\u001b[34m#metrics {\"Metrics\": {\"train_absolute_loss_objective\": {\"count\": 1, \"max\": 0.3898623962402344, \"sum\": 0.3898623962402344, \"min\": 0.3898623962402344}}, \"EndTime\": 1603912554.572989, \"Dimensions\": {\"model\": 23, \"Host\": \"algo-1\", \"Operation\": \"training\", \"Algorithm\": \"Linear Learner\", \"epoch\": 4}, \"StartTime\": 1603912554.572972}\n",
      "\u001b[0m\n",
      "\u001b[34m#metrics {\"Metrics\": {\"train_absolute_loss_objective\": {\"count\": 1, \"max\": 0.6900118522644043, \"sum\": 0.6900118522644043, \"min\": 0.6900118522644043}}, \"EndTime\": 1603912554.573051, \"Dimensions\": {\"model\": 24, \"Host\": \"algo-1\", \"Operation\": \"training\", \"Algorithm\": \"Linear Learner\", \"epoch\": 4}, \"StartTime\": 1603912554.573034}\n",
      "\u001b[0m\n",
      "\u001b[34m#metrics {\"Metrics\": {\"train_absolute_loss_objective\": {\"count\": 1, \"max\": 0.6865455055236817, \"sum\": 0.6865455055236817, \"min\": 0.6865455055236817}}, \"EndTime\": 1603912554.573111, \"Dimensions\": {\"model\": 25, \"Host\": \"algo-1\", \"Operation\": \"training\", \"Algorithm\": \"Linear Learner\", \"epoch\": 4}, \"StartTime\": 1603912554.573094}\n",
      "\u001b[0m\n",
      "\u001b[34m#metrics {\"Metrics\": {\"train_absolute_loss_objective\": {\"count\": 1, \"max\": 0.6875185966491699, \"sum\": 0.6875185966491699, \"min\": 0.6875185966491699}}, \"EndTime\": 1603912554.573172, \"Dimensions\": {\"model\": 26, \"Host\": \"algo-1\", \"Operation\": \"training\", \"Algorithm\": \"Linear Learner\", \"epoch\": 4}, \"StartTime\": 1603912554.573155}\n",
      "\u001b[0m\n",
      "\u001b[34m#metrics {\"Metrics\": {\"train_absolute_loss_objective\": {\"count\": 1, \"max\": 0.6868270072937012, \"sum\": 0.6868270072937012, \"min\": 0.6868270072937012}}, \"EndTime\": 1603912554.573233, \"Dimensions\": {\"model\": 27, \"Host\": \"algo-1\", \"Operation\": \"training\", \"Algorithm\": \"Linear Learner\", \"epoch\": 4}, \"StartTime\": 1603912554.573216}\n",
      "\u001b[0m\n",
      "\u001b[34m#metrics {\"Metrics\": {\"train_absolute_loss_objective\": {\"count\": 1, \"max\": 0.7007992019653321, \"sum\": 0.7007992019653321, \"min\": 0.7007992019653321}}, \"EndTime\": 1603912554.573303, \"Dimensions\": {\"model\": 28, \"Host\": \"algo-1\", \"Operation\": \"training\", \"Algorithm\": \"Linear Learner\", \"epoch\": 4}, \"StartTime\": 1603912554.573284}\n",
      "\u001b[0m\n",
      "\u001b[34m#metrics {\"Metrics\": {\"train_absolute_loss_objective\": {\"count\": 1, \"max\": 0.7092997360229493, \"sum\": 0.7092997360229493, \"min\": 0.7092997360229493}}, \"EndTime\": 1603912554.573376, \"Dimensions\": {\"model\": 29, \"Host\": \"algo-1\", \"Operation\": \"training\", \"Algorithm\": \"Linear Learner\", \"epoch\": 4}, \"StartTime\": 1603912554.573358}\n",
      "\u001b[0m\n",
      "\u001b[34m#metrics {\"Metrics\": {\"train_absolute_loss_objective\": {\"count\": 1, \"max\": 0.6971627197265625, \"sum\": 0.6971627197265625, \"min\": 0.6971627197265625}}, \"EndTime\": 1603912554.57344, \"Dimensions\": {\"model\": 30, \"Host\": \"algo-1\", \"Operation\": \"training\", \"Algorithm\": \"Linear Learner\", \"epoch\": 4}, \"StartTime\": 1603912554.573422}\n",
      "\u001b[0m\n",
      "\u001b[34m#metrics {\"Metrics\": {\"train_absolute_loss_objective\": {\"count\": 1, \"max\": 0.7037918090820312, \"sum\": 0.7037918090820312, \"min\": 0.7037918090820312}}, \"EndTime\": 1603912554.5735, \"Dimensions\": {\"model\": 31, \"Host\": \"algo-1\", \"Operation\": \"training\", \"Algorithm\": \"Linear Learner\", \"epoch\": 4}, \"StartTime\": 1603912554.573484}\n",
      "\u001b[0m\n",
      "\u001b[34m[10/28/2020 19:15:54 INFO 140353185830720] #quality_metric: host=algo-1, epoch=4, train absolute_loss_objective <loss>=0.463237697601\u001b[0m\n",
      "\u001b[34m[10/28/2020 19:15:54 INFO 140353185830720] #early_stopping_criteria_metric: host=algo-1, epoch=4, criteria=absolute_loss_objective, value=0.30525002861\u001b[0m\n",
      "\u001b[34m[10/28/2020 19:15:54 INFO 140353185830720] Epoch 4: Loss improved. Updating best model\u001b[0m\n",
      "\u001b[34m[10/28/2020 19:15:54 INFO 140353185830720] Saving model for epoch: 4\u001b[0m\n",
      "\u001b[34m[10/28/2020 19:15:54 INFO 140353185830720] Saved checkpoint to \"/tmp/tmpy7l8E4/mx-mod-0000.params\"\u001b[0m\n",
      "\u001b[34m[10/28/2020 19:15:54 INFO 140353185830720] #progress_metric: host=algo-1, completed 5 % of epochs\u001b[0m\n",
      "\u001b[34m#metrics {\"Metrics\": {\"Max Batches Seen Between Resets\": {\"count\": 1, \"max\": 11, \"sum\": 11.0, \"min\": 11}, \"Number of Batches Since Last Reset\": {\"count\": 1, \"max\": 11, \"sum\": 11.0, \"min\": 11}, \"Number of Records Since Last Reset\": {\"count\": 1, \"max\": 1070, \"sum\": 1070.0, \"min\": 1070}, \"Total Batches Seen\": {\"count\": 1, \"max\": 67, \"sum\": 67.0, \"min\": 67}, \"Total Records Seen\": {\"count\": 1, \"max\": 6520, \"sum\": 6520.0, \"min\": 6520}, \"Max Records Seen Between Resets\": {\"count\": 1, \"max\": 1070, \"sum\": 1070.0, \"min\": 1070}, \"Reset Count\": {\"count\": 1, \"max\": 7, \"sum\": 7.0, \"min\": 7}}, \"EndTime\": 1603912554.587793, \"Dimensions\": {\"Host\": \"algo-1\", \"Meta\": \"training_data_iter\", \"Operation\": \"training\", \"Algorithm\": \"Linear Learner\", \"epoch\": 4}, \"StartTime\": 1603912554.305268}\n",
      "\u001b[0m\n",
      "\u001b[34m[10/28/2020 19:15:54 INFO 140353185830720] #throughput_metric: host=algo-1, train throughput=3785.4952752 records/second\u001b[0m\n",
      "\u001b[34m[2020-10-28 19:15:54.811] [tensorio] [info] epoch_stats={\"data_pipeline\": \"/opt/ml/input/data/train\", \"epoch\": 14, \"duration\": 223, \"num_examples\": 11, \"num_bytes\": 81320}\u001b[0m\n",
      "\u001b[34m#metrics {\"Metrics\": {\"train_absolute_loss_objective\": {\"count\": 1, \"max\": 0.418090877532959, \"sum\": 0.418090877532959, \"min\": 0.418090877532959}}, \"EndTime\": 1603912554.81177, \"Dimensions\": {\"model\": 0, \"Host\": \"algo-1\", \"Operation\": \"training\", \"Algorithm\": \"Linear Learner\", \"epoch\": 5}, \"StartTime\": 1603912554.811667}\n",
      "\u001b[0m\n",
      "\u001b[34m#metrics {\"Metrics\": {\"train_absolute_loss_objective\": {\"count\": 1, \"max\": 0.4409347915649414, \"sum\": 0.4409347915649414, \"min\": 0.4409347915649414}}, \"EndTime\": 1603912554.811879, \"Dimensions\": {\"model\": 1, \"Host\": \"algo-1\", \"Operation\": \"training\", \"Algorithm\": \"Linear Learner\", \"epoch\": 5}, \"StartTime\": 1603912554.811857}\n",
      "\u001b[0m\n",
      "\u001b[34m#metrics {\"Metrics\": {\"train_absolute_loss_objective\": {\"count\": 1, \"max\": 0.4382123298645019, \"sum\": 0.4382123298645019, \"min\": 0.4382123298645019}}, \"EndTime\": 1603912554.811941, \"Dimensions\": {\"model\": 2, \"Host\": \"algo-1\", \"Operation\": \"training\", \"Algorithm\": \"Linear Learner\", \"epoch\": 5}, \"StartTime\": 1603912554.811925}\n",
      "\u001b[0m\n",
      "\u001b[34m#metrics {\"Metrics\": {\"train_absolute_loss_objective\": {\"count\": 1, \"max\": 0.40109144973754884, \"sum\": 0.40109144973754884, \"min\": 0.40109144973754884}}, \"EndTime\": 1603912554.812007, \"Dimensions\": {\"model\": 3, \"Host\": \"algo-1\", \"Operation\": \"training\", \"Algorithm\": \"Linear Learner\", \"epoch\": 5}, \"StartTime\": 1603912554.811988}\n",
      "\u001b[0m\n",
      "\u001b[34m#metrics {\"Metrics\": {\"train_absolute_loss_objective\": {\"count\": 1, \"max\": 0.30670560836791994, \"sum\": 0.30670560836791994, \"min\": 0.30670560836791994}}, \"EndTime\": 1603912554.812072, \"Dimensions\": {\"model\": 4, \"Host\": \"algo-1\", \"Operation\": \"training\", \"Algorithm\": \"Linear Learner\", \"epoch\": 5}, \"StartTime\": 1603912554.812054}\n",
      "\u001b[0m\n",
      "\u001b[34m#metrics {\"Metrics\": {\"train_absolute_loss_objective\": {\"count\": 1, \"max\": 0.3151227493286133, \"sum\": 0.3151227493286133, \"min\": 0.3151227493286133}}, \"EndTime\": 1603912554.812137, \"Dimensions\": {\"model\": 5, \"Host\": \"algo-1\", \"Operation\": \"training\", \"Algorithm\": \"Linear Learner\", \"epoch\": 5}, \"StartTime\": 1603912554.812119}\n",
      "\u001b[0m\n",
      "\u001b[34m#metrics {\"Metrics\": {\"train_absolute_loss_objective\": {\"count\": 1, \"max\": 0.31382978057861327, \"sum\": 0.31382978057861327, \"min\": 0.31382978057861327}}, \"EndTime\": 1603912554.812199, \"Dimensions\": {\"model\": 6, \"Host\": \"algo-1\", \"Operation\": \"training\", \"Algorithm\": \"Linear Learner\", \"epoch\": 5}, \"StartTime\": 1603912554.812181}\n",
      "\u001b[0m\n",
      "\u001b[34m#metrics {\"Metrics\": {\"train_absolute_loss_objective\": {\"count\": 1, \"max\": 0.31170059013366697, \"sum\": 0.31170059013366697, \"min\": 0.31170059013366697}}, \"EndTime\": 1603912554.812266, \"Dimensions\": {\"model\": 7, \"Host\": \"algo-1\", \"Operation\": \"training\", \"Algorithm\": \"Linear Learner\", \"epoch\": 5}, \"StartTime\": 1603912554.812247}\n",
      "\u001b[0m\n",
      "\u001b[34m#metrics {\"Metrics\": {\"train_absolute_loss_objective\": {\"count\": 1, \"max\": 0.38815954780578615, \"sum\": 0.38815954780578615, \"min\": 0.38815954780578615}}, \"EndTime\": 1603912554.81234, \"Dimensions\": {\"model\": 8, \"Host\": \"algo-1\", \"Operation\": \"training\", \"Algorithm\": \"Linear Learner\", \"epoch\": 5}, \"StartTime\": 1603912554.812321}\n",
      "\u001b[0m\n",
      "\u001b[34m#metrics {\"Metrics\": {\"train_absolute_loss_objective\": {\"count\": 1, \"max\": 0.4630269088745117, \"sum\": 0.4630269088745117, \"min\": 0.4630269088745117}}, \"EndTime\": 1603912554.812411, \"Dimensions\": {\"model\": 9, \"Host\": \"algo-1\", \"Operation\": \"training\", \"Algorithm\": \"Linear Learner\", \"epoch\": 5}, \"StartTime\": 1603912554.812392}\n",
      "\u001b[0m\n",
      "\u001b[34m#metrics {\"Metrics\": {\"train_absolute_loss_objective\": {\"count\": 1, \"max\": 0.43643389892578127, \"sum\": 0.43643389892578127, \"min\": 0.43643389892578127}}, \"EndTime\": 1603912554.812481, \"Dimensions\": {\"model\": 10, \"Host\": \"algo-1\", \"Operation\": \"training\", \"Algorithm\": \"Linear Learner\", \"epoch\": 5}, \"StartTime\": 1603912554.812463}\n",
      "\u001b[0m\n",
      "\u001b[34m#metrics {\"Metrics\": {\"train_absolute_loss_objective\": {\"count\": 1, \"max\": 0.3985752601623535, \"sum\": 0.3985752601623535, \"min\": 0.3985752601623535}}, \"EndTime\": 1603912554.81255, \"Dimensions\": {\"model\": 11, \"Host\": \"algo-1\", \"Operation\": \"training\", \"Algorithm\": \"Linear Learner\", \"epoch\": 5}, \"StartTime\": 1603912554.812533}\n",
      "\u001b[0m\n",
      "\u001b[34m#metrics {\"Metrics\": {\"train_absolute_loss_objective\": {\"count\": 1, \"max\": 0.31059185218811036, \"sum\": 0.31059185218811036, \"min\": 0.31059185218811036}}, \"EndTime\": 1603912554.812619, \"Dimensions\": {\"model\": 12, \"Host\": \"algo-1\", \"Operation\": \"training\", \"Algorithm\": \"Linear Learner\", \"epoch\": 5}, \"StartTime\": 1603912554.812601}\n",
      "\u001b[0m\n",
      "\u001b[34m#metrics {\"Metrics\": {\"train_absolute_loss_objective\": {\"count\": 1, \"max\": 0.30814310455322264, \"sum\": 0.30814310455322264, \"min\": 0.30814310455322264}}, \"EndTime\": 1603912554.81268, \"Dimensions\": {\"model\": 13, \"Host\": \"algo-1\", \"Operation\": \"training\", \"Algorithm\": \"Linear Learner\", \"epoch\": 5}, \"StartTime\": 1603912554.812664}\n",
      "\u001b[0m\n",
      "\u001b[34m#metrics {\"Metrics\": {\"train_absolute_loss_objective\": {\"count\": 1, \"max\": 0.30635791778564453, \"sum\": 0.30635791778564453, \"min\": 0.30635791778564453}}, \"EndTime\": 1603912554.812892, \"Dimensions\": {\"model\": 14, \"Host\": \"algo-1\", \"Operation\": \"training\", \"Algorithm\": \"Linear Learner\", \"epoch\": 5}, \"StartTime\": 1603912554.81287}\n",
      "\u001b[0m\n",
      "\u001b[34m#metrics {\"Metrics\": {\"train_absolute_loss_objective\": {\"count\": 1, \"max\": 0.3140178451538086, \"sum\": 0.3140178451538086, \"min\": 0.3140178451538086}}, \"EndTime\": 1603912554.812949, \"Dimensions\": {\"model\": 15, \"Host\": \"algo-1\", \"Operation\": \"training\", \"Algorithm\": \"Linear Learner\", \"epoch\": 5}, \"StartTime\": 1603912554.812936}\n",
      "\u001b[0m\n",
      "\u001b[34m#metrics {\"Metrics\": {\"train_absolute_loss_objective\": {\"count\": 1, \"max\": 0.4639303894042969, \"sum\": 0.4639303894042969, \"min\": 0.4639303894042969}}, \"EndTime\": 1603912554.813007, \"Dimensions\": {\"model\": 16, \"Host\": \"algo-1\", \"Operation\": \"training\", \"Algorithm\": \"Linear Learner\", \"epoch\": 5}, \"StartTime\": 1603912554.812993}\n",
      "\u001b[0m\n",
      "\u001b[34m#metrics {\"Metrics\": {\"train_absolute_loss_objective\": {\"count\": 1, \"max\": 0.4812415924072266, \"sum\": 0.4812415924072266, \"min\": 0.4812415924072266}}, \"EndTime\": 1603912554.813058, \"Dimensions\": {\"model\": 17, \"Host\": \"algo-1\", \"Operation\": \"training\", \"Algorithm\": \"Linear Learner\", \"epoch\": 5}, \"StartTime\": 1603912554.813042}\n",
      "\u001b[0m\n",
      "\u001b[34m#metrics {\"Metrics\": {\"train_absolute_loss_objective\": {\"count\": 1, \"max\": 0.4131625518798828, \"sum\": 0.4131625518798828, \"min\": 0.4131625518798828}}, \"EndTime\": 1603912554.813114, \"Dimensions\": {\"model\": 18, \"Host\": \"algo-1\", \"Operation\": \"training\", \"Algorithm\": \"Linear Learner\", \"epoch\": 5}, \"StartTime\": 1603912554.8131}\n",
      "\u001b[0m\n",
      "\u001b[34m#metrics {\"Metrics\": {\"train_absolute_loss_objective\": {\"count\": 1, \"max\": 0.4391466560363769, \"sum\": 0.4391466560363769, \"min\": 0.4391466560363769}}, \"EndTime\": 1603912554.813162, \"Dimensions\": {\"model\": 19, \"Host\": \"algo-1\", \"Operation\": \"training\", \"Algorithm\": \"Linear Learner\", \"epoch\": 5}, \"StartTime\": 1603912554.813147}\n",
      "\u001b[0m\n",
      "\u001b[34m#metrics {\"Metrics\": {\"train_absolute_loss_objective\": {\"count\": 1, \"max\": 0.37558149909973143, \"sum\": 0.37558149909973143, \"min\": 0.37558149909973143}}, \"EndTime\": 1603912554.813219, \"Dimensions\": {\"model\": 20, \"Host\": \"algo-1\", \"Operation\": \"training\", \"Algorithm\": \"Linear Learner\", \"epoch\": 5}, \"StartTime\": 1603912554.813205}\n",
      "\u001b[0m\n",
      "\u001b[34m#metrics {\"Metrics\": {\"train_absolute_loss_objective\": {\"count\": 1, \"max\": 0.3864836559295654, \"sum\": 0.3864836559295654, \"min\": 0.3864836559295654}}, \"EndTime\": 1603912554.813268, \"Dimensions\": {\"model\": 21, \"Host\": \"algo-1\", \"Operation\": \"training\", \"Algorithm\": \"Linear Learner\", \"epoch\": 5}, \"StartTime\": 1603912554.813256}\n",
      "\u001b[0m\n",
      "\u001b[34m#metrics {\"Metrics\": {\"train_absolute_loss_objective\": {\"count\": 1, \"max\": 0.3789454116821289, \"sum\": 0.3789454116821289, \"min\": 0.3789454116821289}}, \"EndTime\": 1603912554.813321, \"Dimensions\": {\"model\": 22, \"Host\": \"algo-1\", \"Operation\": \"training\", \"Algorithm\": \"Linear Learner\", \"epoch\": 5}, \"StartTime\": 1603912554.813305}\n",
      "\u001b[0m\n",
      "\u001b[34m#metrics {\"Metrics\": {\"train_absolute_loss_objective\": {\"count\": 1, \"max\": 0.37788364028930665, \"sum\": 0.37788364028930665, \"min\": 0.37788364028930665}}, \"EndTime\": 1603912554.813378, \"Dimensions\": {\"model\": 23, \"Host\": \"algo-1\", \"Operation\": \"training\", \"Algorithm\": \"Linear Learner\", \"epoch\": 5}, \"StartTime\": 1603912554.813362}\n",
      "\u001b[0m\n",
      "\u001b[34m#metrics {\"Metrics\": {\"train_absolute_loss_objective\": {\"count\": 1, \"max\": 0.6880219039916993, \"sum\": 0.6880219039916993, \"min\": 0.6880219039916993}}, \"EndTime\": 1603912554.813431, \"Dimensions\": {\"model\": 24, \"Host\": \"algo-1\", \"Operation\": \"training\", \"Algorithm\": \"Linear Learner\", \"epoch\": 5}, \"StartTime\": 1603912554.813418}\n",
      "\u001b[0m\n",
      "\u001b[34m#metrics {\"Metrics\": {\"train_absolute_loss_objective\": {\"count\": 1, \"max\": 0.6886733283996582, \"sum\": 0.6886733283996582, \"min\": 0.6886733283996582}}, \"EndTime\": 1603912554.813485, \"Dimensions\": {\"model\": 25, \"Host\": \"algo-1\", \"Operation\": \"training\", \"Algorithm\": \"Linear Learner\", \"epoch\": 5}, \"StartTime\": 1603912554.813468}\n",
      "\u001b[0m\n",
      "\u001b[34m#metrics {\"Metrics\": {\"train_absolute_loss_objective\": {\"count\": 1, \"max\": 0.6871984825134277, \"sum\": 0.6871984825134277, \"min\": 0.6871984825134277}}, \"EndTime\": 1603912554.81354, \"Dimensions\": {\"model\": 26, \"Host\": \"algo-1\", \"Operation\": \"training\", \"Algorithm\": \"Linear Learner\", \"epoch\": 5}, \"StartTime\": 1603912554.813525}\n",
      "\u001b[0m\n",
      "\u001b[34m#metrics {\"Metrics\": {\"train_absolute_loss_objective\": {\"count\": 1, \"max\": 0.6889583549499512, \"sum\": 0.6889583549499512, \"min\": 0.6889583549499512}}, \"EndTime\": 1603912554.813598, \"Dimensions\": {\"model\": 27, \"Host\": \"algo-1\", \"Operation\": \"training\", \"Algorithm\": \"Linear Learner\", \"epoch\": 5}, \"StartTime\": 1603912554.813583}\n",
      "\u001b[0m\n",
      "\u001b[34m#metrics {\"Metrics\": {\"train_absolute_loss_objective\": {\"count\": 1, \"max\": 0.7006759643554688, \"sum\": 0.7006759643554688, \"min\": 0.7006759643554688}}, \"EndTime\": 1603912554.813643, \"Dimensions\": {\"model\": 28, \"Host\": \"algo-1\", \"Operation\": \"training\", \"Algorithm\": \"Linear Learner\", \"epoch\": 5}, \"StartTime\": 1603912554.813631}\n",
      "\u001b[0m\n",
      "\u001b[34m#metrics {\"Metrics\": {\"train_absolute_loss_objective\": {\"count\": 1, \"max\": 0.7014486236572266, \"sum\": 0.7014486236572266, \"min\": 0.7014486236572266}}, \"EndTime\": 1603912554.8137, \"Dimensions\": {\"model\": 29, \"Host\": \"algo-1\", \"Operation\": \"training\", \"Algorithm\": \"Linear Learner\", \"epoch\": 5}, \"StartTime\": 1603912554.813684}\n",
      "\u001b[0m\n",
      "\u001b[34m#metrics {\"Metrics\": {\"train_absolute_loss_objective\": {\"count\": 1, \"max\": 0.7001212539672852, \"sum\": 0.7001212539672852, \"min\": 0.7001212539672852}}, \"EndTime\": 1603912554.813755, \"Dimensions\": {\"model\": 30, \"Host\": \"algo-1\", \"Operation\": \"training\", \"Algorithm\": \"Linear Learner\", \"epoch\": 5}, \"StartTime\": 1603912554.813739}\n",
      "\u001b[0m\n",
      "\u001b[34m#metrics {\"Metrics\": {\"train_absolute_loss_objective\": {\"count\": 1, \"max\": 0.7045573959350586, \"sum\": 0.7045573959350586, \"min\": 0.7045573959350586}}, \"EndTime\": 1603912554.813811, \"Dimensions\": {\"model\": 31, \"Host\": \"algo-1\", \"Operation\": \"training\", \"Algorithm\": \"Linear Learner\", \"epoch\": 5}, \"StartTime\": 1603912554.813797}\n",
      "\u001b[0m\n",
      "\u001b[34m[10/28/2020 19:15:54 INFO 140353185830720] #quality_metric: host=algo-1, epoch=5, train absolute_loss_objective <loss>=0.418090877533\u001b[0m\n",
      "\u001b[34m[10/28/2020 19:15:54 INFO 140353185830720] #early_stopping_criteria_metric: host=algo-1, epoch=5, criteria=absolute_loss_objective, value=0.306357917786\u001b[0m\n",
      "\u001b[34m[10/28/2020 19:15:54 INFO 140353185830720] Saving model for epoch: 5\u001b[0m\n",
      "\u001b[34m[10/28/2020 19:15:54 INFO 140353185830720] Saved checkpoint to \"/tmp/tmplhXmps/mx-mod-0000.params\"\u001b[0m\n",
      "\u001b[34m[10/28/2020 19:15:54 INFO 140353185830720] #progress_metric: host=algo-1, completed 6 % of epochs\u001b[0m\n",
      "\u001b[34m#metrics {\"Metrics\": {\"Max Batches Seen Between Resets\": {\"count\": 1, \"max\": 11, \"sum\": 11.0, \"min\": 11}, \"Number of Batches Since Last Reset\": {\"count\": 1, \"max\": 11, \"sum\": 11.0, \"min\": 11}, \"Number of Records Since Last Reset\": {\"count\": 1, \"max\": 1070, \"sum\": 1070.0, \"min\": 1070}, \"Total Batches Seen\": {\"count\": 1, \"max\": 78, \"sum\": 78.0, \"min\": 78}, \"Total Records Seen\": {\"count\": 1, \"max\": 7590, \"sum\": 7590.0, \"min\": 7590}, \"Max Records Seen Between Resets\": {\"count\": 1, \"max\": 1070, \"sum\": 1070.0, \"min\": 1070}, \"Reset Count\": {\"count\": 1, \"max\": 8, \"sum\": 8.0, \"min\": 8}}, \"EndTime\": 1603912554.821314, \"Dimensions\": {\"Host\": \"algo-1\", \"Meta\": \"training_data_iter\", \"Operation\": \"training\", \"Algorithm\": \"Linear Learner\", \"epoch\": 5}, \"StartTime\": 1603912554.588122}\n",
      "\u001b[0m\n",
      "\u001b[34m[10/28/2020 19:15:54 INFO 140353185830720] #throughput_metric: host=algo-1, train throughput=4585.76083036 records/second\u001b[0m\n",
      "\u001b[34m[2020-10-28 19:15:55.068] [tensorio] [info] epoch_stats={\"data_pipeline\": \"/opt/ml/input/data/train\", \"epoch\": 16, \"duration\": 246, \"num_examples\": 11, \"num_bytes\": 81320}\u001b[0m\n",
      "\u001b[34m#metrics {\"Metrics\": {\"train_absolute_loss_objective\": {\"count\": 1, \"max\": 0.3882980117797852, \"sum\": 0.3882980117797852, \"min\": 0.3882980117797852}}, \"EndTime\": 1603912555.068211, \"Dimensions\": {\"model\": 0, \"Host\": \"algo-1\", \"Operation\": \"training\", \"Algorithm\": \"Linear Learner\", \"epoch\": 6}, \"StartTime\": 1603912555.06811}\n",
      "\u001b[0m\n",
      "\u001b[34m#metrics {\"Metrics\": {\"train_absolute_loss_objective\": {\"count\": 1, \"max\": 0.41481642532348634, \"sum\": 0.41481642532348634, \"min\": 0.41481642532348634}}, \"EndTime\": 1603912555.068309, \"Dimensions\": {\"model\": 1, \"Host\": \"algo-1\", \"Operation\": \"training\", \"Algorithm\": \"Linear Learner\", \"epoch\": 6}, \"StartTime\": 1603912555.068293}\n",
      "\u001b[0m\n",
      "\u001b[34m#metrics {\"Metrics\": {\"train_absolute_loss_objective\": {\"count\": 1, \"max\": 0.4098007354736328, \"sum\": 0.4098007354736328, \"min\": 0.4098007354736328}}, \"EndTime\": 1603912555.068364, \"Dimensions\": {\"model\": 2, \"Host\": \"algo-1\", \"Operation\": \"training\", \"Algorithm\": \"Linear Learner\", \"epoch\": 6}, \"StartTime\": 1603912555.068351}\n",
      "\u001b[0m\n",
      "\u001b[34m#metrics {\"Metrics\": {\"train_absolute_loss_objective\": {\"count\": 1, \"max\": 0.37588656997680664, \"sum\": 0.37588656997680664, \"min\": 0.37588656997680664}}, \"EndTime\": 1603912555.068408, \"Dimensions\": {\"model\": 3, \"Host\": \"algo-1\", \"Operation\": \"training\", \"Algorithm\": \"Linear Learner\", \"epoch\": 6}, \"StartTime\": 1603912555.068397}\n",
      "\u001b[0m\n",
      "\u001b[34m#metrics {\"Metrics\": {\"train_absolute_loss_objective\": {\"count\": 1, \"max\": 0.3017791690826416, \"sum\": 0.3017791690826416, \"min\": 0.3017791690826416}}, \"EndTime\": 1603912555.06845, \"Dimensions\": {\"model\": 4, \"Host\": \"algo-1\", \"Operation\": \"training\", \"Algorithm\": \"Linear Learner\", \"epoch\": 6}, \"StartTime\": 1603912555.068439}\n",
      "\u001b[0m\n",
      "\u001b[34m#metrics {\"Metrics\": {\"train_absolute_loss_objective\": {\"count\": 1, \"max\": 0.3061114330291748, \"sum\": 0.3061114330291748, \"min\": 0.3061114330291748}}, \"EndTime\": 1603912555.068493, \"Dimensions\": {\"model\": 5, \"Host\": \"algo-1\", \"Operation\": \"training\", \"Algorithm\": \"Linear Learner\", \"epoch\": 6}, \"StartTime\": 1603912555.068483}\n",
      "\u001b[0m\n",
      "\u001b[34m#metrics {\"Metrics\": {\"train_absolute_loss_objective\": {\"count\": 1, \"max\": 0.3013750514984131, \"sum\": 0.3013750514984131, \"min\": 0.3013750514984131}}, \"EndTime\": 1603912555.068534, \"Dimensions\": {\"model\": 6, \"Host\": \"algo-1\", \"Operation\": \"training\", \"Algorithm\": \"Linear Learner\", \"epoch\": 6}, \"StartTime\": 1603912555.068524}\n",
      "\u001b[0m\n",
      "\u001b[34m#metrics {\"Metrics\": {\"train_absolute_loss_objective\": {\"count\": 1, \"max\": 0.3142658081054687, \"sum\": 0.3142658081054687, \"min\": 0.3142658081054687}}, \"EndTime\": 1603912555.068573, \"Dimensions\": {\"model\": 7, \"Host\": \"algo-1\", \"Operation\": \"training\", \"Algorithm\": \"Linear Learner\", \"epoch\": 6}, \"StartTime\": 1603912555.068563}\n",
      "\u001b[0m\n",
      "\u001b[34m#metrics {\"Metrics\": {\"train_absolute_loss_objective\": {\"count\": 1, \"max\": 0.3654838237762451, \"sum\": 0.3654838237762451, \"min\": 0.3654838237762451}}, \"EndTime\": 1603912555.068611, \"Dimensions\": {\"model\": 8, \"Host\": \"algo-1\", \"Operation\": \"training\", \"Algorithm\": \"Linear Learner\", \"epoch\": 6}, \"StartTime\": 1603912555.068602}\n",
      "\u001b[0m\n",
      "\u001b[34m#metrics {\"Metrics\": {\"train_absolute_loss_objective\": {\"count\": 1, \"max\": 0.42925070571899415, \"sum\": 0.42925070571899415, \"min\": 0.42925070571899415}}, \"EndTime\": 1603912555.06865, \"Dimensions\": {\"model\": 9, \"Host\": \"algo-1\", \"Operation\": \"training\", \"Algorithm\": \"Linear Learner\", \"epoch\": 6}, \"StartTime\": 1603912555.06864}\n",
      "\u001b[0m\n",
      "\u001b[34m#metrics {\"Metrics\": {\"train_absolute_loss_objective\": {\"count\": 1, \"max\": 0.4008256187438965, \"sum\": 0.4008256187438965, \"min\": 0.4008256187438965}}, \"EndTime\": 1603912555.06869, \"Dimensions\": {\"model\": 10, \"Host\": \"algo-1\", \"Operation\": \"training\", \"Algorithm\": \"Linear Learner\", \"epoch\": 6}, \"StartTime\": 1603912555.06868}\n",
      "\u001b[0m\n",
      "\u001b[34m#metrics {\"Metrics\": {\"train_absolute_loss_objective\": {\"count\": 1, \"max\": 0.3748526802062988, \"sum\": 0.3748526802062988, \"min\": 0.3748526802062988}}, \"EndTime\": 1603912555.068729, \"Dimensions\": {\"model\": 11, \"Host\": \"algo-1\", \"Operation\": \"training\", \"Algorithm\": \"Linear Learner\", \"epoch\": 6}, \"StartTime\": 1603912555.068719}\n",
      "\u001b[0m\n",
      "\u001b[34m#metrics {\"Metrics\": {\"train_absolute_loss_objective\": {\"count\": 1, \"max\": 0.3050705490112305, \"sum\": 0.3050705490112305, \"min\": 0.3050705490112305}}, \"EndTime\": 1603912555.068767, \"Dimensions\": {\"model\": 12, \"Host\": \"algo-1\", \"Operation\": \"training\", \"Algorithm\": \"Linear Learner\", \"epoch\": 6}, \"StartTime\": 1603912555.068757}\n",
      "\u001b[0m\n",
      "\u001b[34m#metrics {\"Metrics\": {\"train_absolute_loss_objective\": {\"count\": 1, \"max\": 0.3044775619506836, \"sum\": 0.3044775619506836, \"min\": 0.3044775619506836}}, \"EndTime\": 1603912555.068806, \"Dimensions\": {\"model\": 13, \"Host\": \"algo-1\", \"Operation\": \"training\", \"Algorithm\": \"Linear Learner\", \"epoch\": 6}, \"StartTime\": 1603912555.068796}\n",
      "\u001b[0m\n",
      "\u001b[34m#metrics {\"Metrics\": {\"train_absolute_loss_objective\": {\"count\": 1, \"max\": 0.3150941848754883, \"sum\": 0.3150941848754883, \"min\": 0.3150941848754883}}, \"EndTime\": 1603912555.068844, \"Dimensions\": {\"model\": 14, \"Host\": \"algo-1\", \"Operation\": \"training\", \"Algorithm\": \"Linear Learner\", \"epoch\": 6}, \"StartTime\": 1603912555.068834}\n",
      "\u001b[0m\n",
      "\u001b[34m#metrics {\"Metrics\": {\"train_absolute_loss_objective\": {\"count\": 1, \"max\": 0.3045733203887939, \"sum\": 0.3045733203887939, \"min\": 0.3045733203887939}}, \"EndTime\": 1603912555.068882, \"Dimensions\": {\"model\": 15, \"Host\": \"algo-1\", \"Operation\": \"training\", \"Algorithm\": \"Linear Learner\", \"epoch\": 6}, \"StartTime\": 1603912555.068872}\n",
      "\u001b[0m\n",
      "\u001b[34m#metrics {\"Metrics\": {\"train_absolute_loss_objective\": {\"count\": 1, \"max\": 0.43355627822875975, \"sum\": 0.43355627822875975, \"min\": 0.43355627822875975}}, \"EndTime\": 1603912555.06892, \"Dimensions\": {\"model\": 16, \"Host\": \"algo-1\", \"Operation\": \"training\", \"Algorithm\": \"Linear Learner\", \"epoch\": 6}, \"StartTime\": 1603912555.06891}\n",
      "\u001b[0m\n",
      "\u001b[34m#metrics {\"Metrics\": {\"train_absolute_loss_objective\": {\"count\": 1, \"max\": 0.446965950012207, \"sum\": 0.446965950012207, \"min\": 0.446965950012207}}, \"EndTime\": 1603912555.068959, \"Dimensions\": {\"model\": 17, \"Host\": \"algo-1\", \"Operation\": \"training\", \"Algorithm\": \"Linear Learner\", \"epoch\": 6}, \"StartTime\": 1603912555.068949}\n",
      "\u001b[0m\n",
      "\u001b[34m#metrics {\"Metrics\": {\"train_absolute_loss_objective\": {\"count\": 1, \"max\": 0.3873327388763428, \"sum\": 0.3873327388763428, \"min\": 0.3873327388763428}}, \"EndTime\": 1603912555.069001, \"Dimensions\": {\"model\": 18, \"Host\": \"algo-1\", \"Operation\": \"training\", \"Algorithm\": \"Linear Learner\", \"epoch\": 6}, \"StartTime\": 1603912555.06899}\n",
      "\u001b[0m\n",
      "\u001b[34m#metrics {\"Metrics\": {\"train_absolute_loss_objective\": {\"count\": 1, \"max\": 0.40484927368164064, \"sum\": 0.40484927368164064, \"min\": 0.40484927368164064}}, \"EndTime\": 1603912555.06904, \"Dimensions\": {\"model\": 19, \"Host\": \"algo-1\", \"Operation\": \"training\", \"Algorithm\": \"Linear Learner\", \"epoch\": 6}, \"StartTime\": 1603912555.06903}\n",
      "\u001b[0m\n",
      "\u001b[34m#metrics {\"Metrics\": {\"train_absolute_loss_objective\": {\"count\": 1, \"max\": 0.37156883811950686, \"sum\": 0.37156883811950686, \"min\": 0.37156883811950686}}, \"EndTime\": 1603912555.069078, \"Dimensions\": {\"model\": 20, \"Host\": \"algo-1\", \"Operation\": \"training\", \"Algorithm\": \"Linear Learner\", \"epoch\": 6}, \"StartTime\": 1603912555.069068}\n",
      "\u001b[0m\n",
      "\u001b[34m#metrics {\"Metrics\": {\"train_absolute_loss_objective\": {\"count\": 1, \"max\": 0.37115824127197267, \"sum\": 0.37115824127197267, \"min\": 0.37115824127197267}}, \"EndTime\": 1603912555.069116, \"Dimensions\": {\"model\": 21, \"Host\": \"algo-1\", \"Operation\": \"training\", \"Algorithm\": \"Linear Learner\", \"epoch\": 6}, \"StartTime\": 1603912555.069107}\n",
      "\u001b[0m\n",
      "\u001b[34m#metrics {\"Metrics\": {\"train_absolute_loss_objective\": {\"count\": 1, \"max\": 0.3637817554473877, \"sum\": 0.3637817554473877, \"min\": 0.3637817554473877}}, \"EndTime\": 1603912555.069155, \"Dimensions\": {\"model\": 22, \"Host\": \"algo-1\", \"Operation\": \"training\", \"Algorithm\": \"Linear Learner\", \"epoch\": 6}, \"StartTime\": 1603912555.069145}\n",
      "\u001b[0m\n",
      "\u001b[34m#metrics {\"Metrics\": {\"train_absolute_loss_objective\": {\"count\": 1, \"max\": 0.3594997406005859, \"sum\": 0.3594997406005859, \"min\": 0.3594997406005859}}, \"EndTime\": 1603912555.069193, \"Dimensions\": {\"model\": 23, \"Host\": \"algo-1\", \"Operation\": \"training\", \"Algorithm\": \"Linear Learner\", \"epoch\": 6}, \"StartTime\": 1603912555.069184}\n",
      "\u001b[0m\n",
      "\u001b[34m#metrics {\"Metrics\": {\"train_absolute_loss_objective\": {\"count\": 1, \"max\": 0.6878608856201172, \"sum\": 0.6878608856201172, \"min\": 0.6878608856201172}}, \"EndTime\": 1603912555.069231, \"Dimensions\": {\"model\": 24, \"Host\": \"algo-1\", \"Operation\": \"training\", \"Algorithm\": \"Linear Learner\", \"epoch\": 6}, \"StartTime\": 1603912555.069222}\n",
      "\u001b[0m\n",
      "\u001b[34m#metrics {\"Metrics\": {\"train_absolute_loss_objective\": {\"count\": 1, \"max\": 0.6892372207641602, \"sum\": 0.6892372207641602, \"min\": 0.6892372207641602}}, \"EndTime\": 1603912555.069269, \"Dimensions\": {\"model\": 25, \"Host\": \"algo-1\", \"Operation\": \"training\", \"Algorithm\": \"Linear Learner\", \"epoch\": 6}, \"StartTime\": 1603912555.06926}\n",
      "\u001b[0m\n",
      "\u001b[34m#metrics {\"Metrics\": {\"train_absolute_loss_objective\": {\"count\": 1, \"max\": 0.6890092887878418, \"sum\": 0.6890092887878418, \"min\": 0.6890092887878418}}, \"EndTime\": 1603912555.069307, \"Dimensions\": {\"model\": 26, \"Host\": \"algo-1\", \"Operation\": \"training\", \"Algorithm\": \"Linear Learner\", \"epoch\": 6}, \"StartTime\": 1603912555.069298}\n",
      "\u001b[0m\n",
      "\u001b[34m#metrics {\"Metrics\": {\"train_absolute_loss_objective\": {\"count\": 1, \"max\": 0.6889314308166504, \"sum\": 0.6889314308166504, \"min\": 0.6889314308166504}}, \"EndTime\": 1603912555.069345, \"Dimensions\": {\"model\": 27, \"Host\": \"algo-1\", \"Operation\": \"training\", \"Algorithm\": \"Linear Learner\", \"epoch\": 6}, \"StartTime\": 1603912555.069335}\n",
      "\u001b[0m\n",
      "\u001b[34m#metrics {\"Metrics\": {\"train_absolute_loss_objective\": {\"count\": 1, \"max\": 0.6980604705810547, \"sum\": 0.6980604705810547, \"min\": 0.6980604705810547}}, \"EndTime\": 1603912555.069383, \"Dimensions\": {\"model\": 28, \"Host\": \"algo-1\", \"Operation\": \"training\", \"Algorithm\": \"Linear Learner\", \"epoch\": 6}, \"StartTime\": 1603912555.069373}\n",
      "\u001b[0m\n",
      "\u001b[34m#metrics {\"Metrics\": {\"train_absolute_loss_objective\": {\"count\": 1, \"max\": 0.6957816047668457, \"sum\": 0.6957816047668457, \"min\": 0.6957816047668457}}, \"EndTime\": 1603912555.069421, \"Dimensions\": {\"model\": 29, \"Host\": \"algo-1\", \"Operation\": \"training\", \"Algorithm\": \"Linear Learner\", \"epoch\": 6}, \"StartTime\": 1603912555.069411}\n",
      "\u001b[0m\n",
      "\u001b[34m#metrics {\"Metrics\": {\"train_absolute_loss_objective\": {\"count\": 1, \"max\": 0.700169605255127, \"sum\": 0.700169605255127, \"min\": 0.700169605255127}}, \"EndTime\": 1603912555.069463, \"Dimensions\": {\"model\": 30, \"Host\": \"algo-1\", \"Operation\": \"training\", \"Algorithm\": \"Linear Learner\", \"epoch\": 6}, \"StartTime\": 1603912555.069452}\n",
      "\u001b[0m\n",
      "\u001b[34m#metrics {\"Metrics\": {\"train_absolute_loss_objective\": {\"count\": 1, \"max\": 0.7074235610961914, \"sum\": 0.7074235610961914, \"min\": 0.7074235610961914}}, \"EndTime\": 1603912555.069502, \"Dimensions\": {\"model\": 31, \"Host\": \"algo-1\", \"Operation\": \"training\", \"Algorithm\": \"Linear Learner\", \"epoch\": 6}, \"StartTime\": 1603912555.069492}\n",
      "\u001b[0m\n",
      "\u001b[34m[10/28/2020 19:15:55 INFO 140353185830720] #quality_metric: host=algo-1, epoch=6, train absolute_loss_objective <loss>=0.38829801178\u001b[0m\n",
      "\u001b[34m[10/28/2020 19:15:55 INFO 140353185830720] #early_stopping_criteria_metric: host=algo-1, epoch=6, criteria=absolute_loss_objective, value=0.301375051498\u001b[0m\n",
      "\u001b[34m[10/28/2020 19:15:55 INFO 140353185830720] Epoch 6: Loss improved. Updating best model\u001b[0m\n",
      "\u001b[34m[10/28/2020 19:15:55 INFO 140353185830720] Saving model for epoch: 6\u001b[0m\n",
      "\u001b[34m[10/28/2020 19:15:55 INFO 140353185830720] Saved checkpoint to \"/tmp/tmppC_EaZ/mx-mod-0000.params\"\u001b[0m\n",
      "\u001b[34m[10/28/2020 19:15:55 INFO 140353185830720] #progress_metric: host=algo-1, completed 7 % of epochs\u001b[0m\n",
      "\u001b[34m#metrics {\"Metrics\": {\"Max Batches Seen Between Resets\": {\"count\": 1, \"max\": 11, \"sum\": 11.0, \"min\": 11}, \"Number of Batches Since Last Reset\": {\"count\": 1, \"max\": 11, \"sum\": 11.0, \"min\": 11}, \"Number of Records Since Last Reset\": {\"count\": 1, \"max\": 1070, \"sum\": 1070.0, \"min\": 1070}, \"Total Batches Seen\": {\"count\": 1, \"max\": 89, \"sum\": 89.0, \"min\": 89}, \"Total Records Seen\": {\"count\": 1, \"max\": 8660, \"sum\": 8660.0, \"min\": 8660}, \"Max Records Seen Between Resets\": {\"count\": 1, \"max\": 1070, \"sum\": 1070.0, \"min\": 1070}, \"Reset Count\": {\"count\": 1, \"max\": 9, \"sum\": 9.0, \"min\": 9}}, \"EndTime\": 1603912555.090799, \"Dimensions\": {\"Host\": \"algo-1\", \"Meta\": \"training_data_iter\", \"Operation\": \"training\", \"Algorithm\": \"Linear Learner\", \"epoch\": 6}, \"StartTime\": 1603912554.821614}\n",
      "\u001b[0m\n",
      "\u001b[34m[10/28/2020 19:15:55 INFO 140353185830720] #throughput_metric: host=algo-1, train throughput=3972.65931249 records/second\u001b[0m\n",
      "\u001b[34m[2020-10-28 19:15:55.367] [tensorio] [info] epoch_stats={\"data_pipeline\": \"/opt/ml/input/data/train\", \"epoch\": 18, \"duration\": 276, \"num_examples\": 11, \"num_bytes\": 81320}\u001b[0m\n",
      "\u001b[34m#metrics {\"Metrics\": {\"train_absolute_loss_objective\": {\"count\": 1, \"max\": 0.3672474708557129, \"sum\": 0.3672474708557129, \"min\": 0.3672474708557129}}, \"EndTime\": 1603912555.368302, \"Dimensions\": {\"model\": 0, \"Host\": \"algo-1\", \"Operation\": \"training\", \"Algorithm\": \"Linear Learner\", \"epoch\": 7}, \"StartTime\": 1603912555.368012}\n",
      "\u001b[0m\n",
      "\u001b[34m#metrics {\"Metrics\": {\"train_absolute_loss_objective\": {\"count\": 1, \"max\": 0.3901139545440674, \"sum\": 0.3901139545440674, \"min\": 0.3901139545440674}}, \"EndTime\": 1603912555.368474, \"Dimensions\": {\"model\": 1, \"Host\": \"algo-1\", \"Operation\": \"training\", \"Algorithm\": \"Linear Learner\", \"epoch\": 7}, \"StartTime\": 1603912555.368448}\n",
      "\u001b[0m\n",
      "\u001b[34m#metrics {\"Metrics\": {\"train_absolute_loss_objective\": {\"count\": 1, \"max\": 0.3874171543121338, \"sum\": 0.3874171543121338, \"min\": 0.3874171543121338}}, \"EndTime\": 1603912555.368722, \"Dimensions\": {\"model\": 2, \"Host\": \"algo-1\", \"Operation\": \"training\", \"Algorithm\": \"Linear Learner\", \"epoch\": 7}, \"StartTime\": 1603912555.368697}\n",
      "\u001b[0m\n",
      "\u001b[34m#metrics {\"Metrics\": {\"train_absolute_loss_objective\": {\"count\": 1, \"max\": 0.3538147792816162, \"sum\": 0.3538147792816162, \"min\": 0.3538147792816162}}, \"EndTime\": 1603912555.368886, \"Dimensions\": {\"model\": 3, \"Host\": \"algo-1\", \"Operation\": \"training\", \"Algorithm\": \"Linear Learner\", \"epoch\": 7}, \"StartTime\": 1603912555.368776}\n",
      "\u001b[0m\n",
      "\u001b[34m#metrics {\"Metrics\": {\"train_absolute_loss_objective\": {\"count\": 1, \"max\": 0.3076651592254639, \"sum\": 0.3076651592254639, \"min\": 0.3076651592254639}}, \"EndTime\": 1603912555.369081, \"Dimensions\": {\"model\": 4, \"Host\": \"algo-1\", \"Operation\": \"training\", \"Algorithm\": \"Linear Learner\", \"epoch\": 7}, \"StartTime\": 1603912555.369056}\n",
      "\u001b[0m\n",
      "\u001b[34m#metrics {\"Metrics\": {\"train_absolute_loss_objective\": {\"count\": 1, \"max\": 0.3090739345550537, \"sum\": 0.3090739345550537, \"min\": 0.3090739345550537}}, \"EndTime\": 1603912555.369259, \"Dimensions\": {\"model\": 5, \"Host\": \"algo-1\", \"Operation\": \"training\", \"Algorithm\": \"Linear Learner\", \"epoch\": 7}, \"StartTime\": 1603912555.369134}\n",
      "\u001b[0m\n",
      "\u001b[34m#metrics {\"Metrics\": {\"train_absolute_loss_objective\": {\"count\": 1, \"max\": 0.30917407989501955, \"sum\": 0.30917407989501955, \"min\": 0.30917407989501955}}, \"EndTime\": 1603912555.369394, \"Dimensions\": {\"model\": 6, \"Host\": \"algo-1\", \"Operation\": \"training\", \"Algorithm\": \"Linear Learner\", \"epoch\": 7}, \"StartTime\": 1603912555.36937}\n",
      "\u001b[0m\n",
      "\u001b[34m#metrics {\"Metrics\": {\"train_absolute_loss_objective\": {\"count\": 1, \"max\": 0.3058604640960693, \"sum\": 0.3058604640960693, \"min\": 0.3058604640960693}}, \"EndTime\": 1603912555.369556, \"Dimensions\": {\"model\": 7, \"Host\": \"algo-1\", \"Operation\": \"training\", \"Algorithm\": \"Linear Learner\", \"epoch\": 7}, \"StartTime\": 1603912555.369501}\n",
      "\u001b[0m\n",
      "\u001b[34m#metrics {\"Metrics\": {\"train_absolute_loss_objective\": {\"count\": 1, \"max\": 0.34535870361328125, \"sum\": 0.34535870361328125, \"min\": 0.34535870361328125}}, \"EndTime\": 1603912555.369681, \"Dimensions\": {\"model\": 8, \"Host\": \"algo-1\", \"Operation\": \"training\", \"Algorithm\": \"Linear Learner\", \"epoch\": 7}, \"StartTime\": 1603912555.369659}\n",
      "\u001b[0m\n",
      "\u001b[34m#metrics {\"Metrics\": {\"train_absolute_loss_objective\": {\"count\": 1, \"max\": 0.40517974281311037, \"sum\": 0.40517974281311037, \"min\": 0.40517974281311037}}, \"EndTime\": 1603912555.369866, \"Dimensions\": {\"model\": 9, \"Host\": \"algo-1\", \"Operation\": \"training\", \"Algorithm\": \"Linear Learner\", \"epoch\": 7}, \"StartTime\": 1603912555.369739}\n",
      "\u001b[0m\n",
      "\u001b[34m#metrics {\"Metrics\": {\"train_absolute_loss_objective\": {\"count\": 1, \"max\": 0.37832194709777833, \"sum\": 0.37832194709777833, \"min\": 0.37832194709777833}}, \"EndTime\": 1603912555.369957, \"Dimensions\": {\"model\": 10, \"Host\": \"algo-1\", \"Operation\": \"training\", \"Algorithm\": \"Linear Learner\", \"epoch\": 7}, \"StartTime\": 1603912555.369934}\n",
      "\u001b[0m\n",
      "\u001b[34m#metrics {\"Metrics\": {\"train_absolute_loss_objective\": {\"count\": 1, \"max\": 0.35087104797363283, \"sum\": 0.35087104797363283, \"min\": 0.35087104797363283}}, \"EndTime\": 1603912555.370027, \"Dimensions\": {\"model\": 11, \"Host\": \"algo-1\", \"Operation\": \"training\", \"Algorithm\": \"Linear Learner\", \"epoch\": 7}, \"StartTime\": 1603912555.370009}\n",
      "\u001b[0m\n",
      "\u001b[34m#metrics {\"Metrics\": {\"train_absolute_loss_objective\": {\"count\": 1, \"max\": 0.30760133743286133, \"sum\": 0.30760133743286133, \"min\": 0.30760133743286133}}, \"EndTime\": 1603912555.370095, \"Dimensions\": {\"model\": 12, \"Host\": \"algo-1\", \"Operation\": \"training\", \"Algorithm\": \"Linear Learner\", \"epoch\": 7}, \"StartTime\": 1603912555.370076}\n",
      "\u001b[0m\n",
      "\u001b[34m#metrics {\"Metrics\": {\"train_absolute_loss_objective\": {\"count\": 1, \"max\": 0.3032286968231201, \"sum\": 0.3032286968231201, \"min\": 0.3032286968231201}}, \"EndTime\": 1603912555.370162, \"Dimensions\": {\"model\": 13, \"Host\": \"algo-1\", \"Operation\": \"training\", \"Algorithm\": \"Linear Learner\", \"epoch\": 7}, \"StartTime\": 1603912555.370144}\n",
      "\u001b[0m\n",
      "\u001b[34m#metrics {\"Metrics\": {\"train_absolute_loss_objective\": {\"count\": 1, \"max\": 0.30995755004882813, \"sum\": 0.30995755004882813, \"min\": 0.30995755004882813}}, \"EndTime\": 1603912555.370227, \"Dimensions\": {\"model\": 14, \"Host\": \"algo-1\", \"Operation\": \"training\", \"Algorithm\": \"Linear Learner\", \"epoch\": 7}, \"StartTime\": 1603912555.370208}\n",
      "\u001b[0m\n",
      "\u001b[34m#metrics {\"Metrics\": {\"train_absolute_loss_objective\": {\"count\": 1, \"max\": 0.3064507694244385, \"sum\": 0.3064507694244385, \"min\": 0.3064507694244385}}, \"EndTime\": 1603912555.370292, \"Dimensions\": {\"model\": 15, \"Host\": \"algo-1\", \"Operation\": \"training\", \"Algorithm\": \"Linear Learner\", \"epoch\": 7}, \"StartTime\": 1603912555.370275}\n",
      "\u001b[0m\n",
      "\u001b[34m#metrics {\"Metrics\": {\"train_absolute_loss_objective\": {\"count\": 1, \"max\": 0.41342755126953123, \"sum\": 0.41342755126953123, \"min\": 0.41342755126953123}}, \"EndTime\": 1603912555.370352, \"Dimensions\": {\"model\": 16, \"Host\": \"algo-1\", \"Operation\": \"training\", \"Algorithm\": \"Linear Learner\", \"epoch\": 7}, \"StartTime\": 1603912555.370334}\n",
      "\u001b[0m\n",
      "\u001b[34m#metrics {\"Metrics\": {\"train_absolute_loss_objective\": {\"count\": 1, \"max\": 0.424623046875, \"sum\": 0.424623046875, \"min\": 0.424623046875}}, \"EndTime\": 1603912555.370415, \"Dimensions\": {\"model\": 17, \"Host\": \"algo-1\", \"Operation\": \"training\", \"Algorithm\": \"Linear Learner\", \"epoch\": 7}, \"StartTime\": 1603912555.370397}\n",
      "\u001b[0m\n",
      "\u001b[34m#metrics {\"Metrics\": {\"train_absolute_loss_objective\": {\"count\": 1, \"max\": 0.37152805137634276, \"sum\": 0.37152805137634276, \"min\": 0.37152805137634276}}, \"EndTime\": 1603912555.370479, \"Dimensions\": {\"model\": 18, \"Host\": \"algo-1\", \"Operation\": \"training\", \"Algorithm\": \"Linear Learner\", \"epoch\": 7}, \"StartTime\": 1603912555.370462}\n",
      "\u001b[0m\n",
      "\u001b[34m#metrics {\"Metrics\": {\"train_absolute_loss_objective\": {\"count\": 1, \"max\": 0.3816167125701904, \"sum\": 0.3816167125701904, \"min\": 0.3816167125701904}}, \"EndTime\": 1603912555.370546, \"Dimensions\": {\"model\": 19, \"Host\": \"algo-1\", \"Operation\": \"training\", \"Algorithm\": \"Linear Learner\", \"epoch\": 7}, \"StartTime\": 1603912555.370528}\n",
      "\u001b[0m\n",
      "\u001b[34m#metrics {\"Metrics\": {\"train_absolute_loss_objective\": {\"count\": 1, \"max\": 0.3689902687072754, \"sum\": 0.3689902687072754, \"min\": 0.3689902687072754}}, \"EndTime\": 1603912555.370608, \"Dimensions\": {\"model\": 20, \"Host\": \"algo-1\", \"Operation\": \"training\", \"Algorithm\": \"Linear Learner\", \"epoch\": 7}, \"StartTime\": 1603912555.370591}\n",
      "\u001b[0m\n",
      "\u001b[34m#metrics {\"Metrics\": {\"train_absolute_loss_objective\": {\"count\": 1, \"max\": 0.36554277801513674, \"sum\": 0.36554277801513674, \"min\": 0.36554277801513674}}, \"EndTime\": 1603912555.370673, \"Dimensions\": {\"model\": 21, \"Host\": \"algo-1\", \"Operation\": \"training\", \"Algorithm\": \"Linear Learner\", \"epoch\": 7}, \"StartTime\": 1603912555.370654}\n",
      "\u001b[0m\n",
      "\u001b[34m#metrics {\"Metrics\": {\"train_absolute_loss_objective\": {\"count\": 1, \"max\": 0.3646254100799561, \"sum\": 0.3646254100799561, \"min\": 0.3646254100799561}}, \"EndTime\": 1603912555.370739, \"Dimensions\": {\"model\": 22, \"Host\": \"algo-1\", \"Operation\": \"training\", \"Algorithm\": \"Linear Learner\", \"epoch\": 7}, \"StartTime\": 1603912555.370721}\n",
      "\u001b[0m\n",
      "\u001b[34m#metrics {\"Metrics\": {\"train_absolute_loss_objective\": {\"count\": 1, \"max\": 0.36385384368896484, \"sum\": 0.36385384368896484, \"min\": 0.36385384368896484}}, \"EndTime\": 1603912555.370804, \"Dimensions\": {\"model\": 23, \"Host\": \"algo-1\", \"Operation\": \"training\", \"Algorithm\": \"Linear Learner\", \"epoch\": 7}, \"StartTime\": 1603912555.370786}\n",
      "\u001b[0m\n",
      "\u001b[34m#metrics {\"Metrics\": {\"train_absolute_loss_objective\": {\"count\": 1, \"max\": 0.6889261245727539, \"sum\": 0.6889261245727539, \"min\": 0.6889261245727539}}, \"EndTime\": 1603912555.370869, \"Dimensions\": {\"model\": 24, \"Host\": \"algo-1\", \"Operation\": \"training\", \"Algorithm\": \"Linear Learner\", \"epoch\": 7}, \"StartTime\": 1603912555.370851}\n",
      "\u001b[0m\n",
      "\u001b[34m#metrics {\"Metrics\": {\"train_absolute_loss_objective\": {\"count\": 1, \"max\": 0.6884681892395019, \"sum\": 0.6884681892395019, \"min\": 0.6884681892395019}}, \"EndTime\": 1603912555.370931, \"Dimensions\": {\"model\": 25, \"Host\": \"algo-1\", \"Operation\": \"training\", \"Algorithm\": \"Linear Learner\", \"epoch\": 7}, \"StartTime\": 1603912555.370913}\n",
      "\u001b[0m\n",
      "\u001b[34m#metrics {\"Metrics\": {\"train_absolute_loss_objective\": {\"count\": 1, \"max\": 0.688777530670166, \"sum\": 0.688777530670166, \"min\": 0.688777530670166}}, \"EndTime\": 1603912555.370992, \"Dimensions\": {\"model\": 26, \"Host\": \"algo-1\", \"Operation\": \"training\", \"Algorithm\": \"Linear Learner\", \"epoch\": 7}, \"StartTime\": 1603912555.370975}\n",
      "\u001b[0m\n",
      "\u001b[34m#metrics {\"Metrics\": {\"train_absolute_loss_objective\": {\"count\": 1, \"max\": 0.6880620460510254, \"sum\": 0.6880620460510254, \"min\": 0.6880620460510254}}, \"EndTime\": 1603912555.371086, \"Dimensions\": {\"model\": 27, \"Host\": \"algo-1\", \"Operation\": \"training\", \"Algorithm\": \"Linear Learner\", \"epoch\": 7}, \"StartTime\": 1603912555.371068}\n",
      "\u001b[0m\n",
      "\u001b[34m#metrics {\"Metrics\": {\"train_absolute_loss_objective\": {\"count\": 1, \"max\": 0.6961695137023926, \"sum\": 0.6961695137023926, \"min\": 0.6961695137023926}}, \"EndTime\": 1603912555.371153, \"Dimensions\": {\"model\": 28, \"Host\": \"algo-1\", \"Operation\": \"training\", \"Algorithm\": \"Linear Learner\", \"epoch\": 7}, \"StartTime\": 1603912555.371135}\n",
      "\u001b[0m\n",
      "\u001b[34m#metrics {\"Metrics\": {\"train_absolute_loss_objective\": {\"count\": 1, \"max\": 0.6983099899291992, \"sum\": 0.6983099899291992, \"min\": 0.6983099899291992}}, \"EndTime\": 1603912555.371217, \"Dimensions\": {\"model\": 29, \"Host\": \"algo-1\", \"Operation\": \"training\", \"Algorithm\": \"Linear Learner\", \"epoch\": 7}, \"StartTime\": 1603912555.371199}\n",
      "\u001b[0m\n",
      "\u001b[34m#metrics {\"Metrics\": {\"train_absolute_loss_objective\": {\"count\": 1, \"max\": 0.6967992553710938, \"sum\": 0.6967992553710938, \"min\": 0.6967992553710938}}, \"EndTime\": 1603912555.371399, \"Dimensions\": {\"model\": 30, \"Host\": \"algo-1\", \"Operation\": \"training\", \"Algorithm\": \"Linear Learner\", \"epoch\": 7}, \"StartTime\": 1603912555.371375}\n",
      "\u001b[0m\n",
      "\u001b[34m#metrics {\"Metrics\": {\"train_absolute_loss_objective\": {\"count\": 1, \"max\": 0.7055826148986817, \"sum\": 0.7055826148986817, \"min\": 0.7055826148986817}}, \"EndTime\": 1603912555.371481, \"Dimensions\": {\"model\": 31, \"Host\": \"algo-1\", \"Operation\": \"training\", \"Algorithm\": \"Linear Learner\", \"epoch\": 7}, \"StartTime\": 1603912555.37146}\n",
      "\u001b[0m\n",
      "\u001b[34m[10/28/2020 19:15:55 INFO 140353185830720] #quality_metric: host=algo-1, epoch=7, train absolute_loss_objective <loss>=0.367247470856\u001b[0m\n",
      "\u001b[34m[10/28/2020 19:15:55 INFO 140353185830720] #early_stopping_criteria_metric: host=algo-1, epoch=7, criteria=absolute_loss_objective, value=0.303228696823\u001b[0m\n",
      "\u001b[34m[10/28/2020 19:15:55 INFO 140353185830720] Saving model for epoch: 7\u001b[0m\n",
      "\u001b[34m[10/28/2020 19:15:55 INFO 140353185830720] Saved checkpoint to \"/tmp/tmpsDKlrn/mx-mod-0000.params\"\u001b[0m\n",
      "\u001b[34m[10/28/2020 19:15:55 INFO 140353185830720] #progress_metric: host=algo-1, completed 8 % of epochs\u001b[0m\n",
      "\u001b[34m#metrics {\"Metrics\": {\"Max Batches Seen Between Resets\": {\"count\": 1, \"max\": 11, \"sum\": 11.0, \"min\": 11}, \"Number of Batches Since Last Reset\": {\"count\": 1, \"max\": 11, \"sum\": 11.0, \"min\": 11}, \"Number of Records Since Last Reset\": {\"count\": 1, \"max\": 1070, \"sum\": 1070.0, \"min\": 1070}, \"Total Batches Seen\": {\"count\": 1, \"max\": 100, \"sum\": 100.0, \"min\": 100}, \"Total Records Seen\": {\"count\": 1, \"max\": 9730, \"sum\": 9730.0, \"min\": 9730}, \"Max Records Seen Between Resets\": {\"count\": 1, \"max\": 1070, \"sum\": 1070.0, \"min\": 1070}, \"Reset Count\": {\"count\": 1, \"max\": 10, \"sum\": 10.0, \"min\": 10}}, \"EndTime\": 1603912555.383377, \"Dimensions\": {\"Host\": \"algo-1\", \"Meta\": \"training_data_iter\", \"Operation\": \"training\", \"Algorithm\": \"Linear Learner\", \"epoch\": 7}, \"StartTime\": 1603912555.091172}\n",
      "\u001b[0m\n",
      "\u001b[34m[10/28/2020 19:15:55 INFO 140353185830720] #throughput_metric: host=algo-1, train throughput=3659.99889089 records/second\u001b[0m\n",
      "\u001b[34m[2020-10-28 19:15:55.661] [tensorio] [info] epoch_stats={\"data_pipeline\": \"/opt/ml/input/data/train\", \"epoch\": 20, \"duration\": 277, \"num_examples\": 11, \"num_bytes\": 81320}\u001b[0m\n",
      "\u001b[34m#metrics {\"Metrics\": {\"train_absolute_loss_objective\": {\"count\": 1, \"max\": 0.34739328575134276, \"sum\": 0.34739328575134276, \"min\": 0.34739328575134276}}, \"EndTime\": 1603912555.661773, \"Dimensions\": {\"model\": 0, \"Host\": \"algo-1\", \"Operation\": \"training\", \"Algorithm\": \"Linear Learner\", \"epoch\": 8}, \"StartTime\": 1603912555.661658}\n",
      "\u001b[0m\n",
      "\u001b[34m#metrics {\"Metrics\": {\"train_absolute_loss_objective\": {\"count\": 1, \"max\": 0.36556933403015135, \"sum\": 0.36556933403015135, \"min\": 0.36556933403015135}}, \"EndTime\": 1603912555.661885, \"Dimensions\": {\"model\": 1, \"Host\": \"algo-1\", \"Operation\": \"training\", \"Algorithm\": \"Linear Learner\", \"epoch\": 8}, \"StartTime\": 1603912555.661867}\n",
      "\u001b[0m\n",
      "\u001b[34m#metrics {\"Metrics\": {\"train_absolute_loss_objective\": {\"count\": 1, \"max\": 0.3655525150299072, \"sum\": 0.3655525150299072, \"min\": 0.3655525150299072}}, \"EndTime\": 1603912555.661941, \"Dimensions\": {\"model\": 2, \"Host\": \"algo-1\", \"Operation\": \"training\", \"Algorithm\": \"Linear Learner\", \"epoch\": 8}, \"StartTime\": 1603912555.661927}\n",
      "\u001b[0m\n",
      "\u001b[34m#metrics {\"Metrics\": {\"train_absolute_loss_objective\": {\"count\": 1, \"max\": 0.33491608238220216, \"sum\": 0.33491608238220216, \"min\": 0.33491608238220216}}, \"EndTime\": 1603912555.661992, \"Dimensions\": {\"model\": 3, \"Host\": \"algo-1\", \"Operation\": \"training\", \"Algorithm\": \"Linear Learner\", \"epoch\": 8}, \"StartTime\": 1603912555.661978}\n",
      "\u001b[0m\n",
      "\u001b[34m#metrics {\"Metrics\": {\"train_absolute_loss_objective\": {\"count\": 1, \"max\": 0.3049285774230957, \"sum\": 0.3049285774230957, \"min\": 0.3049285774230957}}, \"EndTime\": 1603912555.662041, \"Dimensions\": {\"model\": 4, \"Host\": \"algo-1\", \"Operation\": \"training\", \"Algorithm\": \"Linear Learner\", \"epoch\": 8}, \"StartTime\": 1603912555.662028}\n",
      "\u001b[0m\n",
      "\u001b[34m#metrics {\"Metrics\": {\"train_absolute_loss_objective\": {\"count\": 1, \"max\": 0.31167065238952635, \"sum\": 0.31167065238952635, \"min\": 0.31167065238952635}}, \"EndTime\": 1603912555.662089, \"Dimensions\": {\"model\": 5, \"Host\": \"algo-1\", \"Operation\": \"training\", \"Algorithm\": \"Linear Learner\", \"epoch\": 8}, \"StartTime\": 1603912555.662076}\n",
      "\u001b[0m\n",
      "\u001b[34m#metrics {\"Metrics\": {\"train_absolute_loss_objective\": {\"count\": 1, \"max\": 0.3028712673187256, \"sum\": 0.3028712673187256, \"min\": 0.3028712673187256}}, \"EndTime\": 1603912555.662139, \"Dimensions\": {\"model\": 6, \"Host\": \"algo-1\", \"Operation\": \"training\", \"Algorithm\": \"Linear Learner\", \"epoch\": 8}, \"StartTime\": 1603912555.662127}\n",
      "\u001b[0m\n",
      "\u001b[34m#metrics {\"Metrics\": {\"train_absolute_loss_objective\": {\"count\": 1, \"max\": 0.3171540832519531, \"sum\": 0.3171540832519531, \"min\": 0.3171540832519531}}, \"EndTime\": 1603912555.662187, \"Dimensions\": {\"model\": 7, \"Host\": \"algo-1\", \"Operation\": \"training\", \"Algorithm\": \"Linear Learner\", \"epoch\": 8}, \"StartTime\": 1603912555.662174}\n",
      "\u001b[0m\n",
      "\u001b[34m#metrics {\"Metrics\": {\"train_absolute_loss_objective\": {\"count\": 1, \"max\": 0.32898286819458006, \"sum\": 0.32898286819458006, \"min\": 0.32898286819458006}}, \"EndTime\": 1603912555.662233, \"Dimensions\": {\"model\": 8, \"Host\": \"algo-1\", \"Operation\": \"training\", \"Algorithm\": \"Linear Learner\", \"epoch\": 8}, \"StartTime\": 1603912555.662221}\n",
      "\u001b[0m\n",
      "\u001b[34m#metrics {\"Metrics\": {\"train_absolute_loss_objective\": {\"count\": 1, \"max\": 0.37916031265258787, \"sum\": 0.37916031265258787, \"min\": 0.37916031265258787}}, \"EndTime\": 1603912555.662279, \"Dimensions\": {\"model\": 9, \"Host\": \"algo-1\", \"Operation\": \"training\", \"Algorithm\": \"Linear Learner\", \"epoch\": 8}, \"StartTime\": 1603912555.662267}\n",
      "\u001b[0m\n",
      "\u001b[34m#metrics {\"Metrics\": {\"train_absolute_loss_objective\": {\"count\": 1, \"max\": 0.3572023620605469, \"sum\": 0.3572023620605469, \"min\": 0.3572023620605469}}, \"EndTime\": 1603912555.662325, \"Dimensions\": {\"model\": 10, \"Host\": \"algo-1\", \"Operation\": \"training\", \"Algorithm\": \"Linear Learner\", \"epoch\": 8}, \"StartTime\": 1603912555.662313}\n",
      "\u001b[0m\n",
      "\u001b[34m#metrics {\"Metrics\": {\"train_absolute_loss_objective\": {\"count\": 1, \"max\": 0.3320210208892822, \"sum\": 0.3320210208892822, \"min\": 0.3320210208892822}}, \"EndTime\": 1603912555.662371, \"Dimensions\": {\"model\": 11, \"Host\": \"algo-1\", \"Operation\": \"training\", \"Algorithm\": \"Linear Learner\", \"epoch\": 8}, \"StartTime\": 1603912555.662359}\n",
      "\u001b[0m\n",
      "\u001b[34m#metrics {\"Metrics\": {\"train_absolute_loss_objective\": {\"count\": 1, \"max\": 0.3016595993041992, \"sum\": 0.3016595993041992, \"min\": 0.3016595993041992}}, \"EndTime\": 1603912555.662418, \"Dimensions\": {\"model\": 12, \"Host\": \"algo-1\", \"Operation\": \"training\", \"Algorithm\": \"Linear Learner\", \"epoch\": 8}, \"StartTime\": 1603912555.662405}\n",
      "\u001b[0m\n",
      "\u001b[34m#metrics {\"Metrics\": {\"train_absolute_loss_objective\": {\"count\": 1, \"max\": 0.3064033546447754, \"sum\": 0.3064033546447754, \"min\": 0.3064033546447754}}, \"EndTime\": 1603912555.662466, \"Dimensions\": {\"model\": 13, \"Host\": \"algo-1\", \"Operation\": \"training\", \"Algorithm\": \"Linear Learner\", \"epoch\": 8}, \"StartTime\": 1603912555.662454}\n",
      "\u001b[0m\n",
      "\u001b[34m#metrics {\"Metrics\": {\"train_absolute_loss_objective\": {\"count\": 1, \"max\": 0.30219948959350584, \"sum\": 0.30219948959350584, \"min\": 0.30219948959350584}}, \"EndTime\": 1603912555.662512, \"Dimensions\": {\"model\": 14, \"Host\": \"algo-1\", \"Operation\": \"training\", \"Algorithm\": \"Linear Learner\", \"epoch\": 8}, \"StartTime\": 1603912555.6625}\n",
      "\u001b[0m\n",
      "\u001b[34m#metrics {\"Metrics\": {\"train_absolute_loss_objective\": {\"count\": 1, \"max\": 0.3013509941101074, \"sum\": 0.3013509941101074, \"min\": 0.3013509941101074}}, \"EndTime\": 1603912555.662556, \"Dimensions\": {\"model\": 15, \"Host\": \"algo-1\", \"Operation\": \"training\", \"Algorithm\": \"Linear Learner\", \"epoch\": 8}, \"StartTime\": 1603912555.662544}\n",
      "\u001b[0m\n",
      "\u001b[34m#metrics {\"Metrics\": {\"train_absolute_loss_objective\": {\"count\": 1, \"max\": 0.3987523937225342, \"sum\": 0.3987523937225342, \"min\": 0.3987523937225342}}, \"EndTime\": 1603912555.662601, \"Dimensions\": {\"model\": 16, \"Host\": \"algo-1\", \"Operation\": \"training\", \"Algorithm\": \"Linear Learner\", \"epoch\": 8}, \"StartTime\": 1603912555.662589}\n",
      "\u001b[0m\n",
      "\u001b[34m#metrics {\"Metrics\": {\"train_absolute_loss_objective\": {\"count\": 1, \"max\": 0.40926001358032227, \"sum\": 0.40926001358032227, \"min\": 0.40926001358032227}}, \"EndTime\": 1603912555.662646, \"Dimensions\": {\"model\": 17, \"Host\": \"algo-1\", \"Operation\": \"training\", \"Algorithm\": \"Linear Learner\", \"epoch\": 8}, \"StartTime\": 1603912555.662634}\n",
      "\u001b[0m\n",
      "\u001b[34m#metrics {\"Metrics\": {\"train_absolute_loss_objective\": {\"count\": 1, \"max\": 0.36246677589416504, \"sum\": 0.36246677589416504, \"min\": 0.36246677589416504}}, \"EndTime\": 1603912555.662691, \"Dimensions\": {\"model\": 18, \"Host\": \"algo-1\", \"Operation\": \"training\", \"Algorithm\": \"Linear Learner\", \"epoch\": 8}, \"StartTime\": 1603912555.662679}\n",
      "\u001b[0m\n",
      "\u001b[34m#metrics {\"Metrics\": {\"train_absolute_loss_objective\": {\"count\": 1, \"max\": 0.3686873893737793, \"sum\": 0.3686873893737793, \"min\": 0.3686873893737793}}, \"EndTime\": 1603912555.662737, \"Dimensions\": {\"model\": 19, \"Host\": \"algo-1\", \"Operation\": \"training\", \"Algorithm\": \"Linear Learner\", \"epoch\": 8}, \"StartTime\": 1603912555.662725}\n",
      "\u001b[0m\n",
      "\u001b[34m#metrics {\"Metrics\": {\"train_absolute_loss_objective\": {\"count\": 1, \"max\": 0.3601880207061768, \"sum\": 0.3601880207061768, \"min\": 0.3601880207061768}}, \"EndTime\": 1603912555.662783, \"Dimensions\": {\"model\": 20, \"Host\": \"algo-1\", \"Operation\": \"training\", \"Algorithm\": \"Linear Learner\", \"epoch\": 8}, \"StartTime\": 1603912555.662771}\n",
      "\u001b[0m\n",
      "\u001b[34m#metrics {\"Metrics\": {\"train_absolute_loss_objective\": {\"count\": 1, \"max\": 0.361184196472168, \"sum\": 0.361184196472168, \"min\": 0.361184196472168}}, \"EndTime\": 1603912555.66283, \"Dimensions\": {\"model\": 21, \"Host\": \"algo-1\", \"Operation\": \"training\", \"Algorithm\": \"Linear Learner\", \"epoch\": 8}, \"StartTime\": 1603912555.662818}\n",
      "\u001b[0m\n",
      "\u001b[34m#metrics {\"Metrics\": {\"train_absolute_loss_objective\": {\"count\": 1, \"max\": 0.3675958557128906, \"sum\": 0.3675958557128906, \"min\": 0.3675958557128906}}, \"EndTime\": 1603912555.662875, \"Dimensions\": {\"model\": 22, \"Host\": \"algo-1\", \"Operation\": \"training\", \"Algorithm\": \"Linear Learner\", \"epoch\": 8}, \"StartTime\": 1603912555.662863}\n",
      "\u001b[0m\n",
      "\u001b[34m#metrics {\"Metrics\": {\"train_absolute_loss_objective\": {\"count\": 1, \"max\": 0.37143495750427247, \"sum\": 0.37143495750427247, \"min\": 0.37143495750427247}}, \"EndTime\": 1603912555.662919, \"Dimensions\": {\"model\": 23, \"Host\": \"algo-1\", \"Operation\": \"training\", \"Algorithm\": \"Linear Learner\", \"epoch\": 8}, \"StartTime\": 1603912555.662907}\n",
      "\u001b[0m\n",
      "\u001b[34m#metrics {\"Metrics\": {\"train_absolute_loss_objective\": {\"count\": 1, \"max\": 0.6883318481445313, \"sum\": 0.6883318481445313, \"min\": 0.6883318481445313}}, \"EndTime\": 1603912555.662964, \"Dimensions\": {\"model\": 24, \"Host\": \"algo-1\", \"Operation\": \"training\", \"Algorithm\": \"Linear Learner\", \"epoch\": 8}, \"StartTime\": 1603912555.662952}\n",
      "\u001b[0m\n",
      "\u001b[34m#metrics {\"Metrics\": {\"train_absolute_loss_objective\": {\"count\": 1, \"max\": 0.6883522682189941, \"sum\": 0.6883522682189941, \"min\": 0.6883522682189941}}, \"EndTime\": 1603912555.663033, \"Dimensions\": {\"model\": 25, \"Host\": \"algo-1\", \"Operation\": \"training\", \"Algorithm\": \"Linear Learner\", \"epoch\": 8}, \"StartTime\": 1603912555.662996}\n",
      "\u001b[0m\n",
      "\u001b[34m#metrics {\"Metrics\": {\"train_absolute_loss_objective\": {\"count\": 1, \"max\": 0.6883275413513184, \"sum\": 0.6883275413513184, \"min\": 0.6883275413513184}}, \"EndTime\": 1603912555.663089, \"Dimensions\": {\"model\": 26, \"Host\": \"algo-1\", \"Operation\": \"training\", \"Algorithm\": \"Linear Learner\", \"epoch\": 8}, \"StartTime\": 1603912555.663074}\n",
      "\u001b[0m\n",
      "\u001b[34m#metrics {\"Metrics\": {\"train_absolute_loss_objective\": {\"count\": 1, \"max\": 0.6887368507385254, \"sum\": 0.6887368507385254, \"min\": 0.6887368507385254}}, \"EndTime\": 1603912555.663138, \"Dimensions\": {\"model\": 27, \"Host\": \"algo-1\", \"Operation\": \"training\", \"Algorithm\": \"Linear Learner\", \"epoch\": 8}, \"StartTime\": 1603912555.663124}\n",
      "\u001b[0m\n",
      "\u001b[34m#metrics {\"Metrics\": {\"train_absolute_loss_objective\": {\"count\": 1, \"max\": 0.7044241333007812, \"sum\": 0.7044241333007812, \"min\": 0.7044241333007812}}, \"EndTime\": 1603912555.663184, \"Dimensions\": {\"model\": 28, \"Host\": \"algo-1\", \"Operation\": \"training\", \"Algorithm\": \"Linear Learner\", \"epoch\": 8}, \"StartTime\": 1603912555.663171}\n",
      "\u001b[0m\n",
      "\u001b[34m#metrics {\"Metrics\": {\"train_absolute_loss_objective\": {\"count\": 1, \"max\": 0.7035952072143554, \"sum\": 0.7035952072143554, \"min\": 0.7035952072143554}}, \"EndTime\": 1603912555.663234, \"Dimensions\": {\"model\": 29, \"Host\": \"algo-1\", \"Operation\": \"training\", \"Algorithm\": \"Linear Learner\", \"epoch\": 8}, \"StartTime\": 1603912555.663219}\n",
      "\u001b[0m\n",
      "\u001b[34m#metrics {\"Metrics\": {\"train_absolute_loss_objective\": {\"count\": 1, \"max\": 0.6973997001647949, \"sum\": 0.6973997001647949, \"min\": 0.6973997001647949}}, \"EndTime\": 1603912555.663283, \"Dimensions\": {\"model\": 30, \"Host\": \"algo-1\", \"Operation\": \"training\", \"Algorithm\": \"Linear Learner\", \"epoch\": 8}, \"StartTime\": 1603912555.663269}\n",
      "\u001b[0m\n",
      "\u001b[34m#metrics {\"Metrics\": {\"train_absolute_loss_objective\": {\"count\": 1, \"max\": 0.7050284881591797, \"sum\": 0.7050284881591797, \"min\": 0.7050284881591797}}, \"EndTime\": 1603912555.663333, \"Dimensions\": {\"model\": 31, \"Host\": \"algo-1\", \"Operation\": \"training\", \"Algorithm\": \"Linear Learner\", \"epoch\": 8}, \"StartTime\": 1603912555.66332}\n",
      "\u001b[0m\n",
      "\u001b[34m[10/28/2020 19:15:55 INFO 140353185830720] #quality_metric: host=algo-1, epoch=8, train absolute_loss_objective <loss>=0.347393285751\u001b[0m\n",
      "\u001b[34m[10/28/2020 19:15:55 INFO 140353185830720] #early_stopping_criteria_metric: host=algo-1, epoch=8, criteria=absolute_loss_objective, value=0.30135099411\u001b[0m\n",
      "\u001b[34m[10/28/2020 19:15:55 INFO 140353185830720] Saving model for epoch: 8\u001b[0m\n",
      "\u001b[34m[10/28/2020 19:15:55 INFO 140353185830720] Saved checkpoint to \"/tmp/tmptKUjmX/mx-mod-0000.params\"\u001b[0m\n",
      "\u001b[34m[10/28/2020 19:15:55 INFO 140353185830720] #progress_metric: host=algo-1, completed 9 % of epochs\u001b[0m\n",
      "\u001b[34m#metrics {\"Metrics\": {\"Max Batches Seen Between Resets\": {\"count\": 1, \"max\": 11, \"sum\": 11.0, \"min\": 11}, \"Number of Batches Since Last Reset\": {\"count\": 1, \"max\": 11, \"sum\": 11.0, \"min\": 11}, \"Number of Records Since Last Reset\": {\"count\": 1, \"max\": 1070, \"sum\": 1070.0, \"min\": 1070}, \"Total Batches Seen\": {\"count\": 1, \"max\": 111, \"sum\": 111.0, \"min\": 111}, \"Total Records Seen\": {\"count\": 1, \"max\": 10800, \"sum\": 10800.0, \"min\": 10800}, \"Max Records Seen Between Resets\": {\"count\": 1, \"max\": 1070, \"sum\": 1070.0, \"min\": 1070}, \"Reset Count\": {\"count\": 1, \"max\": 11, \"sum\": 11.0, \"min\": 11}}, \"EndTime\": 1603912555.682234, \"Dimensions\": {\"Host\": \"algo-1\", \"Meta\": \"training_data_iter\", \"Operation\": \"training\", \"Algorithm\": \"Linear Learner\", \"epoch\": 8}, \"StartTime\": 1603912555.383696}\n",
      "\u001b[0m\n",
      "\u001b[34m[10/28/2020 19:15:55 INFO 140353185830720] #throughput_metric: host=algo-1, train throughput=3582.43141112 records/second\u001b[0m\n",
      "\u001b[34m[2020-10-28 19:15:55.932] [tensorio] [info] epoch_stats={\"data_pipeline\": \"/opt/ml/input/data/train\", \"epoch\": 22, \"duration\": 250, \"num_examples\": 11, \"num_bytes\": 81320}\u001b[0m\n",
      "\u001b[34m#metrics {\"Metrics\": {\"train_absolute_loss_objective\": {\"count\": 1, \"max\": 0.33096732902526854, \"sum\": 0.33096732902526854, \"min\": 0.33096732902526854}}, \"EndTime\": 1603912555.933108, \"Dimensions\": {\"model\": 0, \"Host\": \"algo-1\", \"Operation\": \"training\", \"Algorithm\": \"Linear Learner\", \"epoch\": 9}, \"StartTime\": 1603912555.933013}\n",
      "\u001b[0m\n",
      "\u001b[34m#metrics {\"Metrics\": {\"train_absolute_loss_objective\": {\"count\": 1, \"max\": 0.3441602172851562, \"sum\": 0.3441602172851562, \"min\": 0.3441602172851562}}, \"EndTime\": 1603912555.933422, \"Dimensions\": {\"model\": 1, \"Host\": \"algo-1\", \"Operation\": \"training\", \"Algorithm\": \"Linear Learner\", \"epoch\": 9}, \"StartTime\": 1603912555.933189}\n",
      "\u001b[0m\n",
      "\u001b[34m#metrics {\"Metrics\": {\"train_absolute_loss_objective\": {\"count\": 1, \"max\": 0.34528285217285154, \"sum\": 0.34528285217285154, \"min\": 0.34528285217285154}}, \"EndTime\": 1603912555.933501, \"Dimensions\": {\"model\": 2, \"Host\": \"algo-1\", \"Operation\": \"training\", \"Algorithm\": \"Linear Learner\", \"epoch\": 9}, \"StartTime\": 1603912555.933484}\n",
      "\u001b[0m\n",
      "\u001b[34m#metrics {\"Metrics\": {\"train_absolute_loss_objective\": {\"count\": 1, \"max\": 0.3220007553100586, \"sum\": 0.3220007553100586, \"min\": 0.3220007553100586}}, \"EndTime\": 1603912555.933549, \"Dimensions\": {\"model\": 3, \"Host\": \"algo-1\", \"Operation\": \"training\", \"Algorithm\": \"Linear Learner\", \"epoch\": 9}, \"StartTime\": 1603912555.933538}\n",
      "\u001b[0m\n",
      "\u001b[34m#metrics {\"Metrics\": {\"train_absolute_loss_objective\": {\"count\": 1, \"max\": 0.31404187393188476, \"sum\": 0.31404187393188476, \"min\": 0.31404187393188476}}, \"EndTime\": 1603912555.933759, \"Dimensions\": {\"model\": 4, \"Host\": \"algo-1\", \"Operation\": \"training\", \"Algorithm\": \"Linear Learner\", \"epoch\": 9}, \"StartTime\": 1603912555.933669}\n",
      "\u001b[0m\n",
      "\u001b[34m#metrics {\"Metrics\": {\"train_absolute_loss_objective\": {\"count\": 1, \"max\": 0.30725347328186037, \"sum\": 0.30725347328186037, \"min\": 0.30725347328186037}}, \"EndTime\": 1603912555.933881, \"Dimensions\": {\"model\": 5, \"Host\": \"algo-1\", \"Operation\": \"training\", \"Algorithm\": \"Linear Learner\", \"epoch\": 9}, \"StartTime\": 1603912555.933862}\n",
      "\u001b[0m\n",
      "\u001b[34m#metrics {\"Metrics\": {\"train_absolute_loss_objective\": {\"count\": 1, \"max\": 0.3074829254150391, \"sum\": 0.3074829254150391, \"min\": 0.3074829254150391}}, \"EndTime\": 1603912555.934038, \"Dimensions\": {\"model\": 6, \"Host\": \"algo-1\", \"Operation\": \"training\", \"Algorithm\": \"Linear Learner\", \"epoch\": 9}, \"StartTime\": 1603912555.933975}\n",
      "\u001b[0m\n",
      "\u001b[34m#metrics {\"Metrics\": {\"train_absolute_loss_objective\": {\"count\": 1, \"max\": 0.32120084381103514, \"sum\": 0.32120084381103514, \"min\": 0.32120084381103514}}, \"EndTime\": 1603912555.934176, \"Dimensions\": {\"model\": 7, \"Host\": \"algo-1\", \"Operation\": \"training\", \"Algorithm\": \"Linear Learner\", \"epoch\": 9}, \"StartTime\": 1603912555.93416}\n",
      "\u001b[0m\n",
      "\u001b[34m#metrics {\"Metrics\": {\"train_absolute_loss_objective\": {\"count\": 1, \"max\": 0.3187499866485596, \"sum\": 0.3187499866485596, \"min\": 0.3187499866485596}}, \"EndTime\": 1603912555.934222, \"Dimensions\": {\"model\": 8, \"Host\": \"algo-1\", \"Operation\": \"training\", \"Algorithm\": \"Linear Learner\", \"epoch\": 9}, \"StartTime\": 1603912555.934212}\n",
      "\u001b[0m\n",
      "\u001b[34m#metrics {\"Metrics\": {\"train_absolute_loss_objective\": {\"count\": 1, \"max\": 0.3554841575622559, \"sum\": 0.3554841575622559, \"min\": 0.3554841575622559}}, \"EndTime\": 1603912555.934366, \"Dimensions\": {\"model\": 9, \"Host\": \"algo-1\", \"Operation\": \"training\", \"Algorithm\": \"Linear Learner\", \"epoch\": 9}, \"StartTime\": 1603912555.934346}\n",
      "\u001b[0m\n",
      "\u001b[34m#metrics {\"Metrics\": {\"train_absolute_loss_objective\": {\"count\": 1, \"max\": 0.3382154426574707, \"sum\": 0.3382154426574707, \"min\": 0.3382154426574707}}, \"EndTime\": 1603912555.934558, \"Dimensions\": {\"model\": 10, \"Host\": \"algo-1\", \"Operation\": \"training\", \"Algorithm\": \"Linear Learner\", \"epoch\": 9}, \"StartTime\": 1603912555.934537}\n",
      "\u001b[0m\n",
      "\u001b[34m#metrics {\"Metrics\": {\"train_absolute_loss_objective\": {\"count\": 1, \"max\": 0.31989082717895506, \"sum\": 0.31989082717895506, \"min\": 0.31989082717895506}}, \"EndTime\": 1603912555.934717, \"Dimensions\": {\"model\": 11, \"Host\": \"algo-1\", \"Operation\": \"training\", \"Algorithm\": \"Linear Learner\", \"epoch\": 9}, \"StartTime\": 1603912555.934606}\n",
      "\u001b[0m\n",
      "\u001b[34m#metrics {\"Metrics\": {\"train_absolute_loss_objective\": {\"count\": 1, \"max\": 0.3106174488067627, \"sum\": 0.3106174488067627, \"min\": 0.3106174488067627}}, \"EndTime\": 1603912555.934792, \"Dimensions\": {\"model\": 12, \"Host\": \"algo-1\", \"Operation\": \"training\", \"Algorithm\": \"Linear Learner\", \"epoch\": 9}, \"StartTime\": 1603912555.934771}\n",
      "\u001b[0m\n",
      "\u001b[34m#metrics {\"Metrics\": {\"train_absolute_loss_objective\": {\"count\": 1, \"max\": 0.31472532844543455, \"sum\": 0.31472532844543455, \"min\": 0.31472532844543455}}, \"EndTime\": 1603912555.934945, \"Dimensions\": {\"model\": 13, \"Host\": \"algo-1\", \"Operation\": \"training\", \"Algorithm\": \"Linear Learner\", \"epoch\": 9}, \"StartTime\": 1603912555.934836}\n",
      "\u001b[0m\n",
      "\u001b[34m#metrics {\"Metrics\": {\"train_absolute_loss_objective\": {\"count\": 1, \"max\": 0.30587937545776367, \"sum\": 0.30587937545776367, \"min\": 0.30587937545776367}}, \"EndTime\": 1603912555.935048, \"Dimensions\": {\"model\": 14, \"Host\": \"algo-1\", \"Operation\": \"training\", \"Algorithm\": \"Linear Learner\", \"epoch\": 9}, \"StartTime\": 1603912555.935001}\n",
      "\u001b[0m\n",
      "\u001b[34m#metrics {\"Metrics\": {\"train_absolute_loss_objective\": {\"count\": 1, \"max\": 0.3027363510131836, \"sum\": 0.3027363510131836, \"min\": 0.3027363510131836}}, \"EndTime\": 1603912555.935113, \"Dimensions\": {\"model\": 15, \"Host\": \"algo-1\", \"Operation\": \"training\", \"Algorithm\": \"Linear Learner\", \"epoch\": 9}, \"StartTime\": 1603912555.935096}\n",
      "\u001b[0m\n",
      "\u001b[34m#metrics {\"Metrics\": {\"train_absolute_loss_objective\": {\"count\": 1, \"max\": 0.38665828132629393, \"sum\": 0.38665828132629393, \"min\": 0.38665828132629393}}, \"EndTime\": 1603912555.935176, \"Dimensions\": {\"model\": 16, \"Host\": \"algo-1\", \"Operation\": \"training\", \"Algorithm\": \"Linear Learner\", \"epoch\": 9}, \"StartTime\": 1603912555.935159}\n",
      "\u001b[0m\n",
      "\u001b[34m#metrics {\"Metrics\": {\"train_absolute_loss_objective\": {\"count\": 1, \"max\": 0.3952280559539795, \"sum\": 0.3952280559539795, \"min\": 0.3952280559539795}}, \"EndTime\": 1603912555.935243, \"Dimensions\": {\"model\": 17, \"Host\": \"algo-1\", \"Operation\": \"training\", \"Algorithm\": \"Linear Learner\", \"epoch\": 9}, \"StartTime\": 1603912555.935226}\n",
      "\u001b[0m\n",
      "\u001b[34m#metrics {\"Metrics\": {\"train_absolute_loss_objective\": {\"count\": 1, \"max\": 0.35624994659423825, \"sum\": 0.35624994659423825, \"min\": 0.35624994659423825}}, \"EndTime\": 1603912555.935306, \"Dimensions\": {\"model\": 18, \"Host\": \"algo-1\", \"Operation\": \"training\", \"Algorithm\": \"Linear Learner\", \"epoch\": 9}, \"StartTime\": 1603912555.935288}\n",
      "\u001b[0m\n",
      "\u001b[34m#metrics {\"Metrics\": {\"train_absolute_loss_objective\": {\"count\": 1, \"max\": 0.3606546688079834, \"sum\": 0.3606546688079834, \"min\": 0.3606546688079834}}, \"EndTime\": 1603912555.935366, \"Dimensions\": {\"model\": 19, \"Host\": \"algo-1\", \"Operation\": \"training\", \"Algorithm\": \"Linear Learner\", \"epoch\": 9}, \"StartTime\": 1603912555.93535}\n",
      "\u001b[0m\n",
      "\u001b[34m#metrics {\"Metrics\": {\"train_absolute_loss_objective\": {\"count\": 1, \"max\": 0.3679430313110352, \"sum\": 0.3679430313110352, \"min\": 0.3679430313110352}}, \"EndTime\": 1603912555.935426, \"Dimensions\": {\"model\": 20, \"Host\": \"algo-1\", \"Operation\": \"training\", \"Algorithm\": \"Linear Learner\", \"epoch\": 9}, \"StartTime\": 1603912555.935409}\n",
      "\u001b[0m\n",
      "\u001b[34m#metrics {\"Metrics\": {\"train_absolute_loss_objective\": {\"count\": 1, \"max\": 0.3683076477050781, \"sum\": 0.3683076477050781, \"min\": 0.3683076477050781}}, \"EndTime\": 1603912555.935486, \"Dimensions\": {\"model\": 21, \"Host\": \"algo-1\", \"Operation\": \"training\", \"Algorithm\": \"Linear Learner\", \"epoch\": 9}, \"StartTime\": 1603912555.935469}\n",
      "\u001b[0m\n",
      "\u001b[34m#metrics {\"Metrics\": {\"train_absolute_loss_objective\": {\"count\": 1, \"max\": 0.36738474082946776, \"sum\": 0.36738474082946776, \"min\": 0.36738474082946776}}, \"EndTime\": 1603912555.935541, \"Dimensions\": {\"model\": 22, \"Host\": \"algo-1\", \"Operation\": \"training\", \"Algorithm\": \"Linear Learner\", \"epoch\": 9}, \"StartTime\": 1603912555.935525}\n",
      "\u001b[0m\n",
      "\u001b[34m#metrics {\"Metrics\": {\"train_absolute_loss_objective\": {\"count\": 1, \"max\": 0.3669744415283203, \"sum\": 0.3669744415283203, \"min\": 0.3669744415283203}}, \"EndTime\": 1603912555.935604, \"Dimensions\": {\"model\": 23, \"Host\": \"algo-1\", \"Operation\": \"training\", \"Algorithm\": \"Linear Learner\", \"epoch\": 9}, \"StartTime\": 1603912555.935587}\n",
      "\u001b[0m\n",
      "\u001b[34m#metrics {\"Metrics\": {\"train_absolute_loss_objective\": {\"count\": 1, \"max\": 0.6882693901062011, \"sum\": 0.6882693901062011, \"min\": 0.6882693901062011}}, \"EndTime\": 1603912555.935663, \"Dimensions\": {\"model\": 24, \"Host\": \"algo-1\", \"Operation\": \"training\", \"Algorithm\": \"Linear Learner\", \"epoch\": 9}, \"StartTime\": 1603912555.935646}\n",
      "\u001b[0m\n",
      "\u001b[34m#metrics {\"Metrics\": {\"train_absolute_loss_objective\": {\"count\": 1, \"max\": 0.6884486618041992, \"sum\": 0.6884486618041992, \"min\": 0.6884486618041992}}, \"EndTime\": 1603912555.935743, \"Dimensions\": {\"model\": 25, \"Host\": \"algo-1\", \"Operation\": \"training\", \"Algorithm\": \"Linear Learner\", \"epoch\": 9}, \"StartTime\": 1603912555.935725}\n",
      "\u001b[0m\n",
      "\u001b[34m#metrics {\"Metrics\": {\"train_absolute_loss_objective\": {\"count\": 1, \"max\": 0.6882460746765137, \"sum\": 0.6882460746765137, \"min\": 0.6882460746765137}}, \"EndTime\": 1603912555.935803, \"Dimensions\": {\"model\": 26, \"Host\": \"algo-1\", \"Operation\": \"training\", \"Algorithm\": \"Linear Learner\", \"epoch\": 9}, \"StartTime\": 1603912555.935786}\n",
      "\u001b[0m\n",
      "\u001b[34m#metrics {\"Metrics\": {\"train_absolute_loss_objective\": {\"count\": 1, \"max\": 0.6883711662292481, \"sum\": 0.6883711662292481, \"min\": 0.6883711662292481}}, \"EndTime\": 1603912555.935865, \"Dimensions\": {\"model\": 27, \"Host\": \"algo-1\", \"Operation\": \"training\", \"Algorithm\": \"Linear Learner\", \"epoch\": 9}, \"StartTime\": 1603912555.935848}\n",
      "\u001b[0m\n",
      "\u001b[34m#metrics {\"Metrics\": {\"train_absolute_loss_objective\": {\"count\": 1, \"max\": 0.7014109573364258, \"sum\": 0.7014109573364258, \"min\": 0.7014109573364258}}, \"EndTime\": 1603912555.935925, \"Dimensions\": {\"model\": 28, \"Host\": \"algo-1\", \"Operation\": \"training\", \"Algorithm\": \"Linear Learner\", \"epoch\": 9}, \"StartTime\": 1603912555.935908}\n",
      "\u001b[0m\n",
      "\u001b[34m#metrics {\"Metrics\": {\"train_absolute_loss_objective\": {\"count\": 1, \"max\": 0.6998253517150879, \"sum\": 0.6998253517150879, \"min\": 0.6998253517150879}}, \"EndTime\": 1603912555.935984, \"Dimensions\": {\"model\": 29, \"Host\": \"algo-1\", \"Operation\": \"training\", \"Algorithm\": \"Linear Learner\", \"epoch\": 9}, \"StartTime\": 1603912555.935967}\n",
      "\u001b[0m\n",
      "\u001b[34m#metrics {\"Metrics\": {\"train_absolute_loss_objective\": {\"count\": 1, \"max\": 0.6976629867553711, \"sum\": 0.6976629867553711, \"min\": 0.6976629867553711}}, \"EndTime\": 1603912555.936042, \"Dimensions\": {\"model\": 30, \"Host\": \"algo-1\", \"Operation\": \"training\", \"Algorithm\": \"Linear Learner\", \"epoch\": 9}, \"StartTime\": 1603912555.936025}\n",
      "\u001b[0m\n",
      "\u001b[34m#metrics {\"Metrics\": {\"train_absolute_loss_objective\": {\"count\": 1, \"max\": 0.7019024887084961, \"sum\": 0.7019024887084961, \"min\": 0.7019024887084961}}, \"EndTime\": 1603912555.9361, \"Dimensions\": {\"model\": 31, \"Host\": \"algo-1\", \"Operation\": \"training\", \"Algorithm\": \"Linear Learner\", \"epoch\": 9}, \"StartTime\": 1603912555.936083}\n",
      "\u001b[0m\n",
      "\u001b[34m[10/28/2020 19:15:55 INFO 140353185830720] #quality_metric: host=algo-1, epoch=9, train absolute_loss_objective <loss>=0.330967329025\u001b[0m\n",
      "\u001b[34m[10/28/2020 19:15:55 INFO 140353185830720] #early_stopping_criteria_metric: host=algo-1, epoch=9, criteria=absolute_loss_objective, value=0.302736351013\u001b[0m\n",
      "\u001b[34m[10/28/2020 19:15:55 INFO 140353185830720] Saving model for epoch: 9\u001b[0m\n",
      "\u001b[34m[10/28/2020 19:15:55 INFO 140353185830720] Saved checkpoint to \"/tmp/tmp1IaT9Y/mx-mod-0000.params\"\u001b[0m\n",
      "\u001b[34m[10/28/2020 19:15:55 INFO 140353185830720] #progress_metric: host=algo-1, completed 10 % of epochs\u001b[0m\n",
      "\u001b[34m#metrics {\"Metrics\": {\"Max Batches Seen Between Resets\": {\"count\": 1, \"max\": 11, \"sum\": 11.0, \"min\": 11}, \"Number of Batches Since Last Reset\": {\"count\": 1, \"max\": 11, \"sum\": 11.0, \"min\": 11}, \"Number of Records Since Last Reset\": {\"count\": 1, \"max\": 1070, \"sum\": 1070.0, \"min\": 1070}, \"Total Batches Seen\": {\"count\": 1, \"max\": 122, \"sum\": 122.0, \"min\": 122}, \"Total Records Seen\": {\"count\": 1, \"max\": 11870, \"sum\": 11870.0, \"min\": 11870}, \"Max Records Seen Between Resets\": {\"count\": 1, \"max\": 1070, \"sum\": 1070.0, \"min\": 1070}, \"Reset Count\": {\"count\": 1, \"max\": 12, \"sum\": 12.0, \"min\": 12}}, \"EndTime\": 1603912555.943358, \"Dimensions\": {\"Host\": \"algo-1\", \"Meta\": \"training_data_iter\", \"Operation\": \"training\", \"Algorithm\": \"Linear Learner\", \"epoch\": 9}, \"StartTime\": 1603912555.682522}\n",
      "\u001b[0m\n",
      "\u001b[34m[10/28/2020 19:15:55 INFO 140353185830720] #throughput_metric: host=algo-1, train throughput=4099.99267321 records/second\u001b[0m\n",
      "\u001b[34m[2020-10-28 19:15:56.196] [tensorio] [info] epoch_stats={\"data_pipeline\": \"/opt/ml/input/data/train\", \"epoch\": 24, \"duration\": 252, \"num_examples\": 11, \"num_bytes\": 81320}\u001b[0m\n",
      "\u001b[34m#metrics {\"Metrics\": {\"train_absolute_loss_objective\": {\"count\": 1, \"max\": 0.3196545352935791, \"sum\": 0.3196545352935791, \"min\": 0.3196545352935791}}, \"EndTime\": 1603912556.196702, \"Dimensions\": {\"model\": 0, \"Host\": \"algo-1\", \"Operation\": \"training\", \"Algorithm\": \"Linear Learner\", \"epoch\": 10}, \"StartTime\": 1603912556.196591}\n",
      "\u001b[0m\n",
      "\u001b[34m#metrics {\"Metrics\": {\"train_absolute_loss_objective\": {\"count\": 1, \"max\": 0.3277576370239258, \"sum\": 0.3277576370239258, \"min\": 0.3277576370239258}}, \"EndTime\": 1603912556.197016, \"Dimensions\": {\"model\": 1, \"Host\": \"algo-1\", \"Operation\": \"training\", \"Algorithm\": \"Linear Learner\", \"epoch\": 10}, \"StartTime\": 1603912556.196991}\n",
      "\u001b[0m\n",
      "\u001b[34m#metrics {\"Metrics\": {\"train_absolute_loss_objective\": {\"count\": 1, \"max\": 0.3296112003326416, \"sum\": 0.3296112003326416, \"min\": 0.3296112003326416}}, \"EndTime\": 1603912556.197289, \"Dimensions\": {\"model\": 2, \"Host\": \"algo-1\", \"Operation\": \"training\", \"Algorithm\": \"Linear Learner\", \"epoch\": 10}, \"StartTime\": 1603912556.197264}\n",
      "\u001b[0m\n",
      "\u001b[34m#metrics {\"Metrics\": {\"train_absolute_loss_objective\": {\"count\": 1, \"max\": 0.31428160858154297, \"sum\": 0.31428160858154297, \"min\": 0.31428160858154297}}, \"EndTime\": 1603912556.197553, \"Dimensions\": {\"model\": 3, \"Host\": \"algo-1\", \"Operation\": \"training\", \"Algorithm\": \"Linear Learner\", \"epoch\": 10}, \"StartTime\": 1603912556.19753}\n",
      "\u001b[0m\n",
      "\u001b[34m#metrics {\"Metrics\": {\"train_absolute_loss_objective\": {\"count\": 1, \"max\": 0.32431045722961427, \"sum\": 0.32431045722961427, \"min\": 0.32431045722961427}}, \"EndTime\": 1603912556.197633, \"Dimensions\": {\"model\": 4, \"Host\": \"algo-1\", \"Operation\": \"training\", \"Algorithm\": \"Linear Learner\", \"epoch\": 10}, \"StartTime\": 1603912556.197614}\n",
      "\u001b[0m\n",
      "\u001b[34m#metrics {\"Metrics\": {\"train_absolute_loss_objective\": {\"count\": 1, \"max\": 0.31259814071655273, \"sum\": 0.31259814071655273, \"min\": 0.31259814071655273}}, \"EndTime\": 1603912556.197697, \"Dimensions\": {\"model\": 5, \"Host\": \"algo-1\", \"Operation\": \"training\", \"Algorithm\": \"Linear Learner\", \"epoch\": 10}, \"StartTime\": 1603912556.19768}\n",
      "\u001b[0m\n",
      "\u001b[34m#metrics {\"Metrics\": {\"train_absolute_loss_objective\": {\"count\": 1, \"max\": 0.3016534957885742, \"sum\": 0.3016534957885742, \"min\": 0.3016534957885742}}, \"EndTime\": 1603912556.197756, \"Dimensions\": {\"model\": 6, \"Host\": \"algo-1\", \"Operation\": \"training\", \"Algorithm\": \"Linear Learner\", \"epoch\": 10}, \"StartTime\": 1603912556.19774}\n",
      "\u001b[0m\n",
      "\u001b[34m#metrics {\"Metrics\": {\"train_absolute_loss_objective\": {\"count\": 1, \"max\": 0.3270894069671631, \"sum\": 0.3270894069671631, \"min\": 0.3270894069671631}}, \"EndTime\": 1603912556.197814, \"Dimensions\": {\"model\": 7, \"Host\": \"algo-1\", \"Operation\": \"training\", \"Algorithm\": \"Linear Learner\", \"epoch\": 10}, \"StartTime\": 1603912556.197798}\n",
      "\u001b[0m\n",
      "\u001b[34m#metrics {\"Metrics\": {\"train_absolute_loss_objective\": {\"count\": 1, \"max\": 0.3128288059234619, \"sum\": 0.3128288059234619, \"min\": 0.3128288059234619}}, \"EndTime\": 1603912556.197873, \"Dimensions\": {\"model\": 8, \"Host\": \"algo-1\", \"Operation\": \"training\", \"Algorithm\": \"Linear Learner\", \"epoch\": 10}, \"StartTime\": 1603912556.197858}\n",
      "\u001b[0m\n",
      "\u001b[34m#metrics {\"Metrics\": {\"train_absolute_loss_objective\": {\"count\": 1, \"max\": 0.33608083724975585, \"sum\": 0.33608083724975585, \"min\": 0.33608083724975585}}, \"EndTime\": 1603912556.197928, \"Dimensions\": {\"model\": 9, \"Host\": \"algo-1\", \"Operation\": \"training\", \"Algorithm\": \"Linear Learner\", \"epoch\": 10}, \"StartTime\": 1603912556.197913}\n",
      "\u001b[0m\n",
      "\u001b[34m#metrics {\"Metrics\": {\"train_absolute_loss_objective\": {\"count\": 1, \"max\": 0.32503738403320315, \"sum\": 0.32503738403320315, \"min\": 0.32503738403320315}}, \"EndTime\": 1603912556.197986, \"Dimensions\": {\"model\": 10, \"Host\": \"algo-1\", \"Operation\": \"training\", \"Algorithm\": \"Linear Learner\", \"epoch\": 10}, \"StartTime\": 1603912556.19797}\n",
      "\u001b[0m\n",
      "\u001b[34m#metrics {\"Metrics\": {\"train_absolute_loss_objective\": {\"count\": 1, \"max\": 0.3130923099517822, \"sum\": 0.3130923099517822, \"min\": 0.3130923099517822}}, \"EndTime\": 1603912556.198046, \"Dimensions\": {\"model\": 11, \"Host\": \"algo-1\", \"Operation\": \"training\", \"Algorithm\": \"Linear Learner\", \"epoch\": 10}, \"StartTime\": 1603912556.198031}\n",
      "\u001b[0m\n",
      "\u001b[34m#metrics {\"Metrics\": {\"train_absolute_loss_objective\": {\"count\": 1, \"max\": 0.3048933219909668, \"sum\": 0.3048933219909668, \"min\": 0.3048933219909668}}, \"EndTime\": 1603912556.198102, \"Dimensions\": {\"model\": 12, \"Host\": \"algo-1\", \"Operation\": \"training\", \"Algorithm\": \"Linear Learner\", \"epoch\": 10}, \"StartTime\": 1603912556.198086}\n",
      "\u001b[0m\n",
      "\u001b[34m#metrics {\"Metrics\": {\"train_absolute_loss_objective\": {\"count\": 1, \"max\": 0.311026252746582, \"sum\": 0.311026252746582, \"min\": 0.311026252746582}}, \"EndTime\": 1603912556.19816, \"Dimensions\": {\"model\": 13, \"Host\": \"algo-1\", \"Operation\": \"training\", \"Algorithm\": \"Linear Learner\", \"epoch\": 10}, \"StartTime\": 1603912556.198144}\n",
      "\u001b[0m\n",
      "\u001b[34m#metrics {\"Metrics\": {\"train_absolute_loss_objective\": {\"count\": 1, \"max\": 0.3095174045562744, \"sum\": 0.3095174045562744, \"min\": 0.3095174045562744}}, \"EndTime\": 1603912556.198217, \"Dimensions\": {\"model\": 14, \"Host\": \"algo-1\", \"Operation\": \"training\", \"Algorithm\": \"Linear Learner\", \"epoch\": 10}, \"StartTime\": 1603912556.198202}\n",
      "\u001b[0m\n",
      "\u001b[34m#metrics {\"Metrics\": {\"train_absolute_loss_objective\": {\"count\": 1, \"max\": 0.312974178314209, \"sum\": 0.312974178314209, \"min\": 0.312974178314209}}, \"EndTime\": 1603912556.19827, \"Dimensions\": {\"model\": 15, \"Host\": \"algo-1\", \"Operation\": \"training\", \"Algorithm\": \"Linear Learner\", \"epoch\": 10}, \"StartTime\": 1603912556.198256}\n",
      "\u001b[0m\n",
      "\u001b[34m#metrics {\"Metrics\": {\"train_absolute_loss_objective\": {\"count\": 1, \"max\": 0.3754875774383545, \"sum\": 0.3754875774383545, \"min\": 0.3754875774383545}}, \"EndTime\": 1603912556.198327, \"Dimensions\": {\"model\": 16, \"Host\": \"algo-1\", \"Operation\": \"training\", \"Algorithm\": \"Linear Learner\", \"epoch\": 10}, \"StartTime\": 1603912556.198311}\n",
      "\u001b[0m\n",
      "\u001b[34m#metrics {\"Metrics\": {\"train_absolute_loss_objective\": {\"count\": 1, \"max\": 0.382596809387207, \"sum\": 0.382596809387207, \"min\": 0.382596809387207}}, \"EndTime\": 1603912556.198384, \"Dimensions\": {\"model\": 17, \"Host\": \"algo-1\", \"Operation\": \"training\", \"Algorithm\": \"Linear Learner\", \"epoch\": 10}, \"StartTime\": 1603912556.198368}\n",
      "\u001b[0m\n",
      "\u001b[34m#metrics {\"Metrics\": {\"train_absolute_loss_objective\": {\"count\": 1, \"max\": 0.34995010566711426, \"sum\": 0.34995010566711426, \"min\": 0.34995010566711426}}, \"EndTime\": 1603912556.198436, \"Dimensions\": {\"model\": 18, \"Host\": \"algo-1\", \"Operation\": \"training\", \"Algorithm\": \"Linear Learner\", \"epoch\": 10}, \"StartTime\": 1603912556.198423}\n",
      "\u001b[0m\n",
      "\u001b[34m#metrics {\"Metrics\": {\"train_absolute_loss_objective\": {\"count\": 1, \"max\": 0.35432025718688964, \"sum\": 0.35432025718688964, \"min\": 0.35432025718688964}}, \"EndTime\": 1603912556.198496, \"Dimensions\": {\"model\": 19, \"Host\": \"algo-1\", \"Operation\": \"training\", \"Algorithm\": \"Linear Learner\", \"epoch\": 10}, \"StartTime\": 1603912556.198482}\n",
      "\u001b[0m\n",
      "\u001b[34m#metrics {\"Metrics\": {\"train_absolute_loss_objective\": {\"count\": 1, \"max\": 0.3749283332824707, \"sum\": 0.3749283332824707, \"min\": 0.3749283332824707}}, \"EndTime\": 1603912556.198544, \"Dimensions\": {\"model\": 20, \"Host\": \"algo-1\", \"Operation\": \"training\", \"Algorithm\": \"Linear Learner\", \"epoch\": 10}, \"StartTime\": 1603912556.198531}\n",
      "\u001b[0m\n",
      "\u001b[34m#metrics {\"Metrics\": {\"train_absolute_loss_objective\": {\"count\": 1, \"max\": 0.37763811111450196, \"sum\": 0.37763811111450196, \"min\": 0.37763811111450196}}, \"EndTime\": 1603912556.198591, \"Dimensions\": {\"model\": 21, \"Host\": \"algo-1\", \"Operation\": \"training\", \"Algorithm\": \"Linear Learner\", \"epoch\": 10}, \"StartTime\": 1603912556.198578}\n",
      "\u001b[0m\n",
      "\u001b[34m#metrics {\"Metrics\": {\"train_absolute_loss_objective\": {\"count\": 1, \"max\": 0.3616583213806152, \"sum\": 0.3616583213806152, \"min\": 0.3616583213806152}}, \"EndTime\": 1603912556.198642, \"Dimensions\": {\"model\": 22, \"Host\": \"algo-1\", \"Operation\": \"training\", \"Algorithm\": \"Linear Learner\", \"epoch\": 10}, \"StartTime\": 1603912556.198629}\n",
      "\u001b[0m\n",
      "\u001b[34m#metrics {\"Metrics\": {\"train_absolute_loss_objective\": {\"count\": 1, \"max\": 0.37768212890625, \"sum\": 0.37768212890625, \"min\": 0.37768212890625}}, \"EndTime\": 1603912556.198692, \"Dimensions\": {\"model\": 23, \"Host\": \"algo-1\", \"Operation\": \"training\", \"Algorithm\": \"Linear Learner\", \"epoch\": 10}, \"StartTime\": 1603912556.198679}\n",
      "\u001b[0m\n",
      "\u001b[34m#metrics {\"Metrics\": {\"train_absolute_loss_objective\": {\"count\": 1, \"max\": 0.688566577911377, \"sum\": 0.688566577911377, \"min\": 0.688566577911377}}, \"EndTime\": 1603912556.198739, \"Dimensions\": {\"model\": 24, \"Host\": \"algo-1\", \"Operation\": \"training\", \"Algorithm\": \"Linear Learner\", \"epoch\": 10}, \"StartTime\": 1603912556.198726}\n",
      "\u001b[0m\n",
      "\u001b[34m#metrics {\"Metrics\": {\"train_absolute_loss_objective\": {\"count\": 1, \"max\": 0.6886167373657227, \"sum\": 0.6886167373657227, \"min\": 0.6886167373657227}}, \"EndTime\": 1603912556.198789, \"Dimensions\": {\"model\": 25, \"Host\": \"algo-1\", \"Operation\": \"training\", \"Algorithm\": \"Linear Learner\", \"epoch\": 10}, \"StartTime\": 1603912556.198776}\n",
      "\u001b[0m\n",
      "\u001b[34m#metrics {\"Metrics\": {\"train_absolute_loss_objective\": {\"count\": 1, \"max\": 0.6885710105895996, \"sum\": 0.6885710105895996, \"min\": 0.6885710105895996}}, \"EndTime\": 1603912556.198836, \"Dimensions\": {\"model\": 26, \"Host\": \"algo-1\", \"Operation\": \"training\", \"Algorithm\": \"Linear Learner\", \"epoch\": 10}, \"StartTime\": 1603912556.198823}\n",
      "\u001b[0m\n",
      "\u001b[34m#metrics {\"Metrics\": {\"train_absolute_loss_objective\": {\"count\": 1, \"max\": 0.6885501098632812, \"sum\": 0.6885501098632812, \"min\": 0.6885501098632812}}, \"EndTime\": 1603912556.198883, \"Dimensions\": {\"model\": 27, \"Host\": \"algo-1\", \"Operation\": \"training\", \"Algorithm\": \"Linear Learner\", \"epoch\": 10}, \"StartTime\": 1603912556.19887}\n",
      "\u001b[0m\n",
      "\u001b[34m#metrics {\"Metrics\": {\"train_absolute_loss_objective\": {\"count\": 1, \"max\": 0.7001071701049805, \"sum\": 0.7001071701049805, \"min\": 0.7001071701049805}}, \"EndTime\": 1603912556.198931, \"Dimensions\": {\"model\": 28, \"Host\": \"algo-1\", \"Operation\": \"training\", \"Algorithm\": \"Linear Learner\", \"epoch\": 10}, \"StartTime\": 1603912556.198918}\n",
      "\u001b[0m\n",
      "\u001b[34m#metrics {\"Metrics\": {\"train_absolute_loss_objective\": {\"count\": 1, \"max\": 0.7027648468017578, \"sum\": 0.7027648468017578, \"min\": 0.7027648468017578}}, \"EndTime\": 1603912556.198978, \"Dimensions\": {\"model\": 29, \"Host\": \"algo-1\", \"Operation\": \"training\", \"Algorithm\": \"Linear Learner\", \"epoch\": 10}, \"StartTime\": 1603912556.198966}\n",
      "\u001b[0m\n",
      "\u001b[34m#metrics {\"Metrics\": {\"train_absolute_loss_objective\": {\"count\": 1, \"max\": 0.6962273941040039, \"sum\": 0.6962273941040039, \"min\": 0.6962273941040039}}, \"EndTime\": 1603912556.199061, \"Dimensions\": {\"model\": 30, \"Host\": \"algo-1\", \"Operation\": \"training\", \"Algorithm\": \"Linear Learner\", \"epoch\": 10}, \"StartTime\": 1603912556.199044}\n",
      "\u001b[0m\n",
      "\u001b[34m#metrics {\"Metrics\": {\"train_absolute_loss_objective\": {\"count\": 1, \"max\": 0.6985650634765626, \"sum\": 0.6985650634765626, \"min\": 0.6985650634765626}}, \"EndTime\": 1603912556.199114, \"Dimensions\": {\"model\": 31, \"Host\": \"algo-1\", \"Operation\": \"training\", \"Algorithm\": \"Linear Learner\", \"epoch\": 10}, \"StartTime\": 1603912556.1991}\n",
      "\u001b[0m\n",
      "\u001b[34m[10/28/2020 19:15:56 INFO 140353185830720] #quality_metric: host=algo-1, epoch=10, train absolute_loss_objective <loss>=0.319654535294\u001b[0m\n",
      "\u001b[34m[10/28/2020 19:15:56 INFO 140353185830720] #early_stopping_criteria_metric: host=algo-1, epoch=10, criteria=absolute_loss_objective, value=0.301653495789\u001b[0m\n",
      "\u001b[34m[10/28/2020 19:15:56 INFO 140353185830720] Saving model for epoch: 10\u001b[0m\n",
      "\u001b[34m[10/28/2020 19:15:56 INFO 140353185830720] Saved checkpoint to \"/tmp/tmpITLEMJ/mx-mod-0000.params\"\u001b[0m\n",
      "\u001b[34m[10/28/2020 19:15:56 INFO 140353185830720] Early stop condition met. Stopping training.\u001b[0m\n",
      "\u001b[34m[10/28/2020 19:15:56 INFO 140353185830720] #progress_metric: host=algo-1, completed 100 % epochs\u001b[0m\n",
      "\u001b[34m#metrics {\"Metrics\": {\"Max Batches Seen Between Resets\": {\"count\": 1, \"max\": 11, \"sum\": 11.0, \"min\": 11}, \"Number of Batches Since Last Reset\": {\"count\": 1, \"max\": 11, \"sum\": 11.0, \"min\": 11}, \"Number of Records Since Last Reset\": {\"count\": 1, \"max\": 1070, \"sum\": 1070.0, \"min\": 1070}, \"Total Batches Seen\": {\"count\": 1, \"max\": 133, \"sum\": 133.0, \"min\": 133}, \"Total Records Seen\": {\"count\": 1, \"max\": 12940, \"sum\": 12940.0, \"min\": 12940}, \"Max Records Seen Between Resets\": {\"count\": 1, \"max\": 1070, \"sum\": 1070.0, \"min\": 1070}, \"Reset Count\": {\"count\": 1, \"max\": 13, \"sum\": 13.0, \"min\": 13}}, \"EndTime\": 1603912556.208629, \"Dimensions\": {\"Host\": \"algo-1\", \"Meta\": \"training_data_iter\", \"Operation\": \"training\", \"Algorithm\": \"Linear Learner\", \"epoch\": 10}, \"StartTime\": 1603912555.943642}\n",
      "\u001b[0m\n",
      "\u001b[34m[10/28/2020 19:15:56 INFO 140353185830720] #throughput_metric: host=algo-1, train throughput=4035.95500283 records/second\u001b[0m\n",
      "\u001b[34m[10/28/2020 19:15:56 WARNING 140353185830720] wait_for_all_workers will not sync workers since the kv store is not running distributed\u001b[0m\n",
      "\u001b[34m[10/28/2020 19:15:56 WARNING 140353185830720] wait_for_all_workers will not sync workers since the kv store is not running distributed\u001b[0m\n",
      "\u001b[34m[2020-10-28 19:15:56.210] [tensorio] [info] epoch_stats={\"data_pipeline\": \"/opt/ml/input/data/train\", \"epoch\": 26, \"duration\": 0, \"num_examples\": 1, \"num_bytes\": 7600}\u001b[0m\n",
      "\u001b[34m[2020-10-28 19:15:56.231] [tensorio] [info] epoch_stats={\"data_pipeline\": \"/opt/ml/input/data/train\", \"epoch\": 28, \"duration\": 18, \"num_examples\": 11, \"num_bytes\": 81320}\u001b[0m\n",
      "\u001b[34m[10/28/2020 19:15:56 INFO 140353185830720] #train_score (algo-1) : ('absolute_loss_objective', 0.301066480618771)\u001b[0m\n",
      "\u001b[34m[10/28/2020 19:15:56 INFO 140353185830720] #train_score (algo-1) : ('mse', 0.32591029550427586)\u001b[0m\n",
      "\u001b[34m[10/28/2020 19:15:56 INFO 140353185830720] #train_score (algo-1) : ('absolute_loss', 0.301066480618771)\u001b[0m\n",
      "\u001b[34m[10/28/2020 19:15:56 INFO 140353185830720] #quality_metric: host=algo-1, train absolute_loss_objective <loss>=0.301066480619\u001b[0m\n",
      "\u001b[34m[10/28/2020 19:15:56 INFO 140353185830720] #quality_metric: host=algo-1, train mse <loss>=0.325910295504\u001b[0m\n",
      "\u001b[34m[10/28/2020 19:15:56 INFO 140353185830720] #quality_metric: host=algo-1, train absolute_loss <loss>=0.301066480619\u001b[0m\n",
      "\u001b[34m[10/28/2020 19:15:56 INFO 140353185830720] Best model found for hyperparameters: {\"lr_scheduler_step\": 10, \"wd\": 0.0001, \"optimizer\": \"adam\", \"lr_scheduler_factor\": 0.99, \"l1\": 0.0, \"learning_rate\": 0.1, \"lr_scheduler_minimum_lr\": 0.0001}\u001b[0m\n",
      "\u001b[34m[10/28/2020 19:15:56 INFO 140353185830720] Saved checkpoint to \"/tmp/tmpKtW_Vd/mx-mod-0000.params\"\u001b[0m\n",
      "\u001b[34m[10/28/2020 19:15:56 INFO 140353185830720] Test data is not provided.\u001b[0m\n",
      "\u001b[34m#metrics {\"Metrics\": {\"totaltime\": {\"count\": 1, \"max\": 3238.5599613189697, \"sum\": 3238.5599613189697, \"min\": 3238.5599613189697}, \"finalize.time\": {\"count\": 1, \"max\": 23.218154907226562, \"sum\": 23.218154907226562, \"min\": 23.218154907226562}, \"initialize.time\": {\"count\": 1, \"max\": 201.5969753265381, \"sum\": 201.5969753265381, \"min\": 201.5969753265381}, \"check_early_stopping.time\": {\"count\": 11, \"max\": 1.3489723205566406, \"sum\": 8.363962173461914, \"min\": 0.2200603485107422}, \"setuptime\": {\"count\": 1, \"max\": 23.072004318237305, \"sum\": 23.072004318237305, \"min\": 23.072004318237305}, \"update.time\": {\"count\": 11, \"max\": 287.6582145690918, \"sum\": 2749.779224395752, \"min\": 189.35108184814453}, \"epochs\": {\"count\": 1, \"max\": 100, \"sum\": 100.0, \"min\": 100}}, \"EndTime\": 1603912556.239344, \"Dimensions\": {\"Host\": \"algo-1\", \"Operation\": \"training\", \"Algorithm\": \"Linear Learner\"}, \"StartTime\": 1603912553.201878}\n",
      "\u001b[0m\n",
      "\n",
      "2020-10-28 19:16:07 Uploading - Uploading generated training model\n",
      "2020-10-28 19:16:07 Completed - Training job completed\n",
      "Training seconds: 66\n",
      "Billable seconds: 33\n",
      "Managed Spot Training savings: 50.0%\n"
     ]
    }
   ],
   "source": [
    "# We have pass in the container, the type of instance that we would like to use for training \n",
    "# output path and sagemaker session into the Estimator. \n",
    "# We can also specify how many instances we would like to use for training\n",
    "\n",
    "linear = sagemaker.estimator.Estimator(container,\n",
    "                                       role, \n",
    "                                       train_instance_count = 1, \n",
    "                                       train_instance_type = 'ml.c4.xlarge',\n",
    "                                       output_path = output_location,\n",
    "                                       sagemaker_session = sagemaker_session,\n",
    "                                       train_use_spot_instances = True,\n",
    "                                       train_max_run = 300,\n",
    "                                       train_max_wait = 600)\n",
    "\n",
    "\n",
    "# We can tune parameters like the number of features that we are passing in, type of predictor like 'regressor' or 'classifier', mini batch size, epochs\n",
    "# Train 32 different versions of the model and will get the best out of them (built-in parameters optimization!)\n",
    "\n",
    "linear.set_hyperparameters(feature_dim = 8,\n",
    "                           predictor_type = 'regressor',\n",
    "                           mini_batch_size = 100,\n",
    "                           epochs = 100,\n",
    "                           num_models = 32,\n",
    "                           loss = 'absolute_loss')\n",
    "\n",
    "# Now we are ready to pass in the training data from S3 to train the linear learner model\n",
    "\n",
    "linear.fit({'train': s3_train_data})\n",
    "\n",
    "# Let's see the progress using cloudwatch logs"
   ]
  },
  {
   "cell_type": "markdown",
   "metadata": {},
   "source": [
    "MINI CHALLENGE\n",
    " - retrain the linear learner model using more epochs, more number of models. \n",
    " - Experiment with a different loss function and report any improvement or degradation in results."
   ]
  },
  {
   "cell_type": "markdown",
   "metadata": {},
   "source": [
    "### https://sagemaker.readthedocs.io/en/stable/algorithms/linear_learner.html"
   ]
  },
  {
   "cell_type": "markdown",
   "metadata": {},
   "source": [
    "# TASK #8: DEPLOY AND TEST THE TRAINED LINEAR LEARNER MODEL "
   ]
  },
  {
   "cell_type": "code",
   "execution_count": 65,
   "metadata": {},
   "outputs": [
    {
     "name": "stderr",
     "output_type": "stream",
     "text": [
      "Parameter image will be renamed to image_uri in SageMaker Python SDK v2.\n"
     ]
    },
    {
     "name": "stdout",
     "output_type": "stream",
     "text": [
      "---------------!"
     ]
    }
   ],
   "source": [
    "# Deploying the model to perform inference \n",
    "\n",
    "linear_regressor = linear.deploy(initial_instance_count = 1,\n",
    "                                 content_type='text/csv',\n",
    "                                instance_type = 'ml.m4.xlarge')"
   ]
  },
  {
   "cell_type": "code",
   "execution_count": 66,
   "metadata": {},
   "outputs": [],
   "source": [
    "from sagemaker.predictor import csv_serializer, json_deserializer\n",
    "\n",
    "# Content type overrides the data that will be passed to the deployed model, since the deployed model expects data in text/csv format.\n",
    "\n",
    "# Serializer accepts a single argument, the input data, and returns a sequence of bytes in the specified content type\n",
    "\n",
    "# Deserializer accepts two arguments, the result data and the response content type, and return a sequence of bytes in the specified content type.\n",
    "\n",
    "# Reference: https://sagemaker.readthedocs.io/en/stable/predictors.html\n",
    "\n",
    "linear_regressor.serializer = csv_serializer\n",
    "linear_regressor.deserializer = json_deserializer"
   ]
  },
  {
   "cell_type": "code",
   "execution_count": 67,
   "metadata": {},
   "outputs": [],
   "source": [
    "# making prediction on the test data\n",
    "\n",
    "result = linear_regressor.predict(X_test)"
   ]
  },
  {
   "cell_type": "code",
   "execution_count": 68,
   "metadata": {},
   "outputs": [
    {
     "data": {
      "text/plain": [
       "{'predictions': [{'score': -0.6986030340194702},\n",
       "  {'score': -0.6904517412185669},\n",
       "  {'score': -1.0195772647857666},\n",
       "  {'score': -0.6101903319358826},\n",
       "  {'score': -0.1864451915025711},\n",
       "  {'score': -0.9079487323760986},\n",
       "  {'score': 2.6685502529144287},\n",
       "  {'score': -0.1567598283290863},\n",
       "  {'score': 2.4494926929473877},\n",
       "  {'score': -0.33956241607666016},\n",
       "  {'score': -0.38379597663879395},\n",
       "  {'score': -1.0284173488616943},\n",
       "  {'score': -0.14935185015201569},\n",
       "  {'score': -0.6553008556365967},\n",
       "  {'score': -0.7523415088653564},\n",
       "  {'score': -0.018392864614725113},\n",
       "  {'score': -0.739780068397522},\n",
       "  {'score': -0.1433085948228836},\n",
       "  {'score': 1.91036057472229},\n",
       "  {'score': -0.14975203573703766},\n",
       "  {'score': -0.9015800952911377},\n",
       "  {'score': -0.7134027481079102},\n",
       "  {'score': 2.1832613945007324},\n",
       "  {'score': -0.7063035368919373},\n",
       "  {'score': -0.9012665748596191},\n",
       "  {'score': -0.6975018382072449},\n",
       "  {'score': -0.6058253645896912},\n",
       "  {'score': 1.7318717241287231},\n",
       "  {'score': 2.3352315425872803},\n",
       "  {'score': -0.5672181844711304},\n",
       "  {'score': 1.868998408317566},\n",
       "  {'score': -0.4036898612976074},\n",
       "  {'score': -0.3186221122741699},\n",
       "  {'score': -0.46941572427749634},\n",
       "  {'score': -0.6580635905265808},\n",
       "  {'score': 2.150143623352051},\n",
       "  {'score': -1.0708950757980347},\n",
       "  {'score': -0.4994238018989563},\n",
       "  {'score': -0.21191582083702087},\n",
       "  {'score': -0.7371171116828918},\n",
       "  {'score': -0.1132824569940567},\n",
       "  {'score': -0.05007810890674591},\n",
       "  {'score': -0.2169061005115509},\n",
       "  {'score': 2.4968209266662598},\n",
       "  {'score': 2.268514633178711},\n",
       "  {'score': -0.3813406825065613},\n",
       "  {'score': -0.391537606716156},\n",
       "  {'score': -0.26153868436813354},\n",
       "  {'score': -1.0260988473892212},\n",
       "  {'score': -0.2601778507232666},\n",
       "  {'score': -0.30475592613220215},\n",
       "  {'score': 0.02489437162876129},\n",
       "  {'score': 1.9148774147033691},\n",
       "  {'score': -0.5126438140869141},\n",
       "  {'score': -0.44922834634780884},\n",
       "  {'score': -0.7235681414604187},\n",
       "  {'score': -0.1499055027961731},\n",
       "  {'score': -0.7747499346733093},\n",
       "  {'score': -0.32919740676879883},\n",
       "  {'score': -0.5860820412635803},\n",
       "  {'score': -0.8893287181854248},\n",
       "  {'score': -0.9058745503425598},\n",
       "  {'score': 0.01653905212879181},\n",
       "  {'score': -0.777565062046051},\n",
       "  {'score': -0.42675602436065674},\n",
       "  {'score': -0.3866410255432129},\n",
       "  {'score': -0.7574188709259033},\n",
       "  {'score': -0.2403736561536789},\n",
       "  {'score': -0.5394217371940613},\n",
       "  {'score': 2.2254576683044434},\n",
       "  {'score': -0.0860949233174324},\n",
       "  {'score': -0.23783887922763824},\n",
       "  {'score': 0.07387241721153259},\n",
       "  {'score': -0.18009084463119507},\n",
       "  {'score': -0.16484998166561127},\n",
       "  {'score': 0.2172478288412094},\n",
       "  {'score': -0.15840087831020355},\n",
       "  {'score': -0.27929502725601196},\n",
       "  {'score': -0.4373663663864136},\n",
       "  {'score': -0.9152082204818726},\n",
       "  {'score': -0.6863697171211243},\n",
       "  {'score': 1.633280634880066},\n",
       "  {'score': -0.08836361020803452},\n",
       "  {'score': -0.17251835763454437},\n",
       "  {'score': -0.9518955945968628},\n",
       "  {'score': -0.37891125679016113},\n",
       "  {'score': -0.6318833827972412},\n",
       "  {'score': -0.9586564302444458},\n",
       "  {'score': 2.131758451461792},\n",
       "  {'score': -0.35774630308151245},\n",
       "  {'score': -0.6103900074958801},\n",
       "  {'score': -0.47789907455444336},\n",
       "  {'score': -0.41610968112945557},\n",
       "  {'score': 2.601274013519287},\n",
       "  {'score': 0.07171209901571274},\n",
       "  {'score': -0.2319217175245285},\n",
       "  {'score': 1.9924510717391968},\n",
       "  {'score': -0.6036900877952576},\n",
       "  {'score': -0.27677541971206665},\n",
       "  {'score': -0.9412800669670105},\n",
       "  {'score': -0.6420468688011169},\n",
       "  {'score': -0.6024575233459473},\n",
       "  {'score': -0.8472622632980347},\n",
       "  {'score': 1.637620449066162},\n",
       "  {'score': -0.11138790845870972},\n",
       "  {'score': -0.8089037537574768},\n",
       "  {'score': -0.16724611818790436},\n",
       "  {'score': -0.5737134218215942},\n",
       "  {'score': -0.6103002429008484},\n",
       "  {'score': -0.9377211332321167},\n",
       "  {'score': -0.6079469323158264},\n",
       "  {'score': -0.774446427822113},\n",
       "  {'score': -0.47441762685775757},\n",
       "  {'score': -0.10526105761528015},\n",
       "  {'score': -0.8482410907745361},\n",
       "  {'score': -0.7288681864738464},\n",
       "  {'score': -0.5489532947540283},\n",
       "  {'score': -0.2189522683620453},\n",
       "  {'score': -1.0912995338439941},\n",
       "  {'score': 1.8242207765579224},\n",
       "  {'score': 2.2947161197662354},\n",
       "  {'score': -0.945518970489502},\n",
       "  {'score': 0.005967713892459869},\n",
       "  {'score': -0.3073158264160156},\n",
       "  {'score': -0.6278359293937683},\n",
       "  {'score': -0.9276074767112732},\n",
       "  {'score': -1.0467134714126587},\n",
       "  {'score': -0.14866307377815247},\n",
       "  {'score': -0.477047324180603},\n",
       "  {'score': -0.09558763355016708},\n",
       "  {'score': -0.4071757197380066},\n",
       "  {'score': -0.23412521183490753},\n",
       "  {'score': 2.340374708175659},\n",
       "  {'score': -1.0719653367996216},\n",
       "  {'score': -0.7171704173088074},\n",
       "  {'score': -0.05970211327075958},\n",
       "  {'score': -0.5604202151298523},\n",
       "  {'score': -0.5719479322433472},\n",
       "  {'score': 1.8220752477645874},\n",
       "  {'score': -0.9676377177238464},\n",
       "  {'score': -0.6618075966835022},\n",
       "  {'score': -0.13294987380504608},\n",
       "  {'score': -0.21875214576721191},\n",
       "  {'score': -0.36761564016342163},\n",
       "  {'score': -1.003561019897461},\n",
       "  {'score': -0.9944118857383728},\n",
       "  {'score': -0.0797305554151535},\n",
       "  {'score': -0.530560314655304},\n",
       "  {'score': -0.6765874624252319},\n",
       "  {'score': -0.9331048130989075},\n",
       "  {'score': -0.8562045097351074},\n",
       "  {'score': 2.088939666748047},\n",
       "  {'score': -0.38397276401519775},\n",
       "  {'score': -0.029541034251451492},\n",
       "  {'score': -0.3080596327781677},\n",
       "  {'score': 2.3723182678222656},\n",
       "  {'score': -0.9541180729866028},\n",
       "  {'score': 2.1838178634643555},\n",
       "  {'score': -0.3041037917137146},\n",
       "  {'score': -0.9797319769859314},\n",
       "  {'score': -0.2956175208091736},\n",
       "  {'score': -0.6591025590896606},\n",
       "  {'score': 1.7897310256958008},\n",
       "  {'score': -0.23245812952518463},\n",
       "  {'score': -1.0087010860443115},\n",
       "  {'score': -0.3274473547935486},\n",
       "  {'score': 2.042013645172119},\n",
       "  {'score': -0.8363105058670044},\n",
       "  {'score': 2.0123281478881836},\n",
       "  {'score': -0.5769726037979126},\n",
       "  {'score': 0.04039297252893448},\n",
       "  {'score': -0.6257728934288025},\n",
       "  {'score': -0.8938478231430054},\n",
       "  {'score': -0.8428077101707458},\n",
       "  {'score': -0.33981263637542725},\n",
       "  {'score': -0.9149708151817322},\n",
       "  {'score': 0.140952467918396},\n",
       "  {'score': -0.1889842003583908},\n",
       "  {'score': -0.4353014826774597},\n",
       "  {'score': -0.2793732285499573},\n",
       "  {'score': -0.018359020352363586},\n",
       "  {'score': 2.081475257873535},\n",
       "  {'score': -0.7040572166442871},\n",
       "  {'score': 2.1627211570739746},\n",
       "  {'score': -0.042723171412944794},\n",
       "  {'score': 2.195538282394409},\n",
       "  {'score': -0.36073368787765503},\n",
       "  {'score': -0.9271314740180969},\n",
       "  {'score': 2.26941180229187},\n",
       "  {'score': -1.0820797681808472},\n",
       "  {'score': -0.4282972812652588},\n",
       "  {'score': 2.123856782913208},\n",
       "  {'score': 1.9676384925842285},\n",
       "  {'score': 2.360790491104126},\n",
       "  {'score': -0.3437575101852417},\n",
       "  {'score': 1.8346410989761353},\n",
       "  {'score': -0.47445350885391235},\n",
       "  {'score': -0.7145103216171265},\n",
       "  {'score': -0.6599711775779724},\n",
       "  {'score': 1.7160495519638062},\n",
       "  {'score': -0.8904610276222229},\n",
       "  {'score': -0.06081399321556091},\n",
       "  {'score': -0.1991777867078781},\n",
       "  {'score': -0.9850863814353943},\n",
       "  {'score': -0.7507964968681335},\n",
       "  {'score': -0.15681791305541992},\n",
       "  {'score': 2.299187183380127},\n",
       "  {'score': 2.221951484680176},\n",
       "  {'score': -0.188442662358284},\n",
       "  {'score': -0.9769821763038635},\n",
       "  {'score': -0.8332188129425049},\n",
       "  {'score': -0.531283438205719},\n",
       "  {'score': 2.4598898887634277},\n",
       "  {'score': -0.2138550579547882},\n",
       "  {'score': -0.06862773001194},\n",
       "  {'score': -0.10522778332233429},\n",
       "  {'score': -0.969553530216217},\n",
       "  {'score': -0.10475842654705048},\n",
       "  {'score': -0.16237328946590424},\n",
       "  {'score': -0.1962803155183792},\n",
       "  {'score': -0.5208718776702881},\n",
       "  {'score': 1.451178789138794},\n",
       "  {'score': -1.0076515674591064},\n",
       "  {'score': -0.6910476684570312},\n",
       "  {'score': -0.7847579121589661},\n",
       "  {'score': 0.052660226821899414},\n",
       "  {'score': 1.9315544366836548},\n",
       "  {'score': -0.5293739438056946},\n",
       "  {'score': -0.2180223912000656},\n",
       "  {'score': -0.28085774183273315},\n",
       "  {'score': -0.8918821215629578},\n",
       "  {'score': -0.13843491673469543},\n",
       "  {'score': -0.0342048741877079},\n",
       "  {'score': 1.6794556379318237},\n",
       "  {'score': 0.015430252999067307},\n",
       "  {'score': -0.7802535891532898},\n",
       "  {'score': -0.16065004467964172},\n",
       "  {'score': 0.16328318417072296},\n",
       "  {'score': -0.6206081509590149},\n",
       "  {'score': -0.9773830771446228},\n",
       "  {'score': -0.8432416915893555},\n",
       "  {'score': -0.059939756989479065},\n",
       "  {'score': -0.30839818716049194},\n",
       "  {'score': -0.23233069479465485},\n",
       "  {'score': -0.9175764918327332},\n",
       "  {'score': -0.4574189782142639},\n",
       "  {'score': -0.4272816777229309},\n",
       "  {'score': -0.913894534111023},\n",
       "  {'score': 0.21137604117393494},\n",
       "  {'score': -0.06566914916038513},\n",
       "  {'score': -0.5528823733329773},\n",
       "  {'score': -0.982455313205719},\n",
       "  {'score': -0.6653814911842346},\n",
       "  {'score': -0.5165479183197021},\n",
       "  {'score': -0.3573184013366699},\n",
       "  {'score': -0.5034796595573425},\n",
       "  {'score': 2.5309908390045166},\n",
       "  {'score': -0.3070743680000305},\n",
       "  {'score': -0.15633194148540497},\n",
       "  {'score': -0.4750468134880066},\n",
       "  {'score': -0.9763672351837158},\n",
       "  {'score': -0.32532888650894165},\n",
       "  {'score': -0.8085798621177673},\n",
       "  {'score': -0.24574871361255646},\n",
       "  {'score': 1.687186598777771},\n",
       "  {'score': -0.33191120624542236},\n",
       "  {'score': -0.5272312760353088},\n",
       "  {'score': -0.6393029689788818}]}"
      ]
     },
     "execution_count": 68,
     "metadata": {},
     "output_type": "execute_result"
    }
   ],
   "source": [
    "result # results are in Json format"
   ]
  },
  {
   "cell_type": "code",
   "execution_count": 69,
   "metadata": {},
   "outputs": [],
   "source": [
    "# Since the result is in json format, we access the scores by iterating through the scores in the predictions\n",
    "\n",
    "predictions = np.array([r['score'] for r in result['predictions']])"
   ]
  },
  {
   "cell_type": "code",
   "execution_count": 70,
   "metadata": {},
   "outputs": [
    {
     "data": {
      "text/plain": [
       "array([-0.69860303, -0.69045174, -1.01957726, -0.61019033, -0.18644519,\n",
       "       -0.90794873,  2.66855025, -0.15675983,  2.44949269, -0.33956242,\n",
       "       -0.38379598, -1.02841735, -0.14935185, -0.65530086, -0.75234151,\n",
       "       -0.01839286, -0.73978007, -0.14330859,  1.91036057, -0.14975204,\n",
       "       -0.9015801 , -0.71340275,  2.18326139, -0.70630354, -0.90126657,\n",
       "       -0.69750184, -0.60582536,  1.73187172,  2.33523154, -0.56721818,\n",
       "        1.86899841, -0.40368986, -0.31862211, -0.46941572, -0.65806359,\n",
       "        2.15014362, -1.07089508, -0.4994238 , -0.21191582, -0.73711711,\n",
       "       -0.11328246, -0.05007811, -0.2169061 ,  2.49682093,  2.26851463,\n",
       "       -0.38134068, -0.39153761, -0.26153868, -1.02609885, -0.26017785,\n",
       "       -0.30475593,  0.02489437,  1.91487741, -0.51264381, -0.44922835,\n",
       "       -0.72356814, -0.1499055 , -0.77474993, -0.32919741, -0.58608204,\n",
       "       -0.88932872, -0.90587455,  0.01653905, -0.77756506, -0.42675602,\n",
       "       -0.38664103, -0.75741887, -0.24037366, -0.53942174,  2.22545767,\n",
       "       -0.08609492, -0.23783888,  0.07387242, -0.18009084, -0.16484998,\n",
       "        0.21724783, -0.15840088, -0.27929503, -0.43736637, -0.91520822,\n",
       "       -0.68636972,  1.63328063, -0.08836361, -0.17251836, -0.95189559,\n",
       "       -0.37891126, -0.63188338, -0.95865643,  2.13175845, -0.3577463 ,\n",
       "       -0.61039001, -0.47789907, -0.41610968,  2.60127401,  0.0717121 ,\n",
       "       -0.23192172,  1.99245107, -0.60369009, -0.27677542, -0.94128007,\n",
       "       -0.64204687, -0.60245752, -0.84726226,  1.63762045, -0.11138791,\n",
       "       -0.80890375, -0.16724612, -0.57371342, -0.61030024, -0.93772113,\n",
       "       -0.60794693, -0.77444643, -0.47441763, -0.10526106, -0.84824109,\n",
       "       -0.72886819, -0.54895329, -0.21895227, -1.09129953,  1.82422078,\n",
       "        2.29471612, -0.94551897,  0.00596771, -0.30731583, -0.62783593,\n",
       "       -0.92760748, -1.04671347, -0.14866307, -0.47704732, -0.09558763,\n",
       "       -0.40717572, -0.23412521,  2.34037471, -1.07196534, -0.71717042,\n",
       "       -0.05970211, -0.56042022, -0.57194793,  1.82207525, -0.96763772,\n",
       "       -0.6618076 , -0.13294987, -0.21875215, -0.36761564, -1.00356102,\n",
       "       -0.99441189, -0.07973056, -0.53056031, -0.67658746, -0.93310481,\n",
       "       -0.85620451,  2.08893967, -0.38397276, -0.02954103, -0.30805963,\n",
       "        2.37231827, -0.95411807,  2.18381786, -0.30410379, -0.97973198,\n",
       "       -0.29561752, -0.65910256,  1.78973103, -0.23245813, -1.00870109,\n",
       "       -0.32744735,  2.04201365, -0.83631051,  2.01232815, -0.5769726 ,\n",
       "        0.04039297, -0.62577289, -0.89384782, -0.84280771, -0.33981264,\n",
       "       -0.91497082,  0.14095247, -0.1889842 , -0.43530148, -0.27937323,\n",
       "       -0.01835902,  2.08147526, -0.70405722,  2.16272116, -0.04272317,\n",
       "        2.19553828, -0.36073369, -0.92713147,  2.2694118 , -1.08207977,\n",
       "       -0.42829728,  2.12385678,  1.96763849,  2.36079049, -0.34375751,\n",
       "        1.8346411 , -0.47445351, -0.71451032, -0.65997118,  1.71604955,\n",
       "       -0.89046103, -0.06081399, -0.19917779, -0.98508638, -0.7507965 ,\n",
       "       -0.15681791,  2.29918718,  2.22195148, -0.18844266, -0.97698218,\n",
       "       -0.83321881, -0.53128344,  2.45988989, -0.21385506, -0.06862773,\n",
       "       -0.10522778, -0.96955353, -0.10475843, -0.16237329, -0.19628032,\n",
       "       -0.52087188,  1.45117879, -1.00765157, -0.69104767, -0.78475791,\n",
       "        0.05266023,  1.93155444, -0.52937394, -0.21802239, -0.28085774,\n",
       "       -0.89188212, -0.13843492, -0.03420487,  1.67945564,  0.01543025,\n",
       "       -0.78025359, -0.16065004,  0.16328318, -0.62060815, -0.97738308,\n",
       "       -0.84324169, -0.05993976, -0.30839819, -0.23233069, -0.91757649,\n",
       "       -0.45741898, -0.42728168, -0.91389453,  0.21137604, -0.06566915,\n",
       "       -0.55288237, -0.98245531, -0.66538149, -0.51654792, -0.3573184 ,\n",
       "       -0.50347966,  2.53099084, -0.30707437, -0.15633194, -0.47504681,\n",
       "       -0.97636724, -0.32532889, -0.80857986, -0.24574871,  1.6871866 ,\n",
       "       -0.33191121, -0.52723128, -0.63930297])"
      ]
     },
     "execution_count": 70,
     "metadata": {},
     "output_type": "execute_result"
    }
   ],
   "source": [
    "predictions"
   ]
  },
  {
   "cell_type": "code",
   "execution_count": 71,
   "metadata": {
    "scrolled": true
   },
   "outputs": [
    {
     "data": {
      "text/plain": [
       "(268,)"
      ]
     },
     "execution_count": 71,
     "metadata": {},
     "output_type": "execute_result"
    }
   ],
   "source": [
    "predictions.shape"
   ]
  },
  {
   "cell_type": "code",
   "execution_count": 72,
   "metadata": {},
   "outputs": [],
   "source": [
    "y_predict_orig = scaler_y.inverse_transform(predictions)\n",
    "y_test_orig = scaler_y.inverse_transform(y_test)"
   ]
  },
  {
   "cell_type": "code",
   "execution_count": 73,
   "metadata": {},
   "outputs": [
    {
     "name": "stdout",
     "output_type": "stream",
     "text": [
      "RMSE = 6379.581 \n",
      "MSE = 40699049.79474263 \n",
      "MAE = 3017.3173698309497 \n",
      "R2 = 0.7192265925139933 \n",
      "Adjusted R2 = 0.7105540548310278\n"
     ]
    }
   ],
   "source": [
    "from sklearn.metrics import r2_score, mean_squared_error, mean_absolute_error\n",
    "from math import sqrt\n",
    "\n",
    "RMSE = float(format(np.sqrt(mean_squared_error(y_test_orig, y_predict_orig)),'.3f'))\n",
    "MSE = mean_squared_error(y_test_orig, y_predict_orig)\n",
    "MAE = mean_absolute_error(y_test_orig, y_predict_orig)\n",
    "r2 = r2_score(y_test_orig, y_predict_orig)\n",
    "adj_r2 = 1-(1-r2)*(n-1)/(n-k-1)\n",
    "\n",
    "print('RMSE =',RMSE, '\\nMSE =',MSE, '\\nMAE =',MAE, '\\nR2 =', r2, '\\nAdjusted R2 =', adj_r2) "
   ]
  },
  {
   "cell_type": "code",
   "execution_count": 74,
   "metadata": {},
   "outputs": [],
   "source": [
    "# Delete the end-point\n",
    "\n",
    "linear_regressor.delete_endpoint()"
   ]
  },
  {
   "cell_type": "markdown",
   "metadata": {},
   "source": [
    "# TASK #9: LET'S TRY A MORE COMPLEX ARTIFICIAL NEURAL NETWORK-BASED REGRESSION MODEL"
   ]
  },
  {
   "cell_type": "code",
   "execution_count": 75,
   "metadata": {},
   "outputs": [
    {
     "name": "stdout",
     "output_type": "stream",
     "text": [
      "Collecting tensorflow\n",
      "  Downloading tensorflow-2.3.1-cp37-cp37m-manylinux2010_x86_64.whl (320.4 MB)\n",
      "\u001b[K     |████████████████████████████████| 320.4 MB 5.6 kB/s  eta 0:00:01        | 231.1 MB 67.1 MB/s eta 0:00:02     |████████████████████████████▌   | 285.7 MB 82.2 MB/s eta 0:00:01\n",
      "\u001b[?25hCollecting termcolor>=1.1.0\n",
      "  Downloading termcolor-1.1.0.tar.gz (3.9 kB)\n",
      "Requirement already satisfied: six>=1.12.0 in /opt/conda/lib/python3.7/site-packages (from tensorflow) (1.14.0)\n",
      "Collecting tensorboard<3,>=2.3.0\n",
      "  Downloading tensorboard-2.3.0-py3-none-any.whl (6.8 MB)\n",
      "\u001b[K     |████████████████████████████████| 6.8 MB 45.3 MB/s eta 0:00:01\n",
      "\u001b[?25hCollecting opt-einsum>=2.3.2\n",
      "  Downloading opt_einsum-3.3.0-py3-none-any.whl (65 kB)\n",
      "\u001b[K     |████████████████████████████████| 65 kB 215 kB/s  eta 0:00:01\n",
      "\u001b[?25hCollecting absl-py>=0.7.0\n",
      "  Downloading absl_py-0.11.0-py3-none-any.whl (127 kB)\n",
      "\u001b[K     |████████████████████████████████| 127 kB 70.6 MB/s eta 0:00:01\n",
      "\u001b[?25hRequirement already satisfied: wrapt>=1.11.1 in /opt/conda/lib/python3.7/site-packages (from tensorflow) (1.11.2)\n",
      "Collecting grpcio>=1.8.6\n",
      "  Downloading grpcio-1.33.2-cp37-cp37m-manylinux2014_x86_64.whl (3.8 MB)\n",
      "\u001b[K     |████████████████████████████████| 3.8 MB 39.3 MB/s eta 0:00:01\n",
      "\u001b[?25hCollecting astunparse==1.6.3\n",
      "  Downloading astunparse-1.6.3-py2.py3-none-any.whl (12 kB)\n",
      "Requirement already satisfied: h5py<2.11.0,>=2.10.0 in /opt/conda/lib/python3.7/site-packages (from tensorflow) (2.10.0)\n",
      "Requirement already satisfied: protobuf>=3.9.2 in /opt/conda/lib/python3.7/site-packages (from tensorflow) (3.13.0)\n",
      "Collecting tensorflow-estimator<2.4.0,>=2.3.0\n",
      "  Downloading tensorflow_estimator-2.3.0-py2.py3-none-any.whl (459 kB)\n",
      "\u001b[K     |████████████████████████████████| 459 kB 50.0 MB/s eta 0:00:01\n",
      "\u001b[?25hRequirement already satisfied: numpy<1.19.0,>=1.16.0 in /opt/conda/lib/python3.7/site-packages (from tensorflow) (1.18.1)\n",
      "Requirement already satisfied: google-pasta>=0.1.8 in /opt/conda/lib/python3.7/site-packages (from tensorflow) (0.2.0)\n",
      "Collecting keras-preprocessing<1.2,>=1.1.1\n",
      "  Downloading Keras_Preprocessing-1.1.2-py2.py3-none-any.whl (42 kB)\n",
      "\u001b[K     |████████████████████████████████| 42 kB 110 kB/s  eta 0:00:01\n",
      "\u001b[?25hCollecting gast==0.3.3\n",
      "  Downloading gast-0.3.3-py2.py3-none-any.whl (9.7 kB)\n",
      "Requirement already satisfied: wheel>=0.26 in /opt/conda/lib/python3.7/site-packages (from tensorflow) (0.34.2)\n",
      "Collecting google-auth-oauthlib<0.5,>=0.4.1\n",
      "  Downloading google_auth_oauthlib-0.4.2-py2.py3-none-any.whl (18 kB)\n",
      "Requirement already satisfied: requests<3,>=2.21.0 in /opt/conda/lib/python3.7/site-packages (from tensorboard<3,>=2.3.0->tensorflow) (2.22.0)\n",
      "Collecting tensorboard-plugin-wit>=1.6.0\n",
      "  Downloading tensorboard_plugin_wit-1.7.0-py3-none-any.whl (779 kB)\n",
      "\u001b[K     |████████████████████████████████| 779 kB 57.5 MB/s eta 0:00:01\n",
      "\u001b[?25hRequirement already satisfied: werkzeug>=0.11.15 in /opt/conda/lib/python3.7/site-packages (from tensorboard<3,>=2.3.0->tensorflow) (1.0.0)\n",
      "Requirement already satisfied: setuptools>=41.0.0 in /opt/conda/lib/python3.7/site-packages (from tensorboard<3,>=2.3.0->tensorflow) (45.2.0.post20200210)\n",
      "Collecting markdown>=2.6.8\n",
      "  Downloading Markdown-3.3.3-py3-none-any.whl (96 kB)\n",
      "\u001b[K     |████████████████████████████████| 96 kB 605 kB/s  eta 0:00:01\n",
      "\u001b[?25hCollecting google-auth<2,>=1.6.3\n",
      "  Downloading google_auth-1.22.1-py2.py3-none-any.whl (114 kB)\n",
      "\u001b[K     |████████████████████████████████| 114 kB 68.4 MB/s eta 0:00:01\n",
      "\u001b[?25hCollecting requests-oauthlib>=0.7.0\n",
      "  Downloading requests_oauthlib-1.3.0-py2.py3-none-any.whl (23 kB)\n",
      "Requirement already satisfied: idna<2.9,>=2.5 in /opt/conda/lib/python3.7/site-packages (from requests<3,>=2.21.0->tensorboard<3,>=2.3.0->tensorflow) (2.8)\n",
      "Requirement already satisfied: certifi>=2017.4.17 in /opt/conda/lib/python3.7/site-packages (from requests<3,>=2.21.0->tensorboard<3,>=2.3.0->tensorflow) (2019.11.28)\n",
      "Requirement already satisfied: chardet<3.1.0,>=3.0.2 in /opt/conda/lib/python3.7/site-packages (from requests<3,>=2.21.0->tensorboard<3,>=2.3.0->tensorflow) (3.0.4)\n",
      "Requirement already satisfied: urllib3!=1.25.0,!=1.25.1,<1.26,>=1.21.1 in /opt/conda/lib/python3.7/site-packages (from requests<3,>=2.21.0->tensorboard<3,>=2.3.0->tensorflow) (1.25.8)\n",
      "Requirement already satisfied: importlib-metadata; python_version < \"3.8\" in /opt/conda/lib/python3.7/site-packages (from markdown>=2.6.8->tensorboard<3,>=2.3.0->tensorflow) (1.5.0)\n",
      "Collecting pyasn1-modules>=0.2.1\n",
      "  Downloading pyasn1_modules-0.2.8-py2.py3-none-any.whl (155 kB)\n",
      "\u001b[K     |████████████████████████████████| 155 kB 68.0 MB/s eta 0:00:01\n",
      "\u001b[?25hCollecting cachetools<5.0,>=2.0.0\n",
      "  Downloading cachetools-4.1.1-py3-none-any.whl (10 kB)\n",
      "Requirement already satisfied: rsa<5,>=3.1.4; python_version >= \"3.5\" in /opt/conda/lib/python3.7/site-packages (from google-auth<2,>=1.6.3->tensorboard<3,>=2.3.0->tensorflow) (4.5)\n",
      "Collecting oauthlib>=3.0.0\n",
      "  Downloading oauthlib-3.1.0-py2.py3-none-any.whl (147 kB)\n",
      "\u001b[K     |████████████████████████████████| 147 kB 67.9 MB/s eta 0:00:01\n",
      "\u001b[?25hRequirement already satisfied: zipp>=0.5 in /opt/conda/lib/python3.7/site-packages (from importlib-metadata; python_version < \"3.8\"->markdown>=2.6.8->tensorboard<3,>=2.3.0->tensorflow) (2.2.0)\n",
      "Requirement already satisfied: pyasn1<0.5.0,>=0.4.6 in /opt/conda/lib/python3.7/site-packages (from pyasn1-modules>=0.2.1->google-auth<2,>=1.6.3->tensorboard<3,>=2.3.0->tensorflow) (0.4.8)\n",
      "Building wheels for collected packages: termcolor\n",
      "  Building wheel for termcolor (setup.py) ... \u001b[?25ldone\n",
      "\u001b[?25h  Created wheel for termcolor: filename=termcolor-1.1.0-py3-none-any.whl size=4830 sha256=257e30b3e48f1567c9296f5b004565fd1acc6b4800d8b449a0ee35da8974446f\n",
      "  Stored in directory: /root/.cache/pip/wheels/3f/e3/ec/8a8336ff196023622fbcb36de0c5a5c218cbb24111d1d4c7f2\n",
      "Successfully built termcolor\n",
      "Installing collected packages: termcolor, pyasn1-modules, cachetools, google-auth, oauthlib, requests-oauthlib, google-auth-oauthlib, absl-py, grpcio, tensorboard-plugin-wit, markdown, tensorboard, opt-einsum, astunparse, tensorflow-estimator, keras-preprocessing, gast, tensorflow\n",
      "Successfully installed absl-py-0.11.0 astunparse-1.6.3 cachetools-4.1.1 gast-0.3.3 google-auth-1.22.1 google-auth-oauthlib-0.4.2 grpcio-1.33.2 keras-preprocessing-1.1.2 markdown-3.3.3 oauthlib-3.1.0 opt-einsum-3.3.0 pyasn1-modules-0.2.8 requests-oauthlib-1.3.0 tensorboard-2.3.0 tensorboard-plugin-wit-1.7.0 tensorflow-2.3.1 tensorflow-estimator-2.3.0 termcolor-1.1.0\n"
     ]
    }
   ],
   "source": [
    "!pip install tensorflow"
   ]
  },
  {
   "cell_type": "code",
   "execution_count": 76,
   "metadata": {},
   "outputs": [],
   "source": [
    "import tensorflow as tf\n",
    "from tensorflow import keras\n",
    "from tensorflow.keras.layers import Dense, Activation, Dropout, BatchNormalization\n",
    "from tensorflow.keras.optimizers import Adam\n"
   ]
  },
  {
   "cell_type": "code",
   "execution_count": 77,
   "metadata": {},
   "outputs": [
    {
     "name": "stdout",
     "output_type": "stream",
     "text": [
      "Model: \"sequential\"\n",
      "_________________________________________________________________\n",
      "Layer (type)                 Output Shape              Param #   \n",
      "=================================================================\n",
      "dense (Dense)                (None, 50)                450       \n",
      "_________________________________________________________________\n",
      "activation (Activation)      (None, 50)                0         \n",
      "_________________________________________________________________\n",
      "dense_1 (Dense)              (None, 150)               7650      \n",
      "_________________________________________________________________\n",
      "activation_1 (Activation)    (None, 150)               0         \n",
      "_________________________________________________________________\n",
      "dropout (Dropout)            (None, 150)               0         \n",
      "_________________________________________________________________\n",
      "dense_2 (Dense)              (None, 150)               22650     \n",
      "_________________________________________________________________\n",
      "activation_2 (Activation)    (None, 150)               0         \n",
      "_________________________________________________________________\n",
      "dropout_1 (Dropout)          (None, 150)               0         \n",
      "_________________________________________________________________\n",
      "dense_3 (Dense)              (None, 50)                7550      \n",
      "_________________________________________________________________\n",
      "activation_3 (Activation)    (None, 50)                0         \n",
      "_________________________________________________________________\n",
      "dense_4 (Dense)              (None, 1)                 51        \n",
      "=================================================================\n",
      "Total params: 38,351\n",
      "Trainable params: 38,351\n",
      "Non-trainable params: 0\n",
      "_________________________________________________________________\n"
     ]
    }
   ],
   "source": [
    "# optimizer = Adam()\n",
    "ANN_model = keras.Sequential()\n",
    "ANN_model.add(Dense(50, input_dim = 8))\n",
    "ANN_model.add(Activation('relu'))\n",
    "ANN_model.add(Dense(150))\n",
    "ANN_model.add(Activation('relu'))\n",
    "ANN_model.add(Dropout(0.5))\n",
    "ANN_model.add(Dense(150))\n",
    "ANN_model.add(Activation('relu'))\n",
    "ANN_model.add(Dropout(0.5))\n",
    "ANN_model.add(Dense(50))\n",
    "ANN_model.add(Activation('linear'))\n",
    "ANN_model.add(Dense(1))\n",
    "ANN_model.compile(loss = 'mse', optimizer = 'adam')\n",
    "ANN_model.summary()"
   ]
  },
  {
   "cell_type": "code",
   "execution_count": 78,
   "metadata": {},
   "outputs": [
    {
     "name": "stdout",
     "output_type": "stream",
     "text": [
      "Epoch 1/100\n",
      "43/43 [==============================] - 0s 4ms/step - loss: 0.6251 - val_loss: 0.2831\n",
      "Epoch 2/100\n",
      "43/43 [==============================] - 0s 2ms/step - loss: 0.3560 - val_loss: 0.2371\n",
      "Epoch 3/100\n",
      "43/43 [==============================] - 0s 2ms/step - loss: 0.2820 - val_loss: 0.2332\n",
      "Epoch 4/100\n",
      "43/43 [==============================] - 0s 2ms/step - loss: 0.2464 - val_loss: 0.2123\n",
      "Epoch 5/100\n",
      "43/43 [==============================] - 0s 2ms/step - loss: 0.2333 - val_loss: 0.2504\n",
      "Epoch 6/100\n",
      "43/43 [==============================] - 0s 2ms/step - loss: 0.2305 - val_loss: 0.2275\n",
      "Epoch 7/100\n",
      "43/43 [==============================] - 0s 2ms/step - loss: 0.2341 - val_loss: 0.2367\n",
      "Epoch 8/100\n",
      "43/43 [==============================] - 0s 2ms/step - loss: 0.2139 - val_loss: 0.2394\n",
      "Epoch 9/100\n",
      "43/43 [==============================] - 0s 2ms/step - loss: 0.2033 - val_loss: 0.2550\n",
      "Epoch 10/100\n",
      "43/43 [==============================] - 0s 2ms/step - loss: 0.2102 - val_loss: 0.2186\n",
      "Epoch 11/100\n",
      "43/43 [==============================] - 0s 2ms/step - loss: 0.1954 - val_loss: 0.2063\n",
      "Epoch 12/100\n",
      "43/43 [==============================] - 0s 2ms/step - loss: 0.1973 - val_loss: 0.1970\n",
      "Epoch 13/100\n",
      "43/43 [==============================] - 0s 2ms/step - loss: 0.1924 - val_loss: 0.2331\n",
      "Epoch 14/100\n",
      "43/43 [==============================] - 0s 2ms/step - loss: 0.1880 - val_loss: 0.2190\n",
      "Epoch 15/100\n",
      "43/43 [==============================] - 0s 2ms/step - loss: 0.1893 - val_loss: 0.2353\n",
      "Epoch 16/100\n",
      "43/43 [==============================] - 0s 2ms/step - loss: 0.1784 - val_loss: 0.1986\n",
      "Epoch 17/100\n",
      "43/43 [==============================] - 0s 2ms/step - loss: 0.1892 - val_loss: 0.2376\n",
      "Epoch 18/100\n",
      "43/43 [==============================] - 0s 2ms/step - loss: 0.1843 - val_loss: 0.2049\n",
      "Epoch 19/100\n",
      "43/43 [==============================] - 0s 2ms/step - loss: 0.1859 - val_loss: 0.2142\n",
      "Epoch 20/100\n",
      "43/43 [==============================] - 0s 2ms/step - loss: 0.1808 - val_loss: 0.2063\n",
      "Epoch 21/100\n",
      "43/43 [==============================] - 0s 2ms/step - loss: 0.1785 - val_loss: 0.1860\n",
      "Epoch 22/100\n",
      "43/43 [==============================] - 0s 2ms/step - loss: 0.1697 - val_loss: 0.1963\n",
      "Epoch 23/100\n",
      "43/43 [==============================] - 0s 2ms/step - loss: 0.1878 - val_loss: 0.2017\n",
      "Epoch 24/100\n",
      "43/43 [==============================] - 0s 2ms/step - loss: 0.1631 - val_loss: 0.1959\n",
      "Epoch 25/100\n",
      "43/43 [==============================] - 0s 2ms/step - loss: 0.1757 - val_loss: 0.1943\n",
      "Epoch 26/100\n",
      "43/43 [==============================] - 0s 2ms/step - loss: 0.1669 - val_loss: 0.1956\n",
      "Epoch 27/100\n",
      "43/43 [==============================] - 0s 2ms/step - loss: 0.1879 - val_loss: 0.2870\n",
      "Epoch 28/100\n",
      "43/43 [==============================] - 0s 2ms/step - loss: 0.1800 - val_loss: 0.1932\n",
      "Epoch 29/100\n",
      "43/43 [==============================] - 0s 2ms/step - loss: 0.1688 - val_loss: 0.2137\n",
      "Epoch 30/100\n",
      "43/43 [==============================] - 0s 2ms/step - loss: 0.1589 - val_loss: 0.1951\n",
      "Epoch 31/100\n",
      "43/43 [==============================] - 0s 2ms/step - loss: 0.1652 - val_loss: 0.2027\n",
      "Epoch 32/100\n",
      "43/43 [==============================] - 0s 2ms/step - loss: 0.1663 - val_loss: 0.1924\n",
      "Epoch 33/100\n",
      "43/43 [==============================] - 0s 2ms/step - loss: 0.1640 - val_loss: 0.1956\n",
      "Epoch 34/100\n",
      "43/43 [==============================] - 0s 2ms/step - loss: 0.1661 - val_loss: 0.1928\n",
      "Epoch 35/100\n",
      "43/43 [==============================] - 0s 2ms/step - loss: 0.1566 - val_loss: 0.1897\n",
      "Epoch 36/100\n",
      "43/43 [==============================] - 0s 2ms/step - loss: 0.1630 - val_loss: 0.2033\n",
      "Epoch 37/100\n",
      "43/43 [==============================] - 0s 2ms/step - loss: 0.1592 - val_loss: 0.2560\n",
      "Epoch 38/100\n",
      "43/43 [==============================] - 0s 2ms/step - loss: 0.1625 - val_loss: 0.2153\n",
      "Epoch 39/100\n",
      "43/43 [==============================] - 0s 2ms/step - loss: 0.1554 - val_loss: 0.1948\n",
      "Epoch 40/100\n",
      "43/43 [==============================] - 0s 2ms/step - loss: 0.1572 - val_loss: 0.1925\n",
      "Epoch 41/100\n",
      "43/43 [==============================] - 0s 2ms/step - loss: 0.1606 - val_loss: 0.1971\n",
      "Epoch 42/100\n",
      "43/43 [==============================] - 0s 2ms/step - loss: 0.1440 - val_loss: 0.2057\n",
      "Epoch 43/100\n",
      "43/43 [==============================] - 0s 2ms/step - loss: 0.1462 - val_loss: 0.1923\n",
      "Epoch 44/100\n",
      "43/43 [==============================] - 0s 2ms/step - loss: 0.1649 - val_loss: 0.2149\n",
      "Epoch 45/100\n",
      "43/43 [==============================] - 0s 2ms/step - loss: 0.1596 - val_loss: 0.2069\n",
      "Epoch 46/100\n",
      "43/43 [==============================] - 0s 2ms/step - loss: 0.1584 - val_loss: 0.1920\n",
      "Epoch 47/100\n",
      "43/43 [==============================] - 0s 2ms/step - loss: 0.1484 - val_loss: 0.1899\n",
      "Epoch 48/100\n",
      "43/43 [==============================] - 0s 2ms/step - loss: 0.1538 - val_loss: 0.1899\n",
      "Epoch 49/100\n",
      "43/43 [==============================] - 0s 2ms/step - loss: 0.1477 - val_loss: 0.1963\n",
      "Epoch 50/100\n",
      "43/43 [==============================] - 0s 2ms/step - loss: 0.1602 - val_loss: 0.1947\n",
      "Epoch 51/100\n",
      "43/43 [==============================] - 0s 2ms/step - loss: 0.1521 - val_loss: 0.1934\n",
      "Epoch 52/100\n",
      "43/43 [==============================] - 0s 2ms/step - loss: 0.1469 - val_loss: 0.2128\n",
      "Epoch 53/100\n",
      "43/43 [==============================] - 0s 2ms/step - loss: 0.1462 - val_loss: 0.2016\n",
      "Epoch 54/100\n",
      "43/43 [==============================] - 0s 2ms/step - loss: 0.1472 - val_loss: 0.2045\n",
      "Epoch 55/100\n",
      "43/43 [==============================] - 0s 2ms/step - loss: 0.1517 - val_loss: 0.1981\n",
      "Epoch 56/100\n",
      "43/43 [==============================] - 0s 2ms/step - loss: 0.1270 - val_loss: 0.1963\n",
      "Epoch 57/100\n",
      "43/43 [==============================] - 0s 2ms/step - loss: 0.1346 - val_loss: 0.1923\n",
      "Epoch 58/100\n",
      "43/43 [==============================] - 0s 2ms/step - loss: 0.1498 - val_loss: 0.2064\n",
      "Epoch 59/100\n",
      "43/43 [==============================] - 0s 2ms/step - loss: 0.1408 - val_loss: 0.2168\n",
      "Epoch 60/100\n",
      "43/43 [==============================] - 0s 2ms/step - loss: 0.1486 - val_loss: 0.1934\n",
      "Epoch 61/100\n",
      "43/43 [==============================] - 0s 2ms/step - loss: 0.1453 - val_loss: 0.1921\n",
      "Epoch 62/100\n",
      "43/43 [==============================] - 0s 2ms/step - loss: 0.1430 - val_loss: 0.2067\n",
      "Epoch 63/100\n",
      "43/43 [==============================] - 0s 2ms/step - loss: 0.1352 - val_loss: 0.1964\n",
      "Epoch 64/100\n",
      "43/43 [==============================] - 0s 2ms/step - loss: 0.1408 - val_loss: 0.1909\n",
      "Epoch 65/100\n",
      "43/43 [==============================] - 0s 2ms/step - loss: 0.1422 - val_loss: 0.2003\n",
      "Epoch 66/100\n",
      "43/43 [==============================] - 0s 2ms/step - loss: 0.1366 - val_loss: 0.1958\n",
      "Epoch 67/100\n",
      "43/43 [==============================] - 0s 2ms/step - loss: 0.1409 - val_loss: 0.1955\n",
      "Epoch 68/100\n",
      "43/43 [==============================] - 0s 2ms/step - loss: 0.1315 - val_loss: 0.2066\n",
      "Epoch 69/100\n",
      "43/43 [==============================] - 0s 2ms/step - loss: 0.1265 - val_loss: 0.1910\n",
      "Epoch 70/100\n",
      "43/43 [==============================] - 0s 2ms/step - loss: 0.1265 - val_loss: 0.1953\n",
      "Epoch 71/100\n",
      "43/43 [==============================] - 0s 2ms/step - loss: 0.1390 - val_loss: 0.1897\n",
      "Epoch 72/100\n",
      "43/43 [==============================] - 0s 2ms/step - loss: 0.1281 - val_loss: 0.1969\n",
      "Epoch 73/100\n",
      "43/43 [==============================] - 0s 2ms/step - loss: 0.1274 - val_loss: 0.2087\n",
      "Epoch 74/100\n",
      "43/43 [==============================] - 0s 2ms/step - loss: 0.1390 - val_loss: 0.2075\n",
      "Epoch 75/100\n",
      "43/43 [==============================] - 0s 2ms/step - loss: 0.1307 - val_loss: 0.2012\n",
      "Epoch 76/100\n",
      "43/43 [==============================] - 0s 2ms/step - loss: 0.1265 - val_loss: 0.1935\n",
      "Epoch 77/100\n",
      "43/43 [==============================] - 0s 2ms/step - loss: 0.1432 - val_loss: 0.1987\n",
      "Epoch 78/100\n",
      "43/43 [==============================] - 0s 2ms/step - loss: 0.1299 - val_loss: 0.1989\n",
      "Epoch 79/100\n",
      "43/43 [==============================] - 0s 2ms/step - loss: 0.1320 - val_loss: 0.2038\n",
      "Epoch 80/100\n",
      "43/43 [==============================] - 0s 2ms/step - loss: 0.1308 - val_loss: 0.2131\n",
      "Epoch 81/100\n",
      "43/43 [==============================] - 0s 2ms/step - loss: 0.1279 - val_loss: 0.2101\n",
      "Epoch 82/100\n",
      "43/43 [==============================] - 0s 2ms/step - loss: 0.1194 - val_loss: 0.2063\n",
      "Epoch 83/100\n",
      "43/43 [==============================] - 0s 2ms/step - loss: 0.1258 - val_loss: 0.2118\n",
      "Epoch 84/100\n",
      "43/43 [==============================] - 0s 2ms/step - loss: 0.1270 - val_loss: 0.2131\n",
      "Epoch 85/100\n",
      "43/43 [==============================] - 0s 2ms/step - loss: 0.1279 - val_loss: 0.2018\n",
      "Epoch 86/100\n",
      "43/43 [==============================] - 0s 2ms/step - loss: 0.1270 - val_loss: 0.2123\n",
      "Epoch 87/100\n",
      "43/43 [==============================] - 0s 2ms/step - loss: 0.1277 - val_loss: 0.2056\n",
      "Epoch 88/100\n",
      "43/43 [==============================] - 0s 2ms/step - loss: 0.1319 - val_loss: 0.1985\n",
      "Epoch 89/100\n",
      "43/43 [==============================] - 0s 2ms/step - loss: 0.1231 - val_loss: 0.2075\n",
      "Epoch 90/100\n",
      "43/43 [==============================] - 0s 2ms/step - loss: 0.1250 - val_loss: 0.2049\n",
      "Epoch 91/100\n",
      "43/43 [==============================] - 0s 2ms/step - loss: 0.1247 - val_loss: 0.1956\n",
      "Epoch 92/100\n",
      "43/43 [==============================] - 0s 2ms/step - loss: 0.1125 - val_loss: 0.2146\n",
      "Epoch 93/100\n",
      "43/43 [==============================] - 0s 2ms/step - loss: 0.1253 - val_loss: 0.2121\n",
      "Epoch 94/100\n",
      "43/43 [==============================] - 0s 2ms/step - loss: 0.1187 - val_loss: 0.1962\n",
      "Epoch 95/100\n",
      "43/43 [==============================] - 0s 2ms/step - loss: 0.1207 - val_loss: 0.2050\n",
      "Epoch 96/100\n",
      "43/43 [==============================] - 0s 2ms/step - loss: 0.1164 - val_loss: 0.2020\n",
      "Epoch 97/100\n",
      "43/43 [==============================] - 0s 2ms/step - loss: 0.1220 - val_loss: 0.1978\n",
      "Epoch 98/100\n",
      "43/43 [==============================] - 0s 2ms/step - loss: 0.1220 - val_loss: 0.1954\n",
      "Epoch 99/100\n",
      "43/43 [==============================] - 0s 2ms/step - loss: 0.1226 - val_loss: 0.2073\n",
      "Epoch 100/100\n",
      "43/43 [==============================] - 0s 2ms/step - loss: 0.1345 - val_loss: 0.1910\n"
     ]
    }
   ],
   "source": [
    "ANN_model.compile(optimizer='Adam', loss='mean_squared_error')\n",
    "\n",
    "epochs_hist = ANN_model.fit(X_train, y_train, epochs = 100, batch_size = 20, validation_split = 0.2)"
   ]
  },
  {
   "cell_type": "code",
   "execution_count": 79,
   "metadata": {},
   "outputs": [
    {
     "name": "stdout",
     "output_type": "stream",
     "text": [
      "9/9 [==============================] - 0s 1ms/step - loss: 0.1773\n",
      "Accuracy : 0.8227383494377136\n"
     ]
    }
   ],
   "source": [
    "result = ANN_model.evaluate(X_test, y_test)\n",
    "accuracy_ANN = 1 - result\n",
    "print(\"Accuracy : {}\".format(accuracy_ANN))"
   ]
  },
  {
   "cell_type": "code",
   "execution_count": 80,
   "metadata": {},
   "outputs": [
    {
     "data": {
      "text/plain": [
       "dict_keys(['loss', 'val_loss'])"
      ]
     },
     "execution_count": 80,
     "metadata": {},
     "output_type": "execute_result"
    }
   ],
   "source": [
    "epochs_hist.history.keys()"
   ]
  },
  {
   "cell_type": "code",
   "execution_count": 81,
   "metadata": {},
   "outputs": [
    {
     "data": {
      "text/plain": [
       "<matplotlib.legend.Legend at 0x7f67cc185310>"
      ]
     },
     "execution_count": 81,
     "metadata": {},
     "output_type": "execute_result"
    },
    {
     "data": {
      "image/png": "[encoded data removed]",
      "text/plain": [
       "<Figure size 432x288 with 1 Axes>"
      ]
     },
     "metadata": {
      "needs_background": "light"
     },
     "output_type": "display_data"
    }
   ],
   "source": [
    "plt.plot(epochs_hist.history['loss'])\n",
    "plt.plot(epochs_hist.history['val_loss'])\n",
    "plt.title('Model Loss Progress During Training')\n",
    "plt.xlabel('Epoch')\n",
    "plt.ylabel('Training and Validation Loss')\n",
    "plt.legend(['Training Loss', 'Validation Loss'])"
   ]
  },
  {
   "cell_type": "code",
   "execution_count": 82,
   "metadata": {},
   "outputs": [
    {
     "data": {
      "text/plain": [
       "Text(0, 0.5, 'True Values')"
      ]
     },
     "execution_count": 82,
     "metadata": {},
     "output_type": "execute_result"
    },
    {
     "data": {
      "image/png": "[encoded data removed]",
      "text/plain": [
       "<Figure size 432x288 with 1 Axes>"
      ]
     },
     "metadata": {
      "needs_background": "light"
     },
     "output_type": "display_data"
    }
   ],
   "source": [
    "y_predict = ANN_model.predict(X_test)\n",
    "plt.plot(y_test, y_predict, \"^\", color = 'r')\n",
    "plt.xlabel('Model Predictions')\n",
    "plt.ylabel('True Values')\n"
   ]
  },
  {
   "cell_type": "code",
   "execution_count": 83,
   "metadata": {},
   "outputs": [],
   "source": [
    "y_predict_orig = scaler_y.inverse_transform(y_predict)\n",
    "y_test_orig = scaler_y.inverse_transform(y_test)"
   ]
  },
  {
   "cell_type": "code",
   "execution_count": 84,
   "metadata": {},
   "outputs": [
    {
     "data": {
      "text/plain": [
       "Text(0, 0.5, 'True Values')"
      ]
     },
     "execution_count": 84,
     "metadata": {},
     "output_type": "execute_result"
    },
    {
     "data": {
      "image/png": "[encoded data removed]",
      "text/plain": [
       "<Figure size 432x288 with 1 Axes>"
      ]
     },
     "metadata": {
      "needs_background": "light"
     },
     "output_type": "display_data"
    }
   ],
   "source": [
    "plt.plot(y_test_orig, y_predict_orig, \"^\", color = 'r')\n",
    "plt.xlabel('Model Predictions')\n",
    "plt.ylabel('True Values')\n"
   ]
  },
  {
   "cell_type": "code",
   "execution_count": 85,
   "metadata": {},
   "outputs": [
    {
     "name": "stdout",
     "output_type": "stream",
     "text": [
      "RMSE = 5096.706 \n",
      "MSE = 25976412.0 \n",
      "MAE = 3011.5188 \n",
      "R2 = 0.8207946940334111 \n",
      "Adjusted R2 = 0.8152593950074161\n"
     ]
    }
   ],
   "source": [
    "k = X_test.shape[1]\n",
    "n = len(X_test)\n",
    "n\n",
    "\n",
    "from sklearn.metrics import r2_score, mean_squared_error, mean_absolute_error\n",
    "from math import sqrt\n",
    "\n",
    "RMSE = float(format(np.sqrt(mean_squared_error(y_test_orig, y_predict_orig)),'.3f'))\n",
    "MSE = mean_squared_error(y_test_orig, y_predict_orig)\n",
    "MAE = mean_absolute_error(y_test_orig, y_predict_orig)\n",
    "r2 = r2_score(y_test_orig, y_predict_orig)\n",
    "adj_r2 = 1-(1-r2)*(n-1)/(n-k-1)\n",
    "\n",
    "print('RMSE =',RMSE, '\\nMSE =',MSE, '\\nMAE =',MAE, '\\nR2 =', r2, '\\nAdjusted R2 =', adj_r2) "
   ]
  },
  {
   "cell_type": "markdown",
   "metadata": {},
   "source": [
    "MINI CHALLENGE\n",
    "- Experiment with a deeper network with more neurons in the hidden layer\n",
    "- Experiment with no regularization (dropout)"
   ]
  }
 ],
 "metadata": {
  "colab": {
   "collapsed_sections": [],
   "name": "Graduate_Admission_Prediction.ipynb",
   "provenance": [],
   "toc_visible": true
  },
  "instance_type": "ml.t3.medium",
  "kernelspec": {
   "display_name": "Python 3 (Data Science)",
   "language": "python",
   "name": "python3__SAGEMAKER_INTERNAL__arn:aws:sagemaker:us-east-1:081325390199:image/datascience-1.0"
  },
  "language_info": {
   "codemirror_mode": {
    "name": "ipython",
    "version": 3
   },
   "file_extension": ".py",
   "mimetype": "text/x-python",
   "name": "python",
   "nbconvert_exporter": "python",
   "pygments_lexer": "ipython3",
   "version": "3.7.6"
  }
 },
 "nbformat": 4,
 "nbformat_minor": 4
}
